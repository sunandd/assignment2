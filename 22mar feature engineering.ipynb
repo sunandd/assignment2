{
 "cells": [
  {
   "cell_type": "markdown",
   "id": "8ae92f7c-57a5-4d39-9860-99a861bc75be",
   "metadata": {},
   "source": [
    "Q1. Pearson correlation coefficient is a measure of the linear relationship between two variables. Suppose\n",
    "you have collected data on the amount of time students spend studying for an exam and their final exam\n",
    "scores. Calculate the Pearson correlation coefficient between these two variables and interpret the result."
   ]
  },
  {
   "cell_type": "markdown",
   "id": "f7d6f5da-0e8e-441d-ac4a-619f56abe7ac",
   "metadata": {},
   "source": [
    "To calculate the Pearson correlation coefficient between the amount of time students spend studying for an exam and their final exam scores. The Pearson correlation coefficient is calculated using the following formula:\n",
    "\n",
    "r = Σ((x - x̄)(y - ȳ)) / √(Σ(x - x̄)²Σ(y - ȳ)²)\n",
    "\n",
    "where x and y are the two variables being compared (in this case, study time and exam score), x̄ and ȳ are the means of x and y, respectively, and Σ denotes the sum over all data points.\n",
    "\n",
    "The Pearson correlation coefficient ranges from -1 to 1. A value of 1 indicates a perfect positive linear relationship between the two variables, a value of -1 indicates a perfect negative linear relationship, and a value of 0 indicates no linear relationship. The interpretation of the result would depend on the calculated value of the Pearson correlation coefficient."
   ]
  },
  {
   "cell_type": "markdown",
   "id": "03aec821-884b-4267-9966-9d62e2ad8258",
   "metadata": {},
   "source": [
    "Q2. Spearman's rank correlation is a measure of the monotonic relationship between two variables.\n",
    "Suppose you have collected data on the amount of sleep individuals get each night and their overall job\n",
    "satisfaction level on a scale of 1 to 10. Calculate the Spearman's rank correlation between these two\n",
    "variables and interpret the result."
   ]
  },
  {
   "cell_type": "markdown",
   "id": "2892bc6b-485d-4de1-803c-b4787acf019a",
   "metadata": {},
   "source": [
    "To calculate the Spearman’s rank correlation between the amount of sleep individuals get each night and their overall job satisfaction level. The Spearman’s rank correlation is calculated using the following formula:\n",
    "\n",
    "ρ = 1 - ((6Σd²) / (n(n² - 1)))\n",
    "\n",
    "where d is the difference between the ranks of the two variables for each individual, and n is the number of individuals in the dataset.\n",
    "\n",
    "The Spearman’s rank correlation ranges from -1 to 1. A value of 1 indicates a perfect positive monotonic relationship between the two variables, a value of -1 indicates a perfect negative monotonic relationship, and a value of 0 indicates no monotonic relationship. The interpretation of the result would depend on the calculated value of the Spearman’s rank correlation."
   ]
  },
  {
   "cell_type": "markdown",
   "id": "c0370931-b8be-4f6e-b1a3-965eddba4d8c",
   "metadata": {},
   "source": [
    "Q3. Suppose you are conducting a study to examine the relationship between the number of hours of\n",
    "exercise per week and body mass index (BMI) in a sample of adults. You collected data on both variables\n",
    "for 50 participants. Calculate the Pearson correlation coefficient and the Spearman's rank correlation\n",
    "between these two variables and compare the results."
   ]
  },
  {
   "cell_type": "markdown",
   "id": "ec0f2d7b-d180-4909-b502-6bf4aadaf42d",
   "metadata": {},
   "source": [
    "To calculate the Pearson correlation coefficient and the Spearman’s rank correlation between the number of hours of exercise per week and body mass index (BMI) in a sample of adults.\n",
    "\n",
    "The Pearson correlation coefficient measures the linear relationship between two variables, while the Spearman’s rank correlation measures the monotonic relationship between two variables. The formulas for calculating these two correlation coefficients are :\n",
    "\n",
    "Pearson correlation coefficient: r = Σ((x - x̄)(y - ȳ)) / √(Σ(x - x̄)²Σ(y - ȳ)²)\n",
    "\n",
    "Spearman’s rank correlation: ρ = 1 - ((6Σd²) / (n(n² - 1)))\n",
    "\n",
    "where x and y are the two variables being compared (in this case, exercise and BMI), x̄ and ȳ are the means of x and y, respectively, d is the difference between the ranks of the two variables for each individual, n is the number of individuals in the dataset, and Σ denotes the sum over all data points.\n",
    "\n",
    "Once the Pearson correlation coefficient and Spearman’s rank correlation have been calculated, they can be compared to determine whether there is a linear or monotonic relationship between exercise and BMI. If both correlation coefficients are similar in magnitude and direction, this would suggest that there is a linear relationship between exercise and BMI. If the Spearman’s rank correlation is larger in magnitude than the Pearson correlation coefficient, this would suggest that there is a monotonic but not necessarily linear relationship between exercise and BMI."
   ]
  },
  {
   "cell_type": "markdown",
   "id": "4e917f95-be4e-4517-a246-e67bb24e9096",
   "metadata": {},
   "source": [
    "Q4. A researcher is interested in examining the relationship between the number of hours individuals\n",
    "spend watching television per day and their level of physical activity. The researcher collected data on\n",
    "both variables from a sample of 50 participants. Calculate the Pearson correlation coefficient between\n",
    "these two variables."
   ]
  },
  {
   "cell_type": "markdown",
   "id": "f8d820cf-e430-4b06-80d0-d37d4371acd8",
   "metadata": {},
   "source": [
    "To calculate the Pearson correlation coefficient between the number of hours individuals spend watching television per day and their level of physical activity. The Pearson correlation coefficient is calculated using the following formula:\n",
    "\n",
    "r = Σ((x - x̄)(y - ȳ)) / √(Σ(x - x̄)²Σ(y - ȳ)²)\n",
    "\n",
    "where x and y are the two variables being compared (in this case, television watching and physical activity), x̄ and ȳ are the means of x and y, respectively, and Σ denotes the sum over all data points.\n"
   ]
  },
  {
   "cell_type": "markdown",
   "id": "a19dc3e1-798d-4697-b97c-782261b7eb60",
   "metadata": {},
   "source": [
    "Q5. A survey was conducted to examine the relationship between age and preference for a particular\n",
    "brand of soft drink. The survey results are shown below:\n",
    "\n",
    "Age(Years)\n",
    "25 \n",
    "42 \n",
    "37\n",
    "19\n",
    "31\n",
    "28\n",
    "\n",
    "soft drink preference\n",
    "Coke\n",
    "Pepsi\n",
    "Mountain dew\n",
    "Coke\n",
    "Pepsi\n",
    "Coke"
   ]
  },
  {
   "cell_type": "markdown",
   "id": "11d24164-0d47-450f-a477-3d419d77526f",
   "metadata": {},
   "source": [
    "A-"
   ]
  },
  {
   "cell_type": "markdown",
   "id": "94710b4f-c278-444a-90a9-a663be26df7d",
   "metadata": {},
   "source": [
    "Q6. A company is interested in examining the relationship between the number of sales calls made per day\n",
    "and the number of sales made per week. The company collected data on both variables from a sample of\n",
    "30 sales representatives. Calculate the Pearson correlation coefficient between these two variables."
   ]
  },
  {
   "cell_type": "markdown",
   "id": "23506a2c-2df2-4de2-aa1d-783594c54ca7",
   "metadata": {},
   "source": [
    " The Pearson correlation coefficient is calculated using the following formula:\n",
    "\n",
    "r = Σ((x - x̄)(y - ȳ)) / √(Σ(x - x̄)²Σ(y - ȳ)²)\n",
    "\n",
    "where x and y are the two variables being compared (in this case, sales calls and sales), x̄ and ȳ are the means of x and y, respectively, and Σ denotes the sum over all data points.\n",
    "\n",
    "The Pearson correlation coefficient ranges from -1 to 1. A value of 1 indicates a perfect positive linear relationship between the two variables, a value of -1 indicates a perfect negative linear relationship, and a value of 0 indicates no linear relationship. "
   ]
  },
  {
   "cell_type": "code",
   "execution_count": null,
   "id": "16893969-a4e4-41ea-b9c3-2aa67149e494",
   "metadata": {},
   "outputs": [],
   "source": []
  }
 ],
 "metadata": {
  "kernelspec": {
   "display_name": "Python 3 (ipykernel)",
   "language": "python",
   "name": "python3"
  },
  "language_info": {
   "codemirror_mode": {
    "name": "ipython",
    "version": 3
   },
   "file_extension": ".py",
   "mimetype": "text/x-python",
   "name": "python",
   "nbconvert_exporter": "python",
   "pygments_lexer": "ipython3",
   "version": "3.10.8"
  }
 },
 "nbformat": 4,
 "nbformat_minor": 5
}
