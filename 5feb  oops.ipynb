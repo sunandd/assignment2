{
 "cells": [
  {
   "cell_type": "markdown",
   "id": "e319a7e0-221e-497b-a517-751d5cf3d897",
   "metadata": {},
   "source": [
    "User\n",
    "Q1. Explain Class and Object with respect to Object-Oriented Programming. Give a suitable example."
   ]
  },
  {
   "cell_type": "markdown",
   "id": "c5dc711e-05ed-49b6-a22b-9a2ad8447461",
   "metadata": {},
   "source": [
    "\n",
    "In Object-Oriented Programming (OOP), a class is a blueprint or a template for creating objects. It defines a set of attributes (data members) and methods (functions) that the objects instantiated from the class will have. An object, on the other hand, is an instance of a class – it is a concrete realization of the class, with specific values assigned to its attributes."
   ]
  },
  {
   "cell_type": "code",
   "execution_count": 1,
   "id": "652c2857-8c63-4908-8f73-487d41ff3085",
   "metadata": {},
   "outputs": [
    {
     "name": "stdout",
     "output_type": "stream",
     "text": [
      "My car is a 2020 Toyota Camry.\n",
      "The 2020 Toyota Camry is now running.\n",
      "The 2020 Toyota Camry has stopped.\n"
     ]
    }
   ],
   "source": [
    "# Define a class called \"Car\"\n",
    "class Car:\n",
    "    # Constructor method to initialize attributes\n",
    "    def __init__(self, make, model, year):\n",
    "        self.make = make\n",
    "        self.model = model\n",
    "        self.year = year\n",
    "        self.is_running = False\n",
    "\n",
    "    # Method to start the car\n",
    "    def start(self):\n",
    "        self.is_running = True\n",
    "        print(f\"The {self.year} {self.make} {self.model} is now running.\")\n",
    "\n",
    "    # Method to stop the car\n",
    "    def stop(self):\n",
    "        self.is_running = False\n",
    "        print(f\"The {self.year} {self.make} {self.model} has stopped.\")\n",
    "\n",
    "# Create an instance (object) of the Car class\n",
    "my_car = Car(make=\"Toyota\", model=\"Camry\", year=2020)\n",
    "\n",
    "# Access attributes and call methods\n",
    "print(f\"My car is a {my_car.year} {my_car.make} {my_car.model}.\")\n",
    "my_car.start()\n",
    "my_car.stop()\n"
   ]
  },
  {
   "cell_type": "markdown",
   "id": "d57f6526-a33e-455a-8f24-1b8a5c355e44",
   "metadata": {},
   "source": [
    "Q2. Name the four pillars of OOPs."
   ]
  },
  {
   "cell_type": "markdown",
   "id": "6de0925e-2344-44b7-95e9-8e5f4cdf6fa3",
   "metadata": {},
   "source": [
    "The four pillars of Object-Oriented Programming (OOP) are:\n",
    "\n",
    "Encapsulation: This involves bundling the data (attributes) and methods that operate on the data into a single unit, known as a class. Encapsulation helps in hiding the internal details of an object and protecting its state from external interference. It also allows for the implementation of access control to restrict the visibility of certain aspects of the class.\n",
    "\n",
    "Abstraction: Abstraction is the process of simplifying complex systems by modeling classes based on the essential properties and behaviors relevant to the problem at hand. It involves defining the essential features of an object while ignoring the non-essential details. Abstraction helps in managing complexity and focusing on relevant aspects of the objects in a program.\n",
    "\n",
    "Inheritance: Inheritance is a mechanism that allows a new class (subclass or derived class) to inherit attributes and behaviors from an existing class (superclass or base class). This promotes code reusability and establishes a relationship between the classes. The subclass can also extend or override the functionality of the superclass.\n",
    "\n",
    "Polymorphism: Polymorphism allows objects of different classes to be treated as objects of a common base class. It enables a single interface to represent different types of objects and allows a single function or method to work with objects of various types. Polymorphism can be achieved through method overloading (multiple methods with the same name but different parameters) and method overriding (providing a specific implementation for a method in a subclass).\n",
    "\n",
    "These four pillars provide a foundation for building well-organized, modular, and reusable code in object-oriented programming.\n",
    "\n",
    "\n",
    "\n",
    "\n",
    "\n"
   ]
  },
  {
   "cell_type": "markdown",
   "id": "39fa0f4a-8b1c-436f-b3ba-8aad26bc6bbd",
   "metadata": {},
   "source": [
    "Q3. Explain why the __init__() function is used. Give a suitable example."
   ]
  },
  {
   "cell_type": "markdown",
   "id": "ed3a5577-da3c-44e6-ae33-2988727b2c67",
   "metadata": {},
   "source": [
    "\n",
    "In object-oriented programming, the __init__() function is a special method (also known as a constructor) that is automatically called when an object is created from a class. Its primary purpose is to initialize the attributes of the object with values provided as arguments during the object's instantiation. This method allows you to set up the initial state of the object."
   ]
  },
  {
   "cell_type": "code",
   "execution_count": 2,
   "id": "b1df7ed0-db42-4fa1-946b-03a08cef68d8",
   "metadata": {},
   "outputs": [
    {
     "name": "stdout",
     "output_type": "stream",
     "text": [
      "My dog's name is Buddy.\n",
      "Buddy is 3 years old.\n",
      "Buddy is a Labrador.\n",
      "Woof! Woof!\n"
     ]
    }
   ],
   "source": [
    "class Dog:\n",
    "    # The __init__ method initializes the attributes of the object\n",
    "    def __init__(self, name, age, breed):\n",
    "        self.name = name\n",
    "        self.age = age\n",
    "        self.breed = breed\n",
    "        self.is_hungry = True  # A default attribute\n",
    "\n",
    "    # A method to make the dog bark\n",
    "    def bark(self):\n",
    "        print(\"Woof! Woof!\")\n",
    "\n",
    "# Creating an instance of the Dog class and providing values for attributes\n",
    "my_dog = Dog(name=\"Buddy\", age=3, breed=\"Labrador\")\n",
    "\n",
    "# Accessing attributes and calling methods\n",
    "print(f\"My dog's name is {my_dog.name}.\")\n",
    "print(f\"{my_dog.name} is {my_dog.age} years old.\")\n",
    "print(f\"{my_dog.name} is a {my_dog.breed}.\")\n",
    "\n",
    "# Calling the bark method\n",
    "my_dog.bark()\n"
   ]
  },
  {
   "cell_type": "markdown",
   "id": "e0b911e2-c055-4c64-ba98-7f20910ba46f",
   "metadata": {},
   "source": [
    "Q4. Why self is used in OOPs?"
   ]
  },
  {
   "cell_type": "markdown",
   "id": "efff47ae-ae0b-4828-a0e3-521268f97b56",
   "metadata": {},
   "source": [
    "In object-oriented programming (OOP), self is a convention used in various programming languages, such as Python, to refer to the instance of the class itself. It is the first parameter to all instance methods (including the __init__ method) in Python. The use of self is essential for accessing and manipulating instance variables and invoking other methods within the same class.\n",
    "\n",
    "Here are a few reasons why self is used in OOP:\n",
    "\n",
    "Instance-specific Access:\n",
    "\n",
    "self allows instance methods to access and modify the attributes of a specific instance of the class.\n",
    "Without self, the method wouldn't know which instance's attributes to operate on, leading to confusion or errors.\n",
    "Differentiating Instance and Local Variables:\n",
    "\n",
    "Inside a class method, you may have local variables with the same names as instance variables. The use of self helps distinguish between local variables and instance variables.\n",
    "Method Invocation:\n",
    "\n",
    "self is used to invoke other methods within the same class. When calling a method, using self.method_name() ensures that the correct method is called for the instance.\n",
    "Instance Creation:\n",
    "\n",
    "In the __init__ method, which is responsible for initializing object attributes during instance creation, self refers to the newly created instance. It allows setting up the initial state of the object with instance-specific values."
   ]
  },
  {
   "cell_type": "code",
   "execution_count": 3,
   "id": "63c5aba4-50b1-4497-8572-83951d50bc1a",
   "metadata": {},
   "outputs": [
    {
     "name": "stdout",
     "output_type": "stream",
     "text": [
      "Value of x: 10\n"
     ]
    }
   ],
   "source": [
    "class MyClass:\n",
    "    def __init__(self, x):\n",
    "        self.x = x\n",
    "\n",
    "    def print_value(self):\n",
    "        print(f\"Value of x: {self.x}\")\n",
    "\n",
    "# Creating an instance of MyClass\n",
    "obj = MyClass(x=10)\n",
    "\n",
    "# Accessing the attribute and calling the method\n",
    "obj.print_value()\n"
   ]
  },
  {
   "cell_type": "markdown",
   "id": "1264c279-2cb2-4448-a2bf-6a942f1bac3c",
   "metadata": {},
   "source": [
    "Q5. What is inheritance? Give an example for each type of inheritance."
   ]
  },
  {
   "cell_type": "markdown",
   "id": "b5ad0bd9-bced-47ad-a224-af91c2dc8aa7",
   "metadata": {},
   "source": [
    "Inheritance is a fundamental concept in object-oriented programming (OOP) that allows a class (subclass or derived class) to inherit properties and behaviors (attributes and methods) from another class (superclass or base class). This promotes code reusability and establishes a relationship between classes.\n",
    "\n",
    "There are different types of inheritance, including:\n",
    "\n",
    "Single Inheritance:\n",
    "In single inheritance, a class inherits from only one superclass."
   ]
  },
  {
   "cell_type": "code",
   "execution_count": 4,
   "id": "9289547f-0ddd-4d52-a4c6-285db61ee9f8",
   "metadata": {},
   "outputs": [
    {
     "name": "stdout",
     "output_type": "stream",
     "text": [
      "Animal speaks\n",
      "Dog barks\n"
     ]
    }
   ],
   "source": [
    "class Animal:\n",
    "    def speak(self):\n",
    "        print(\"Animal speaks\")\n",
    "\n",
    "class Dog(Animal):\n",
    "    def bark(self):\n",
    "        print(\"Dog barks\")\n",
    "\n",
    "# Example usage\n",
    "my_dog = Dog()\n",
    "my_dog.speak()  # Inherited from Animal class\n",
    "my_dog.bark()\n"
   ]
  },
  {
   "cell_type": "markdown",
   "id": "d1f383a9-5b2c-48dc-8863-01227eadbf95",
   "metadata": {},
   "source": [
    "Multiple Inheritance:\n",
    "In multiple inheritance, a class can inherit from more than one superclass."
   ]
  },
  {
   "cell_type": "code",
   "execution_count": 5,
   "id": "a9a32eb5-dec1-4b12-8915-090d576b66ed",
   "metadata": {},
   "outputs": [
    {
     "name": "stdout",
     "output_type": "stream",
     "text": [
      "Method A from class A\n",
      "Method B from class B\n",
      "Method C from class C\n"
     ]
    }
   ],
   "source": [
    "class A:\n",
    "    def method_A(self):\n",
    "        print(\"Method A from class A\")\n",
    "\n",
    "class B:\n",
    "    def method_B(self):\n",
    "        print(\"Method B from class B\")\n",
    "\n",
    "class C(A, B):\n",
    "    def method_C(self):\n",
    "        print(\"Method C from class C\")\n",
    "\n",
    "# Example usage\n",
    "obj_c = C()\n",
    "obj_c.method_A()\n",
    "obj_c.method_B()\n",
    "obj_c.method_C()\n"
   ]
  },
  {
   "cell_type": "markdown",
   "id": "5618682a-f25f-4680-a723-23e6ca91656d",
   "metadata": {},
   "source": [
    "Multilevel Inheritance:\n",
    "In multilevel inheritance, a class derives from another class, and then another class derives from it."
   ]
  },
  {
   "cell_type": "code",
   "execution_count": 6,
   "id": "16d3a675-c770-4392-9cef-3e8a69791d45",
   "metadata": {},
   "outputs": [
    {
     "name": "stdout",
     "output_type": "stream",
     "text": [
      "Method A from class A\n",
      "Method B from class B\n",
      "Method C from class C\n"
     ]
    }
   ],
   "source": [
    "class A:\n",
    "    def method_A(self):\n",
    "        print(\"Method A from class A\")\n",
    "\n",
    "class B(A):\n",
    "    def method_B(self):\n",
    "        print(\"Method B from class B\")\n",
    "\n",
    "class C(B):\n",
    "    def method_C(self):\n",
    "        print(\"Method C from class C\")\n",
    "\n",
    "# Example usage\n",
    "obj_c = C()\n",
    "obj_c.method_A()\n",
    "obj_c.method_B()\n",
    "obj_c.method_C()\n"
   ]
  },
  {
   "cell_type": "markdown",
   "id": "0510b1a7-99a8-479b-94f1-066fcac484ef",
   "metadata": {},
   "source": [
    "Hierarchical Inheritance:\n",
    "In hierarchical inheritance, multiple classes inherit from a single superclass."
   ]
  },
  {
   "cell_type": "code",
   "execution_count": 7,
   "id": "2b92c354-bef3-4adc-a69e-2a69ec68cb99",
   "metadata": {},
   "outputs": [
    {
     "name": "stdout",
     "output_type": "stream",
     "text": [
      "Animal speaks\n",
      "Dog barks\n",
      "Animal speaks\n",
      "Cat meows\n"
     ]
    }
   ],
   "source": [
    "class Animal:\n",
    "    def speak(self):\n",
    "        print(\"Animal speaks\")\n",
    "\n",
    "class Dog(Animal):\n",
    "    def bark(self):\n",
    "        print(\"Dog barks\")\n",
    "\n",
    "class Cat(Animal):\n",
    "    def meow(self):\n",
    "        print(\"Cat meows\")\n",
    "\n",
    "# Example usage\n",
    "my_dog = Dog()\n",
    "my_cat = Cat()\n",
    "my_dog.speak()  # Inherited from Animal class\n",
    "my_dog.bark()\n",
    "my_cat.speak()  # Inherited from Animal class\n",
    "my_cat.meow()\n"
   ]
  },
  {
   "cell_type": "code",
   "execution_count": null,
   "id": "0404cb31-9a42-4b5b-866d-d4f5e0849248",
   "metadata": {},
   "outputs": [],
   "source": []
  }
 ],
 "metadata": {
  "kernelspec": {
   "display_name": "Python 3 (ipykernel)",
   "language": "python",
   "name": "python3"
  },
  "language_info": {
   "codemirror_mode": {
    "name": "ipython",
    "version": 3
   },
   "file_extension": ".py",
   "mimetype": "text/x-python",
   "name": "python",
   "nbconvert_exporter": "python",
   "pygments_lexer": "ipython3",
   "version": "3.10.8"
  }
 },
 "nbformat": 4,
 "nbformat_minor": 5
}
