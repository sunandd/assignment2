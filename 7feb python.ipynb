{
 "cells": [
  {
   "cell_type": "markdown",
   "id": "54349c44-f0a4-4158-b13c-d13f1d1126c3",
   "metadata": {},
   "source": [
    "Q1. You are writing code for a company. The requirement of the company is that you create a python\n",
    "function that will check whether the password entered by the user is correct or not. The function should\n",
    "take the password as input and return the string “Valid Password” if the entered password follows the\n",
    "below-given password guidelines else it should return “Invalid Password”.\n",
    "Note: 1. The Password should contain at least two uppercase letters and at least two lowercase letters."
   ]
  },
  {
   "cell_type": "code",
   "execution_count": 1,
   "id": "f579674a-3032-489c-b7f6-bc0267543801",
   "metadata": {},
   "outputs": [
    {
     "name": "stdin",
     "output_type": "stream",
     "text": [
      "Enter your password:  sunand\n"
     ]
    },
    {
     "name": "stdout",
     "output_type": "stream",
     "text": [
      "Invalid Password\n"
     ]
    }
   ],
   "source": [
    "def check_password(password):\n",
    "    # Count the number of uppercase and lowercase letters in the password\n",
    "    uppercase_count = sum(1 for char in password if char.isupper())\n",
    "    lowercase_count = sum(1 for char in password if char.islower())\n",
    "\n",
    "    # Check if the password meets the criteria\n",
    "    if uppercase_count >= 2 and lowercase_count >= 2:\n",
    "        return \"Valid Password\"\n",
    "    else:\n",
    "        return \"Invalid Password\"\n",
    "\n",
    "# Example usage:\n",
    "user_password = input(\"Enter your password: \")\n",
    "result = check_password(user_password)\n",
    "print(result)\n"
   ]
  },
  {
   "cell_type": "markdown",
   "id": "ae263d8a-964b-451f-a7f5-668bf3c03e09",
   "metadata": {},
   "source": [
    "This function counts the number of uppercase and lowercase letters in the given password and checks if both counts are at least 2. If the conditions are met, it returns \"Valid Password\"; otherwise, it returns \"Invalid Password\"."
   ]
  },
  {
   "cell_type": "markdown",
   "id": "8dfa1310-d428-434c-8aaf-7e4cf307c213",
   "metadata": {},
   "source": [
    "2. The Password should contain at least a number and three special characters."
   ]
  },
  {
   "cell_type": "code",
   "execution_count": 3,
   "id": "67d37587-1dda-468e-be49-c603e0d1ee33",
   "metadata": {},
   "outputs": [
    {
     "name": "stdin",
     "output_type": "stream",
     "text": [
      "Enter your password:  sj12@@#\n"
     ]
    },
    {
     "name": "stdout",
     "output_type": "stream",
     "text": [
      "Invalid Password\n"
     ]
    }
   ],
   "source": [
    "import string\n",
    "\n",
    "def check_password(password):\n",
    "    # Count the number of uppercase, lowercase letters, digits, and special characters in the password\n",
    "    uppercase_count = sum(1 for char in password if char.isupper())\n",
    "    lowercase_count = sum(1 for char in password if char.islower())\n",
    "    digit_count = sum(1 for char in password if char.isdigit())\n",
    "    special_count = sum(1 for char in password if char in string.punctuation)\n",
    "\n",
    "    # Check if the password meets the criteria\n",
    "    if uppercase_count >= 2 and lowercase_count >= 2 and digit_count >= 1 and special_count >= 3:\n",
    "        return \"Valid Password\"\n",
    "    else:\n",
    "        return \"Invalid Password\"\n",
    "\n",
    "# Example usage:\n",
    "user_password = input(\"Enter your password: \")\n",
    "result = check_password(user_password)\n",
    "print(result)\n"
   ]
  },
  {
   "cell_type": "markdown",
   "id": "e0eadab6-3e47-4a13-80d2-9b319c971568",
   "metadata": {},
   "source": [
    "Now, the function checks for at least two uppercase letters, two lowercase letters, at least one digit, and at least three special characters. Adjustments were made to include the isdigit() method for counting digits and to use the string.punctuation module to identify special characters."
   ]
  },
  {
   "cell_type": "markdown",
   "id": "9b45bc03-2643-4009-afcb-2ed081582564",
   "metadata": {},
   "source": [
    "3. The length of the password should be 10 characters long."
   ]
  },
  {
   "cell_type": "code",
   "execution_count": 4,
   "id": "a7045832-1cff-425a-9671-4d005cecab73",
   "metadata": {},
   "outputs": [
    {
     "name": "stdin",
     "output_type": "stream",
     "text": [
      "Enter your password:  sunandaaaaa\n"
     ]
    },
    {
     "name": "stdout",
     "output_type": "stream",
     "text": [
      "Invalid Password\n"
     ]
    }
   ],
   "source": [
    "import string\n",
    "\n",
    "def check_password(password):\n",
    "    # Count the number of uppercase, lowercase letters, digits, and special characters in the password\n",
    "    uppercase_count = sum(1 for char in password if char.isupper())\n",
    "    lowercase_count = sum(1 for char in password if char.islower())\n",
    "    digit_count = sum(1 for char in password if char.isdigit())\n",
    "    special_count = sum(1 for char in password if char in string.punctuation)\n",
    "\n",
    "    # Check if the password meets the criteria\n",
    "    if len(password) == 10 and uppercase_count >= 2 and lowercase_count >= 2 and digit_count >= 1 and special_count >= 3:\n",
    "        return \"Valid Password\"\n",
    "    else:\n",
    "        return \"Invalid Password\"\n",
    "\n",
    "# Example usage:\n",
    "user_password = input(\"Enter your password: \")\n",
    "result = check_password(user_password)\n",
    "print(result)\n"
   ]
  },
  {
   "cell_type": "markdown",
   "id": "5ba3a534-d4b2-42e7-8105-3903179dbb34",
   "metadata": {},
   "source": [
    "Now, the function includes an additional check for the length of the password to be exactly 10 characters. If any of the criteria (length, uppercase, lowercase, digit, or special characters) is not met, the function returns \"Invalid Password.\n",
    "\n",
    "\n",
    "\n",
    "\n",
    "\n"
   ]
  },
  {
   "cell_type": "markdown",
   "id": "002b9458-7121-4a1d-b92f-dceb51d92d1d",
   "metadata": {},
   "source": [
    "Q2. Solve the below-given questions using at least one of the following:\n",
    "1. Lambda functioJ\n",
    "2. Filter functioJ\n",
    "3. Zap functioJ\n",
    "4. List ComprehensioI\n",
    "B Check if the string starts with a particular letterY\n",
    "B Check if the string is numericY\n",
    "B Sort a list of tuples having fruit names and their quantity. [(\"mango\",99),(\"orange\",80), (\"grapes\", 1000)-\n",
    "B Find the squares of numbers from 1 to 10Y\n",
    "B Find the cube root of numbers from 1 to 10Y\n",
    "B Check if a given number is evenY\n",
    "B Filter odd numbers from the given list.\n",
    "[1,2,3,4,5,6,7,8,9,10-\n",
    "B Sort a list of integers into positive and negative integers lists.\n",
    "[1,2,3,4,5,6,-1,-2,-3,-4,-5,0]"
   ]
  },
  {
   "cell_type": "code",
   "execution_count": 20,
   "id": "760383cb-0dbb-4d6e-aa17-7784c6500cbe",
   "metadata": {},
   "outputs": [],
   "source": [
    "#Check if the string starts with a particular letter"
   ]
  },
  {
   "cell_type": "code",
   "execution_count": 5,
   "id": "c6fb226d-08c6-47f1-acc1-52e590dc4ab2",
   "metadata": {},
   "outputs": [
    {
     "name": "stdout",
     "output_type": "stream",
     "text": [
      "['apple']\n"
     ]
    }
   ],
   "source": [
    "string_list = [\"apple\", \"banana\", \"cherry\", \"orange\"]\n",
    "letter_to_check = \"a\"\n",
    "\n",
    "result = list(filter(lambda s: s.startswith(letter_to_check), string_list))\n",
    "print(result)\n"
   ]
  },
  {
   "cell_type": "code",
   "execution_count": 6,
   "id": "c684ef4a-00bd-41c1-8ea6-c8d9f55a8512",
   "metadata": {},
   "outputs": [],
   "source": [
    "#check the string is numoric"
   ]
  },
  {
   "cell_type": "code",
   "execution_count": 7,
   "id": "b3e110e8-bcd8-46ab-be88-d28428f6a577",
   "metadata": {},
   "outputs": [
    {
     "name": "stdout",
     "output_type": "stream",
     "text": [
      "True\n"
     ]
    }
   ],
   "source": [
    "string_to_check = \"12345\"\n",
    "\n",
    "is_numeric = lambda s: s.isnumeric()\n",
    "result = is_numeric(string_to_check)\n",
    "print(result)\n"
   ]
  },
  {
   "cell_type": "code",
   "execution_count": 8,
   "id": "451bb595-86b4-48a3-a9c9-87edbc6881d7",
   "metadata": {},
   "outputs": [],
   "source": [
    "#Sort a list of tuples having fruit names and their quantity"
   ]
  },
  {
   "cell_type": "code",
   "execution_count": 9,
   "id": "6cadeab2-f8a4-4132-b560-5102593ce559",
   "metadata": {},
   "outputs": [
    {
     "name": "stdout",
     "output_type": "stream",
     "text": [
      "[('orange', 80), ('mango', 99), ('grapes', 1000)]\n"
     ]
    }
   ],
   "source": [
    "fruit_list = [(\"mango\", 99), (\"orange\", 80), (\"grapes\", 1000)]\n",
    "\n",
    "sorted_fruit_list = sorted(fruit_list, key=lambda x: x[1])\n",
    "print(sorted_fruit_list)\n"
   ]
  },
  {
   "cell_type": "code",
   "execution_count": 10,
   "id": "273a26c3-519f-42cb-a718-1a26be859df0",
   "metadata": {},
   "outputs": [],
   "source": [
    "#Find the squares of numbers from 1 to 10"
   ]
  },
  {
   "cell_type": "code",
   "execution_count": 11,
   "id": "b7d4df31-11a7-490c-8451-d888ea189138",
   "metadata": {},
   "outputs": [
    {
     "name": "stdout",
     "output_type": "stream",
     "text": [
      "[1, 4, 9, 16, 25, 36, 49, 64, 81, 100]\n"
     ]
    }
   ],
   "source": [
    "squares = [x**2 for x in range(1, 11)]\n",
    "print(squares)\n"
   ]
  },
  {
   "cell_type": "code",
   "execution_count": 12,
   "id": "1551653b-8416-4f1d-af4d-edbd17203819",
   "metadata": {},
   "outputs": [],
   "source": [
    "#Find the cube root of numbers from 1 to 10"
   ]
  },
  {
   "cell_type": "code",
   "execution_count": 13,
   "id": "ea516801-905c-42b2-90ac-fd533ed2d991",
   "metadata": {},
   "outputs": [
    {
     "name": "stdout",
     "output_type": "stream",
     "text": [
      "[1.0, 1.2599210498948732, 1.4422495703074083, 1.5874010519681994, 1.7099759466766968, 1.8171205928321397, 1.912931182772389, 2.0, 2.080083823051904, 2.154434690031884]\n"
     ]
    }
   ],
   "source": [
    "import math\n",
    "\n",
    "cube_roots = [math.pow(x, 1/3) for x in range(1, 11)]\n",
    "print(cube_roots)\n"
   ]
  },
  {
   "cell_type": "code",
   "execution_count": 14,
   "id": "b31af3db-bb8e-4143-83dd-f8ef5439df0b",
   "metadata": {},
   "outputs": [],
   "source": [
    "#Check if a given number is even"
   ]
  },
  {
   "cell_type": "code",
   "execution_count": 15,
   "id": "98989dcc-ce58-49cd-ae2f-d46c71447777",
   "metadata": {},
   "outputs": [
    {
     "name": "stdout",
     "output_type": "stream",
     "text": [
      "True\n"
     ]
    }
   ],
   "source": [
    "number_to_check = 8\n",
    "\n",
    "is_even = lambda x: x % 2 == 0\n",
    "result = is_even(number_to_check)\n",
    "print(result)\n"
   ]
  },
  {
   "cell_type": "code",
   "execution_count": 16,
   "id": "617c35a4-5f82-4b4f-b202-cb1b08398ccc",
   "metadata": {},
   "outputs": [],
   "source": [
    "#Filter odd numbers from the given list"
   ]
  },
  {
   "cell_type": "code",
   "execution_count": 17,
   "id": "c1f2ac5a-ad3c-49f6-912d-76c2b6d68f3a",
   "metadata": {},
   "outputs": [
    {
     "name": "stdout",
     "output_type": "stream",
     "text": [
      "[1, 3, 5, 7, 9]\n"
     ]
    }
   ],
   "source": [
    "numbers = [1, 2, 3, 4, 5, 6, 7, 8, 9, 10]\n",
    "\n",
    "odd_numbers = list(filter(lambda x: x % 2 != 0, numbers))\n",
    "print(odd_numbers)\n"
   ]
  },
  {
   "cell_type": "code",
   "execution_count": 18,
   "id": "e6af497d-e769-401d-adf1-2b71ce8017f1",
   "metadata": {},
   "outputs": [],
   "source": [
    "#Sort a list of integers into positive and negative integers lists"
   ]
  },
  {
   "cell_type": "code",
   "execution_count": 19,
   "id": "1daeb4f2-ce3a-4e75-89c5-bbe3db22c7d9",
   "metadata": {},
   "outputs": [
    {
     "name": "stdout",
     "output_type": "stream",
     "text": [
      "Positive Numbers: [1, 2, 3, 4, 5, 6]\n",
      "Negative Numbers: [-1, -2, -3, -4, -5]\n"
     ]
    }
   ],
   "source": [
    "numbers_list = [1, 2, 3, 4, 5, 6, -1, -2, -3, -4, -5, 0]\n",
    "\n",
    "positive_numbers = [x for x in numbers_list if x > 0]\n",
    "negative_numbers = [x for x in numbers_list if x < 0]\n",
    "\n",
    "print(\"Positive Numbers:\", positive_numbers)\n",
    "print(\"Negative Numbers:\", negative_numbers)\n"
   ]
  },
  {
   "cell_type": "code",
   "execution_count": null,
   "id": "14dbc445-1f34-4b03-897e-ba5e3070ebc3",
   "metadata": {},
   "outputs": [],
   "source": []
  }
 ],
 "metadata": {
  "kernelspec": {
   "display_name": "Python 3 (ipykernel)",
   "language": "python",
   "name": "python3"
  },
  "language_info": {
   "codemirror_mode": {
    "name": "ipython",
    "version": 3
   },
   "file_extension": ".py",
   "mimetype": "text/x-python",
   "name": "python",
   "nbconvert_exporter": "python",
   "pygments_lexer": "ipython3",
   "version": "3.10.8"
  }
 },
 "nbformat": 4,
 "nbformat_minor": 5
}
