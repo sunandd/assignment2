{
 "cells": [
  {
   "cell_type": "markdown",
   "id": "4e512682-322a-498f-bc53-1d53845b75e9",
   "metadata": {},
   "source": [
    "Q1. What is the Probability density function?"
   ]
  },
  {
   "cell_type": "markdown",
   "id": "a6a9e339-b528-4636-b820-b2688faa0d4c",
   "metadata": {},
   "source": [
    "The Probability Density Function (PDF) is a fundamental concept in probability theory and statistics. It is used to describe the likelihood of a continuous random variable taking on a specific value within a given range. In simpler terms, the PDF provides a way to quantify how the values of a continuous random variable are distributed across its possible range."
   ]
  },
  {
   "cell_type": "markdown",
   "id": "9d89a820-012e-4510-9083-d5a816b8b7ee",
   "metadata": {},
   "source": [
    "Q2. What are the types of Probability distribution?"
   ]
  },
  {
   "cell_type": "markdown",
   "id": "c6caea83-860b-430e-a8e4-9a3cf66a8e13",
   "metadata": {},
   "source": [
    "There are several types of probability distributions, each of which describes how the probabilities of different outcomes are distributed in various scenarios. The two main categories of probability distributions are discrete and continuous distributions. Here are some common examples of each type:\n",
    "\n",
    "**Discrete Probability Distributions:**\n",
    "1. **Bernoulli Distribution**: Models a binary outcome, like success or failure, with a single trial. It has two possible outcomes and is characterized by a single parameter \\(p\\), the probability of success.\n",
    "\n",
    "2. **Binomial Distribution**: Represents the number of successes in a fixed number of independent Bernoulli trials. It's defined by two parameters: \\(n\\) (number of trials) and \\(p\\) (probability of success in each trial).\n",
    "\n",
    "3. **Poisson Distribution**: Describes the number of events occurring in a fixed interval of time or space. It's often used for rare events and is characterized by a single parameter \\(\\lambda\\), the average rate of occurrence.\n",
    "\n",
    "4. **Geometric Distribution**: Models the number of trials needed for the first success in a sequence of independent Bernoulli trials, where each trial has probability \\(p\\) of success.\n",
    "\n",
    "**Continuous Probability Distributions:**\n",
    "1. **Normal (Gaussian) Distribution**: One of the most well-known distributions, it's characterized by its bell-shaped curve. It's widely used due to the central limit theorem and is described by two parameters: mean (\\(\\mu\\)) and standard deviation (\\(\\sigma\\)).\n",
    "\n",
    "2. **Exponential Distribution**: Represents the time between events in a Poisson process, where events occur continuously and independently at a constant average rate. It's characterized by the parameter \\(\\lambda\\), the rate of occurrence.\n",
    "\n",
    "3. **Uniform Distribution**: All values in the interval have equal probability. It's characterized by two parameters: the minimum and maximum values of the interval.\n",
    "\n",
    "4. **Gamma Distribution**: A generalization of the exponential distribution, it's used to model time until a certain number of events happen. It has two parameters: shape (\\(k\\)) and scale (\\(\\theta\\)).\n",
    "\n",
    "5. **Beta Distribution**: Used to model random variables that have values between 0 and 1, such as probabilities. It's characterized by two parameters that determine its shape.\n",
    "\n",
    "6. **Chi-Squared Distribution**: Often used in hypothesis testing and confidence interval calculations. It's the distribution of the sum of the squares of independent standard normal random variables.\n",
    "\n",
    "7. **T-Distribution**: Used in hypothesis testing when the sample size is small and the population standard deviation is unknown. It's characterized by its degrees of freedom.\n",
    "\n",
    "8. **F-Distribution**: Arises in the analysis of variance and is used in hypothesis testing when comparing variances of multiple samples. It's characterized by two sets of degrees of freedom.\n"
   ]
  },
  {
   "cell_type": "markdown",
   "id": "c530d3b4-f902-4912-b612-3e152c189ac0",
   "metadata": {},
   "source": [
    "Q3. Write a Python function to calculate the probability density function of a normal distribution with\n",
    "given mean and standard deviation at a given point."
   ]
  },
  {
   "cell_type": "code",
   "execution_count": 1,
   "id": "0923e026-a090-4c08-b5d6-f085f7c608ab",
   "metadata": {},
   "outputs": [
    {
     "name": "stdout",
     "output_type": "stream",
     "text": [
      "PDF at x = 0.5: 0.3520653267642995\n"
     ]
    }
   ],
   "source": [
    "import math\n",
    "\n",
    "def normal_pdf(x, mean, std_dev):\n",
    "    \"\"\"\n",
    "    Calculate the probability density function (PDF) of a normal distribution at a given point.\n",
    "    \n",
    "    Args:\n",
    "        x (float): The point at which to evaluate the PDF.\n",
    "        mean (float): The mean of the normal distribution.\n",
    "        std_dev (float): The standard deviation of the normal distribution.\n",
    "        \n",
    "    Returns:\n",
    "        float: The PDF value at the given point.\n",
    "    \"\"\"\n",
    "    coefficient = 1 / (std_dev * math.sqrt(2 * math.pi))\n",
    "    exponent = -((x - mean)**2) / (2 * std_dev**2)\n",
    "    pdf_value = coefficient * math.exp(exponent)\n",
    "    return pdf_value\n",
    "\n",
    "# Example usage\n",
    "mean = 0\n",
    "std_dev = 1\n",
    "x_value = 0.5\n",
    "pdf_at_x = normal_pdf(x_value, mean, std_dev)\n",
    "print(f\"PDF at x = {x_value}: {pdf_at_x}\")\n"
   ]
  },
  {
   "cell_type": "markdown",
   "id": "670fae1b-b705-49f2-8ae7-c5237dd2caa5",
   "metadata": {},
   "source": [
    "Q4. What are the properties of Binomial distribution? Give two examples of events where binomial\n",
    "distribution can be applied."
   ]
  },
  {
   "cell_type": "markdown",
   "id": "8d42e3ef-5650-42cd-9d10-70ee389dfa89",
   "metadata": {},
   "source": [
    "The Binomial distribution is a discrete probability distribution that describes the number of successes in a fixed number of independent Bernoulli trials. It has several properties:\n",
    "\n",
    "1. **Fixed Number of Trials**: The Binomial distribution applies when there is a fixed number (\\(n\\)) of independent trials, each with the same probability of success (\\(p\\)).\n",
    "\n",
    "2. **Two Possible Outcomes**: Each trial has two possible outcomes: success (with probability \\(p\\)) or failure (with probability \\(1 - p\\)).\n",
    "\n",
    "3. **Independence**: Each trial is assumed to be independent of the others, meaning that the outcome of one trial doesn't affect the outcome of the others.\n",
    "\n",
    "4. **Discreteness**: The Binomial distribution is discrete, meaning that it deals with whole numbers (non-negative integers).\n",
    "\n",
    "5. **Parameters**: The distribution is characterized by two parameters: \\(n\\), the number of trials, and \\(p\\), the probability of success in each trial.\n",
    "\n",
    "6. **Probability Mass Function (PMF)**: The probability mass function of the Binomial distribution gives the probability of getting \\(k\\) successes in \\(n\\) trials. It's given by: \\[P(X = k) = \\binom{n}{k} \\cdot p^k \\cdot (1 - p)^{n - k}\\], where \\(\\binom{n}{k}\\) represents the binomial coefficient.\n",
    "\n",
    "Examples of events where the Binomial distribution can be applied:\n",
    "\n",
    "1. **Coin Flips**: The classic example of a Binomial distribution is when flipping a coin multiple times. Each flip is a Bernoulli trial with two possible outcomes: heads (success) or tails (failure). If you flip a coin 10 times and want to find the probability of getting exactly 3 heads, you can use the Binomial distribution.\n",
    "\n",
    "2. **Quality Control**: Consider a factory producing light bulbs. Each bulb might be defective (failure) with a certain probability \\(p\\) or not defective (success) with probability \\(1 - p\\). If you randomly select \\(n\\) bulbs from the production line, the number of defective bulbs among the selected ones follows a Binomial distribution. This distribution can be used to analyze quality control and estimate the likelihood of a certain number of defective bulbs in a sample.\n",
    "\n",
    "In both of these examples, there are a fixed number of trials (coin flips or bulb selections), two possible outcomes (success or failure), and the trials are assumed to be independent. These properties make the Binomial distribution applicable to scenarios involving repeated trials with a binary outcome."
   ]
  },
  {
   "cell_type": "markdown",
   "id": "34d7fcb7-b00e-4f9a-85c8-c191c2cdbbe2",
   "metadata": {},
   "source": [
    "Q5. Generate a random sample of size 1000 from a binomial distribution with probability of success 0.4\n",
    "and plot a histogram of the results using matplotlib."
   ]
  },
  {
   "cell_type": "code",
   "execution_count": 3,
   "id": "62b9779b-00cd-41eb-a631-01f5e436ddad",
   "metadata": {},
   "outputs": [
    {
     "data": {
      "image/png": "[encoded data removed]",
      "text/plain": [
       "<Figure size 800x600 with 1 Axes>"
      ]
     },
     "metadata": {},
     "output_type": "display_data"
    }
   ],
   "source": [
    "import numpy as np\n",
    "import matplotlib.pyplot as plt\n",
    "\n",
    "# Parameters\n",
    "sample_size = 1000\n",
    "p_success = 0.4\n",
    "n_trials = 1  # Since we're generating a single trial for each data point\n",
    "\n",
    "# Generate random sample\n",
    "binomial_sample = np.random.binomial(n_trials, p_success, sample_size)\n",
    "\n",
    "# Plot histogram\n",
    "plt.figure(figsize=(8, 6))\n",
    "plt.hist(binomial_sample, bins=20, density=True, color='blue', alpha=0.7)\n",
    "\n",
    "# Add labels and title\n",
    "plt.xlabel('Number of Successes')\n",
    "plt.ylabel('Probability Density')\n",
    "plt.title('Histogram of Binomial Distribution')\n",
    "\n",
    "plt.grid(True)\n",
    "plt.show()\n"
   ]
  },
  {
   "cell_type": "markdown",
   "id": "0e192b13-53ff-443b-9fe1-109931170b9e",
   "metadata": {},
   "source": [
    "Q6. Write a Python function to calculate the cumulative distribution function of a Poisson distribution\n",
    "with given mean at a given point."
   ]
  },
  {
   "cell_type": "code",
   "execution_count": 4,
   "id": "01c9e318-e201-4737-9626-5ab4996ed7d2",
   "metadata": {},
   "outputs": [
    {
     "name": "stdout",
     "output_type": "stream",
     "text": [
      "CDF at 2 for Poisson(mean=3): 0.42319008112684364\n"
     ]
    }
   ],
   "source": [
    "from scipy.stats import poisson\n",
    "\n",
    "def poisson_cdf(mean, point):\n",
    "    return poisson.cdf(point, mu=mean)\n",
    "\n",
    "# Example usage\n",
    "mean = 3\n",
    "point = 2\n",
    "cdf_value = poisson_cdf(mean, point)\n",
    "print(f\"CDF at {point} for Poisson(mean={mean}): {cdf_value}\")\n"
   ]
  },
  {
   "cell_type": "markdown",
   "id": "7f539c5d-c66c-4e61-aa5a-2a6831b35026",
   "metadata": {},
   "source": [
    "Q7. How Binomial distribution different from Poisson distribution?"
   ]
  },
  {
   "cell_type": "markdown",
   "id": "527065a1-a059-4615-9965-c018736765a7",
   "metadata": {},
   "source": [
    "The binomial distribution and the Poisson distribution are both probability distributions that describe the number of events or occurrences within a certain interval or set of trials. However, they are used in different contexts and have distinct characteristics:\n",
    "\n",
    "1. **Nature of Events:**\n",
    "   **Binomial Distribution:** This distribution is used when there are a fixed number of trials or events (usually denoted as \"n\"), and each trial can result in one of two outcomes (usually denoted as \"success\" or \"failure\"). The events are independent and have a constant probability of success.\n",
    "   \n",
    "   **Poisson Distribution:** This distribution is used to model the number of rare events occurring in a fixed interval of time or space. It assumes that the events are independent and occur randomly, and their average rate is constant across the interval.\n",
    "\n",
    "2. **Number of Trials/Events:**\n",
    "   **Binomial Distribution:** The number of trials or events is fixed and finite (n).\n",
    "   \n",
    "   **Poisson Distribution:** The number of events can be any non-negative integer, including infinity.\n",
    "\n",
    "3. **Parameters:**\n",
    "   **Binomial Distribution:** It requires two parameters: the number of trials (n) and the probability of success (p) in each trial.\n",
    "   \n",
    "   **Poisson Distribution:** It requires one parameter: the average rate or mean number of events (λ) occurring in the given interval.\n",
    "\n",
    "4. **Applicability:**\n",
    "   **Binomial Distribution:** Used when there are a fixed number of trials and each trial is independent and has the same probability of success. Commonly used to model situations like coin flips, where there are two possible outcomes.\n",
    "   \n",
    "   **Poisson Distribution:** Used when dealing with rare events that occur randomly in time or space, such as the number of phone calls received at a call center in a given hour.\n",
    "\n",
    "5. **Shape and Variance:**\n",
    "   **Binomial Distribution:** The shape of the distribution becomes more bell-shaped as the number of trials increases. The variance of the distribution depends on both the number of trials and the probability of success.\n",
    "   \n",
    "   **Poisson Distribution:** The shape of the distribution becomes more symmetric and bell-shaped as the average rate increases. The variance of the distribution is equal to the mean (λ).\n",
    "\n",
    "In summary, the key difference between the binomial distribution and the Poisson distribution lies in the nature of the events being modeled and the assumptions associated with each distribution. The binomial distribution is used for a fixed number of trials with two outcomes, while the Poisson distribution is used for modeling rare and random events occurring in a fixed interval."
   ]
  },
  {
   "cell_type": "markdown",
   "id": "fa678dbe-b4a0-4f5d-8a7b-0ae745bdcd64",
   "metadata": {},
   "source": [
    "Q8. Generate a random sample of size 1000 from a Poisson distribution with mean 5 and calculate the\n",
    "sample mean and variance."
   ]
  },
  {
   "cell_type": "code",
   "execution_count": 5,
   "id": "88fda31f-4397-44f3-98a7-b3d9e65eabd4",
   "metadata": {},
   "outputs": [
    {
     "name": "stdout",
     "output_type": "stream",
     "text": [
      "Sample Mean: 5.031\n",
      "Sample Variance: 5.3440389999999995\n"
     ]
    }
   ],
   "source": [
    "import numpy as np\n",
    "\n",
    "# Parameters\n",
    "mean = 5\n",
    "sample_size = 1000\n",
    "\n",
    "# Generate random sample from Poisson distribution\n",
    "random_sample = np.random.poisson(mean, size=sample_size)\n",
    "\n",
    "# Calculate sample mean and variance\n",
    "sample_mean = np.mean(random_sample)\n",
    "sample_variance = np.var(random_sample)\n",
    "\n",
    "print(f\"Sample Mean: {sample_mean}\")\n",
    "print(f\"Sample Variance: {sample_variance}\")\n"
   ]
  },
  {
   "cell_type": "markdown",
   "id": "06897343-625b-432b-b0a2-2ff00783bbf7",
   "metadata": {},
   "source": [
    "Q9. How mean and variance are related in Binomial distribution and Poisson distribution?"
   ]
  },
  {
   "cell_type": "markdown",
   "id": "40e682d6-c20c-4c74-9983-71f550344928",
   "metadata": {},
   "source": [
    "The relationship between mean and variance in the binomial and Poisson distributions differs due to their respective characteristics and underlying assumptions.\n",
    "\n",
    "**Binomial Distribution:**\n",
    "For a binomial distribution, if you have a fixed number of trials (n) and a probability of success (p) for each trial, the mean (μ) and variance (σ²) are related as follows:\n",
    "\n",
    "Mean (μ) = n * p\n",
    "Variance (σ²) = n * p * (1 - p)\n",
    "\n",
    "In a binomial distribution, the variance is influenced by both the number of trials and the probability of success. As the probability of success gets closer to 0 or 1, the variance decreases because the outcomes become more predictable.\n",
    "\n",
    "**Poisson Distribution:**\n",
    "For a Poisson distribution, if you have a given average rate or mean number of events (λ), the mean (μ) and variance (σ²) are related as follows:\n",
    "\n",
    "Mean (μ) = λ\n",
    "Variance (σ²) = λ\n",
    "\n",
    "In a Poisson distribution, the mean and variance are equal. This means that the spread of the distribution is solely determined by the average rate of events. Unlike the binomial distribution, where the variance depends on both the number of trials and the probability of success, the Poisson distribution assumes a fixed average rate of events and uses that as the basis for both the mean and the variance.\n"
   ]
  },
  {
   "cell_type": "markdown",
   "id": "6eb7f8b2-4692-496a-8bd5-36c545c4119c",
   "metadata": {},
   "source": [
    "Q10. In normal distribution with respect to mean position, where does the least frequent data appear?"
   ]
  },
  {
   "cell_type": "markdown",
   "id": "96656a5f-3872-449e-9afa-a1443f9aca6a",
   "metadata": {},
   "source": [
    "In a normal distribution, also known as a Gaussian distribution or bell curve, the data is symmetrically distributed around the mean. The mean is the point of highest frequency or peak of the distribution, and the data becomes less frequent as you move away from the mean in both directions along the x-axis.\n",
    "\n",
    "The least frequent data in a normal distribution appears in the tails of the distribution, which are the farthest regions from the mean. As you move away from the mean towards the tails, the frequency of data points gradually decreases. This is because the normal distribution tails extend to infinity, although the likelihood of observing data far away from the mean becomes very low.\n",
    "\n",
    "In graphical terms, the tails of a normal distribution extend to the left and right, and the data becomes less dense as you move away from the mean towards these tails. This characteristic of the normal distribution is a key feature that makes it a useful model for a wide range of real-world phenomena."
   ]
  },
  {
   "cell_type": "code",
   "execution_count": null,
   "id": "001b1108-6fed-4f7f-93c5-97f6dc79b54f",
   "metadata": {},
   "outputs": [],
   "source": []
  }
 ],
 "metadata": {
  "kernelspec": {
   "display_name": "Python 3 (ipykernel)",
   "language": "python",
   "name": "python3"
  },
  "language_info": {
   "codemirror_mode": {
    "name": "ipython",
    "version": 3
   },
   "file_extension": ".py",
   "mimetype": "text/x-python",
   "name": "python",
   "nbconvert_exporter": "python",
   "pygments_lexer": "ipython3",
   "version": "3.10.8"
  }
 },
 "nbformat": 4,
 "nbformat_minor": 5
}
