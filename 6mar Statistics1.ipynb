{
 "cells": [
  {
   "cell_type": "markdown",
   "id": "a771556d-c7da-4e6c-bbbc-5c728782f9ba",
   "metadata": {},
   "source": [
    "Q1. What is Statistics?"
   ]
  },
  {
   "cell_type": "markdown",
   "id": "6196fdc7-b852-487a-9845-35d5b97fd670",
   "metadata": {},
   "source": [
    "Statistics is the science of collecting, analyzing, presenting, and interpreting data. It is used to turn large amounts of data available in many applied fields into useful information. Statistics can be classified as either quantitative or qualitative. Quantitative data measure either how much or how many of something, and qualitative data provide labels, or names, for categories of like items"
   ]
  },
  {
   "cell_type": "markdown",
   "id": "510c0b8a-9f77-408a-8db1-a6d65f359189",
   "metadata": {},
   "source": [
    "Q2. Define the different types of statistics and give an example of when each type might be used."
   ]
  },
  {
   "cell_type": "markdown",
   "id": "07475175-5b12-4d05-861c-3b1e958fe5b3",
   "metadata": {},
   "source": [
    "There are two main types of statistics: descriptive statistics and inferential statistics\n",
    "\n",
    "Descriptive statistics summarize data from a sample using measures such as mean or standard deviation. Descriptive statistics are used to organize, represent, and explain a set of data using charts, graphs, and summary measures. For example, if you wanted to know the average age of a group of people, you could use descriptive statistics to calculate the mean age.\n",
    "\n",
    "Inferential statistics, on the other hand, are used to make conclusions about a population based on a sample of data. Inferential statistics allow us to make educated guesses about a population by analyzing a sample of that population1. For example, if you wanted to know the average age of all people in a city, you could take a random sample of people from that city and use inferential statistics to estimate the average age of the entire population.\n"
   ]
  },
  {
   "cell_type": "markdown",
   "id": "da0290a4-a451-45bd-b12b-c1f747dd0c92",
   "metadata": {},
   "source": [
    "Q3. What are the different types of data and how do they differ from each other? Provide an example of\n",
    "each type of data."
   ]
  },
  {
   "cell_type": "markdown",
   "id": "197fc426-d1a7-4a65-962b-4d4f5f8b0e7f",
   "metadata": {},
   "source": [
    "There are two main types of data: qualitative data and quantitative data.\n",
    "\n",
    "Qualitative data describes the object under consideration using a finite set of discrete classes. It means that this type of data can’t be counted or measured easily using numbers and therefore divided into categories. For example, the gender of a person (male, female, or others) is a good example of qualitative data.\n",
    "\n",
    "Quantitative data, on the other hand, can be measured and not simply observed. They can be numerically represented and calculations can be performed on them. For example, the age of a person is quantitative data because it can be measured in years."
   ]
  },
  {
   "cell_type": "markdown",
   "id": "be22a97a-5363-4cff-8d72-ca3ac1f38b5d",
   "metadata": {},
   "source": [
    "Q4. Categorise the following datasets with respect to quantitative and qualitative data types:\n",
    "(i) Grading in exam: A+, A, B+, B, C+, C, D, E\n",
    "(ii) Colour of mangoes: yellow, green, orange, red\n",
    "(iii) Height data of a class: [178.9, 179, 179.5, 176, 177.2, 178.3, 175.8,...]\n",
    "(iv) Number of mangoes exported by a farm: [500, 600, 478, 672, ...]"
   ]
  },
  {
   "cell_type": "markdown",
   "id": "7862937f-bced-4e83-9ca5-6a3584afa37a",
   "metadata": {},
   "source": [
    "(i) A+, A, B+, B, C+, C, D, E - This is an example of qualitative data because the grades represent discrete categories that cannot be measured using numbers.\n",
    "\n",
    "(ii) Colour of mangoes: yellow, green, orange, red - This is also an example of qualitative data because the colors represent discrete categories that cannot be measured using numbers.\n",
    "\n",
    "(iii) Height data of a class: [178.9, 179, 179.5, 176, 177.2, 178.3, 175.8,…] - This is an example of quantitative data because the heights can be measured and represented using numbers.\n",
    "\n",
    "(iv) Number of mangoes exported by a farm: [500, 600, 478, 672, …] - This is also an example of quantitative data because the number of mangoes can be measured and represented using numbers."
   ]
  },
  {
   "cell_type": "markdown",
   "id": "7d1a5a86-f3ae-4f40-b57f-96e883ad2eda",
   "metadata": {},
   "source": [
    "Q5. Explain the concept of levels of measurement and give an example of a variable for each level."
   ]
  },
  {
   "cell_type": "markdown",
   "id": "9693eb33-d232-4943-bbb1-4a560dc2cd28",
   "metadata": {},
   "source": [
    "Levels of measurement, also called scales of measurement, tell you how precisely variables are recorded. There are 4 levels of measurement: nomina, ordinal, interval, and ratio.\n",
    "\n",
    "Nominal data can only be categorized. For example, the color of a car is nominal data because it can be categorized into different colors such as red, blue, or green.\n",
    "\n",
    "Ordinal data can be categorized and ranked. For example, the level of education is ordinal data because it can be categorized into different levels such as high school, college, or graduate school and these levels can be ranked in order.\n",
    "\n",
    "Interval data can be categorized, ranked, and evenly spaced. For example, temperature is interval data because it can be measured using a scale with equal intervals such as degrees Celsius or Fahrenheit.\n",
    "\n",
    "Ratio data can be categorized, ranked, evenly spaced, and has a natural zero. For example, height is ratio data because it can be measured using a scale with equal intervals such as centimeters or inches and there is a natural zero point (i.e., a height of 0 cm means no height)."
   ]
  },
  {
   "cell_type": "markdown",
   "id": "d6e5693c-8209-4d4c-996e-81782fccf394",
   "metadata": {},
   "source": [
    "Q6. Why is it important to understand the level of measurement when analyzing data? Provide an\n",
    "example to illustrate your answer."
   ]
  },
  {
   "cell_type": "markdown",
   "id": "07b98af0-ef52-4611-b2c8-b61a67925cea",
   "metadata": {},
   "source": [
    "It is important to understand the level of measurement when analyzing data because it determines how you can analyze your data. Depending on the level of measurement of the variable, what you can do to analyze your data may be limited.\n",
    "\n",
    "For example, if you have nominal data such as the color of a car, you can only categorize the data into different colors such as red, blue, or green. You cannot perform mathematical operations on nominal data such as calculating the mean or standard deviation.\n",
    "\n",
    "On the other hand, if you have ratio data such as the height of a person, you can perform mathematical operations on the data such as calculating the mean or standard deviation. You can also make meaningful comparisons between different heights because there is a natural zero point (i.e., a height of 0 cm means no height)."
   ]
  },
  {
   "cell_type": "markdown",
   "id": "cca644bc-da34-46cc-a209-b4629d78dd78",
   "metadata": {},
   "source": [
    "Q7. How nominal data type is different from ordinal data type."
   ]
  },
  {
   "cell_type": "markdown",
   "id": "d46f3a6a-c0c7-4bdc-91f7-6b7d6d3b2d18",
   "metadata": {},
   "source": [
    "Nominal data can only be categorized. For example, the color of a car is nominal data because it can be categorized into different colors such as red, blue, or green. There is no order between the categories.\n",
    "\n",
    "Ordinal data, on the other hand, can be categorized and ranked. For example, the level of education is ordinal data because it can be categorized into different levels such as high school, college, or graduate school and these levels can be ranked in order.\n",
    "\n",
    "The main difference between nominal and ordinal data is that ordinal data has an order between the categories while nominal data does not."
   ]
  },
  {
   "cell_type": "markdown",
   "id": "cc9c354f-95fd-41b8-bc9e-8a144c788165",
   "metadata": {},
   "source": [
    "Q8. Which type of plot can be used to display data in terms of range?"
   ]
  },
  {
   "cell_type": "markdown",
   "id": "ce011fe8-c31f-4ec7-950d-443443385ea8",
   "metadata": {},
   "source": [
    "A range plot can be used to display data in terms of range. Range plots show exactly two dots on a line and connect them with an extra bold line. They are great if you want to draw attention to the distance between the values more than to the values themselves. You could also call this chart type the gap chart because it’s great for situations where the gap is important "
   ]
  },
  {
   "cell_type": "markdown",
   "id": "b4f897de-0f9f-488f-8128-bc4cd3693077",
   "metadata": {},
   "source": [
    "Q9. Describe the difference between descriptive and inferential statistics. Give an example of each\n",
    "type of statistics and explain how they are used."
   ]
  },
  {
   "cell_type": "markdown",
   "id": "9c63509e-7b44-4ad6-aaac-514abe7abf34",
   "metadata": {},
   "source": [
    "Descriptive statistics summarize data from a sample using measures such as mean or standard deviation. Descriptive statistics are used to organize, represent, and explain a set of data using charts, graphs, and summary measures. For example, if you wanted to know the average age of a group of people, you could use descriptive statistics to calculate the mean age.\n",
    "\n",
    "Inferential statistics, on the other hand, are used to make conclusions about a population based on a sample of data. Inferential statistics allow us to make educated guesses about a population by analyzing a sample of that population. For example, if you wanted to know the average age of all people in a city, you could take a random sample of people from that city and use inferential statistics to estimate the average age of the entire population.\n",
    "\n",
    "The main difference between descriptive and inferential statistics is that descriptive statistics summarize data from a sample while inferential statistics make conclusions about a population based on a sample of data."
   ]
  },
  {
   "cell_type": "markdown",
   "id": "89a20420-1c80-43ec-94b3-63d517b085d9",
   "metadata": {},
   "source": [
    "Q10. What are some common measures of central tendency and variability used in statistics? Explain\n",
    "how each measure can be used to describe a dataset."
   ]
  },
  {
   "cell_type": "markdown",
   "id": "710c56b4-3b67-4cbf-a649-8e1415afb965",
   "metadata": {},
   "source": [
    "Measures of central tendency and variability are commonly used in statistics to describe a dataset.\n",
    "\n",
    "Some common measures of central tendency include the mean, median, and mode. The mean is the average value of a dataset, calculated by adding all the values in the dataset and dividing by the number of values. The median is the middle value of a dataset when the values are arranged in ascending order. The mode is the value that occurs most frequently in a dataset.\n",
    "\n",
    "Measures of variability include the range, variance, and standard deviation. The range is the difference between the largest and smallest values in a dataset. The variance is the average of the squared differences between each value in a dataset and the mean. The standard deviation is the square root of the variance.\n",
    "\n",
    "These measures can be used to describe a dataset by providing information about its central tendency (i.e., where the data is centered) and its variability (i.e., how spread out the data is). For example, if you have a dataset with a large range and a high standard deviation, this indicates that the data is spread out over a wide range of values."
   ]
  },
  {
   "cell_type": "code",
   "execution_count": null,
   "id": "032605e7-3821-4a8d-ace9-24c320a0fe0d",
   "metadata": {},
   "outputs": [],
   "source": []
  }
 ],
 "metadata": {
  "kernelspec": {
   "display_name": "Python 3 (ipykernel)",
   "language": "python",
   "name": "python3"
  },
  "language_info": {
   "codemirror_mode": {
    "name": "ipython",
    "version": 3
   },
   "file_extension": ".py",
   "mimetype": "text/x-python",
   "name": "python",
   "nbconvert_exporter": "python",
   "pygments_lexer": "ipython3",
   "version": "3.10.8"
  }
 },
 "nbformat": 4,
 "nbformat_minor": 5
}
