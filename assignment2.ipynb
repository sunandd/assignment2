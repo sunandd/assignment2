{
 "cells": [
  {
   "cell_type": "code",
   "execution_count": 2,
   "id": "a0804625-1b86-4228-8f2e-deb0121c0b1f",
   "metadata": {},
   "outputs": [
    {
     "name": "stdin",
     "output_type": "stream",
     "text": [
      "give your input  80\n"
     ]
    },
    {
     "name": "stdout",
     "output_type": "stream",
     "text": [
      "your percentage is 80\n",
      "grade is C\n"
     ]
    }
   ],
   "source": [
    "num = int(input(\"give your input \"))\n",
    "print(\"your percentage is\", num)\n",
    "if(num>90):\n",
    "    print(\"grade is A\")\n",
    "elif(num>80):\n",
    "    print(\"grade is B\")\n",
    "elif(num>=60):\n",
    "    print(\"grade is C\")\n",
    "else:\n",
    "    print(\"grade is D\")"
   ]
  },
  {
   "cell_type": "code",
   "execution_count": 3,
   "id": "ee365297-eefb-4bb4-be3e-f724805a3ff2",
   "metadata": {},
   "outputs": [
    {
     "name": "stdin",
     "output_type": "stream",
     "text": [
      "Enter your purchase prise 50000\n"
     ]
    },
    {
     "name": "stdout",
     "output_type": "stream",
     "text": [
      "your payble tax is  5%\n"
     ]
    }
   ],
   "source": [
    "p = int(input(\"Enter your purchase prise\"))\n",
    "if(p>100000):\n",
    "   print(\"your payble tax is  15%\")\n",
    "elif(p>50000):\n",
    "   print(\"your payble tax is  10%\")\n",
    "else:\n",
    "   print(\"your payble tax is  5%\")"
   ]
  },
  {
   "cell_type": "code",
   "execution_count": null,
   "id": "6c4b8a98-f5cc-4525-8f62-f11c42068fc3",
   "metadata": {},
   "outputs": [],
   "source": []
  },
  {
   "cell_type": "code",
   "execution_count": null,
   "id": "e77b5610-3b7c-49e5-8869-9a54a64d4815",
   "metadata": {},
   "outputs": [],
   "source": [
    "nm = input(\"ENTER NAME OF CITY \")\n",
    "nm.upper()\n",
    "if(nm=='DELHI'):\n",
    "   print('red fort')\n",
    "elif(nm=='AGRA'):\n",
    "   print('taj mahal')\n",
    "elif(nm=='JAIPUR'):\n",
    "   print('jal mahal')\n",
    "\n",
    "\n",
    "nm.lower()\n",
    "if(nm=='delhi'):\n",
    "   print('red fort')\n",
    "elif(nm=='agra'):\n",
    "   print('taj mahal')\n",
    "elif(nm=='jaipur'):\n",
    "   print('jal mahal')"
   ]
  },
  {
   "cell_type": "markdown",
   "id": "2ad7f113-b3ff-4cd5-b272-ef16743d2679",
   "metadata": {},
   "source": [
    "NO5\n",
    "In python, while loop is execute a block of  statements repeatedly until a given condition is satisfied. And when the condition become false, the line exit while loop.\n"
   ]
  },
  {
   "cell_type": "code",
   "execution_count": 20,
   "id": "24b692f7-50ed-4aeb-96fb-7a3abfd7def4",
   "metadata": {},
   "outputs": [],
   "source": [
    "i = 0\n",
    "while(i<=6):\n",
    "    print(\"hello\")\n",
    "    i+=1\n"
   ]
  },
  {
   "cell_type": "markdown",
   "id": "b9b96730-b437-4c1f-81f6-394fb58c3698",
   "metadata": {},
   "source": [
    "\n",
    "No6"
   ]
  },
  {
   "cell_type": "code",
   "execution_count": 26,
   "id": "a6f62352-afa8-46d8-8aea-e8b311021733",
   "metadata": {},
   "outputs": [
    {
     "name": "stdout",
     "output_type": "stream",
     "text": [
      "F L\n",
      "\n",
      "F F L\n",
      "\n",
      "F F F L\n",
      "\n"
     ]
    }
   ],
   "source": [
    "i = 0\n",
    "while i<3:\n",
    "   j = 0\n",
    "   while j<=i:\n",
    "       print('F', end=\" \")\n",
    "       j+=1\n",
    "   print('L\\n')\n",
    "   i=i+1\n",
    "\n"
   ]
  },
  {
   "cell_type": "markdown",
   "id": "0a439825-7396-4c4f-9b0d-47f2c2bded78",
   "metadata": {},
   "source": [
    "No7/8\n"
   ]
  },
  {
   "cell_type": "code",
   "execution_count": 28,
   "id": "5376eb47-33b4-4868-b40e-163a02f4d43d",
   "metadata": {},
   "outputs": [
    {
     "name": "stdout",
     "output_type": "stream",
     "text": [
      "10 9 8 7 6 5 4 3 2 1 "
     ]
    }
   ],
   "source": [
    "i = 10\n",
    "while i>=1:\n",
    "   print(i, end=\" \")\n",
    "   i=i-1\n"
   ]
  }
 ],
 "metadata": {
  "kernelspec": {
   "display_name": "Python 3 (ipykernel)",
   "language": "python",
   "name": "python3"
  },
  "language_info": {
   "codemirror_mode": {
    "name": "ipython",
    "version": 3
   },
   "file_extension": ".py",
   "mimetype": "text/x-python",
   "name": "python",
   "nbconvert_exporter": "python",
   "pygments_lexer": "ipython3",
   "version": "3.10.8"
  }
 },
 "nbformat": 4,
 "nbformat_minor": 5
}
