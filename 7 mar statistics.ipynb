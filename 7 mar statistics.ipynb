{
 "cells": [
  {
   "cell_type": "markdown",
   "id": "2905664d-5fb1-42c4-afcd-b2b99d693597",
   "metadata": {},
   "source": [
    "Q1. What are the three measures of central tendency?"
   ]
  },
  {
   "cell_type": "markdown",
   "id": "d9c924f6-939e-41b1-8967-880051cd4967",
   "metadata": {},
   "source": [
    "The three measures of central tendency are:\n",
    "\n",
    "1. Mean: The mean, also known as the average, is the sum of all values in a dataset divided by the number of data points. It represents the \"center\" of the data distribution and is sensitive to extreme values.\n",
    "\n",
    "2. Median: The median is the middle value in a dataset when the data points are arranged in ascending or descending order. If there is an even number of data points, the median is calculated as the average of the two middle values. The median is less sensitive to extreme values than the mean.\n",
    "\n",
    "3. Mode: The mode is the value that appears most frequently in a dataset. A dataset may have one mode (unimodal), two modes (bimodal), or more (multimodal). Unlike the mean and median, the mode can be used with both numerical and categorical data.\n",
    "\n",
    "These measures provide different perspectives on the typical or central value of a dataset and are used in various statistical analyses to summarize and understand the data."
   ]
  },
  {
   "cell_type": "markdown",
   "id": "072cdb60-02d6-475b-a751-f32de7e10290",
   "metadata": {},
   "source": [
    "Q2. What is the difference between the mean, median, and mode? How are they used to measure the\n",
    "central tendency of a dataset?"
   ]
  },
  {
   "cell_type": "markdown",
   "id": "fa5a2674-bcad-41f3-b60e-2dc45e75729b",
   "metadata": {},
   "source": [
    "The mean, median, and mode are all measures of central tendency, but they differ in how they represent the central value of a dataset and how they are calculated. Here's their differences and how they are used:\n",
    "\n",
    "Mean:\n",
    "Definition: The mean is the sum of all values in a dataset divided by the number of data points. Mathematically, it can be represented as (Σx) / n, where Σx is the sum of all values and n is the number of data points.\n",
    "\n",
    "Calculation: Add up all the values and divide by the total count of data points.\n",
    "\n",
    "Sensitivity to Outliers: The mean is sensitive to extreme values (outliers) because it takes into account the magnitude of each data point.\n",
    "\n",
    "Use: The mean is commonly used when the dataset is roughly symmetric and doesn't have significant outliers. It provides a balanced representation of the dataset's central value.\n",
    "\n",
    "Median:\n",
    "Definition: The median is the middle value in a dataset when the data points are arranged in ascending or descending order. If there is an even number of data points, the median is calculated as the average of the two middle values.\n",
    "\n",
    "Calculation: Arrange the data in order and find the middle value.\n",
    "\n",
    "Sensitivity to Outliers: The median is less sensitive to extreme values than the mean because it only considers the position of data points, not their magnitude.\n",
    "\n",
    "Use: The median is preferred when dealing with datasets that have outliers or are skewed because it is a robust measure that doesn't get heavily influenced by extreme values.\n",
    "\n",
    "Mode:\n",
    "Definition: The mode is the value that appears most frequently in a dataset. A dataset may have one mode (unimodal), two modes (bimodal), or more (multimodal).\n",
    "\n",
    "Calculation: Identify the value that occurs most often in the dataset.\n",
    "\n",
    "Sensitivity to Outliers: The mode is not affected by extreme values since it only focuses on frequency.\n",
    "\n",
    "Use: The mode is useful when dealing with categorical data or discrete variables. It helps identify the most common category or value in the dataset.\n",
    "\n",
    "\n",
    "In summary, the mean represents the average value, the median represents the middle value, and the mode represents the most frequent value in a dataset. They each have their strengths and weaknesses in measuring central tendency, and the choice of which one to use depends on the characteristics of the data set."
   ]
  },
  {
   "cell_type": "markdown",
   "id": "2cf102b1-c583-41e2-ba69-500c5207a1db",
   "metadata": {},
   "source": [
    "Q3. Measure the three measures of central tendency for the given height data:\n",
    "[178,177,176,177,178.2,178,175,179,180,175,178.9,176.2,177,172.5,178,176.5]"
   ]
  },
  {
   "cell_type": "markdown",
   "id": "67015c3e-e7fd-4317-8dd6-033ba99e4aed",
   "metadata": {},
   "source": [
    "\n",
    "1. Mean:\n",
    "Mean = (178 + 177 + 176 + 177 + 178.2 + 178 + 175 + 179 + 180 + 175 + 178.9 + 176.2 + 177 + 172.5 + 178 + 176.5) / 16\n",
    "Mean = 177.69375\n",
    "\n",
    "2. Median:\n",
    "First, sort the data in ascending order:\n",
    "[172.5, 175, 175, 176, 176, 176.2, 176.5, 177, 177, 177, 178, 178, 178, 178.2, 178.9, 179, 180]\n",
    "\n",
    "Since there are 16 data points (an even number), the median is the average of the two middle values:\n",
    "Median = (176 + 178) / 2\n",
    "Median = 177\n",
    "\n",
    "3. Mode:\n",
    "The mode is the value that appears most frequently. In this dataset, the value 178 appears three times, which is more frequent than any other value. So, the mode is 178.\n",
    "\n",
    "that is:\n",
    "Mean = 177.69375,\n",
    "Median = 177,\n",
    "Mode = 178"
   ]
  },
  {
   "cell_type": "markdown",
   "id": "a0eaac3d-1cdf-4ec9-8151-5bb6febca14c",
   "metadata": {},
   "source": [
    "Q4. Find the standard deviation for the given data:\n",
    "[178,177,176,177,178.2,178,175,179,180,175,178.9,176.2,177,172.5,178,176.5]"
   ]
  },
  {
   "cell_type": "markdown",
   "id": "f366a779-97cd-436b-98f7-a4f58311cd35",
   "metadata": {},
   "source": [
    "steps for standard deviation \n",
    "\n",
    "Step 1: Calculate the mean (μ) of the data.\n",
    "\n",
    "Step 2: Calculate the squared difference between each data point and the mean (xi - μ)².\n",
    "\n",
    "Step 3: Find the mean of the squared differences obtained in Step 2.\n",
    "\n",
    "Step 4: Take the square root of the mean obtained in Step 3 to get the standard deviation.\n",
    "\n",
    "calculation:\n",
    "\n",
    "Dataset: [178, 177, 176, 177, 178.2, 178, 175, 179, 180, 175, 178.9, 176.2, 177, 172.5, 178, 176.5]\n",
    "\n",
    "Step 1: Calculate the mean (μ)\n",
    "Mean (μ) = (178 + 177 + 176 + 177 + 178.2 + 178 + 175 + 179 + 180 + 175 + 178.9 + 176.2 + 177 + 172.5 + 178 + 176.5) / 16 ≈ 177.69375\n",
    "\n",
    "Step 2: Calculate the squared difference between each data point and the mean (xi - μ)²:\n",
    "\n",
    "(178 - 177.69375)² ≈ 0.09375\n",
    "(177 - 177.69375)² ≈ 0.048389\n",
    "(176 - 177.69375)² ≈ 2.929806\n",
    "(177 - 177.69375)² ≈ 0.048389\n",
    "(178.2 - 177.69375)² ≈ 0.258003\n",
    "(178 - 177.69375)² ≈ 0.09375\n",
    "(175 - 177.69375)² ≈ 7.301881\n",
    "(179 - 177.69375)² ≈ 1.681256\n",
    "(180 - 177.69375)² ≈ 5.271879\n",
    "(175 - 177.69375)² ≈ 7.301881\n",
    "(178.9 - 177.69375)² ≈ 1.462074\n",
    "(176.2 - 177.69375)² ≈ 2.218753\n",
    "(177 - 177.69375)² ≈ 0.048389\n",
    "(172.5 - 177.69375)² ≈ 26.959271\n",
    "(178 - 177.69375)² ≈ 0.09375\n",
    "(176.5 - 177.69375)² ≈ 1.457564\n",
    "\n",
    "Step 3: Find the mean of the squared differences:\n",
    "\n",
    "Mean of squared differences = (0.09375 + 0.048389 + 2.929806 + 0.048389 + 0.258003 + 0.09375 + 7.301881 + 1.681256 + 5.271879 + 7.301881 + 1.462074 + 2.218753 + 0.048389 + 26.959271 + 0.09375 + 1.457564) / 16 ≈ 3.570372\n",
    "\n",
    "Step 4: Take the square root of the mean obtained in Step 3 to get the standard deviation:\n",
    "\n",
    "Standard Deviation ≈ √3.570372 ≈ 1.889205\n",
    "\n",
    "So, the standard deviation for the given data is approximately 1.889205."
   ]
  },
  {
   "cell_type": "markdown",
   "id": "1247ad60-a92b-450e-b654-0795cb728303",
   "metadata": {},
   "source": [
    "Q5. How are measures of dispersion such as range, variance, and standard deviation used to describe\n",
    "the spread of a dataset? Provide an example."
   ]
  },
  {
   "cell_type": "markdown",
   "id": "50349596-0f16-4bc8-9255-bedf572e6192",
   "metadata": {},
   "source": [
    "Measures of dispersion (range, variance, and standard deviation) are used to describe the spread or variability of a dataset. They provide information about how the data points are scattered around the central value (mean or median) and help us understand how diverse or concentrated the data is. \n",
    "\n",
    "1. Range:\n",
    "- Definition: The range is the simplest measure of dispersion. It is the difference between the largest and smallest values in a dataset.\n",
    "- Calculation: Range = Maximum value - Minimum value\n",
    "- Use: The range gives an idea of the total spread of the data, but it only considers the two extreme points and may not provide a complete picture of the distribution's variability.\n",
    "\n",
    "Example: Consider the following dataset representing the number of hours spent studying per day by a group of students: [2, 3, 4, 6, 7]\n",
    "Range = Maximum value (7) - Minimum value (2) = 5\n",
    "The range indicates that the data is spread over a range of 5 hours.\n",
    "\n",
    "2. Variance:\n",
    "- Definition: Variance measures the average squared deviation of each data point from the mean.\n",
    "- Calculation: Variance = Σ (xi - μ)² / n, where Σ (xi - μ)² is the sum of squared differences between each data point (xi) and the mean (μ), and n is the number of data points.\n",
    "- Use: Variance quantifies the overall variability of the dataset. However, since it involves squaring the deviations, its unit of measurement is not the same as the original data, making it less interpretable.\n",
    "\n",
    "Example: Consider the same dataset as before: [2, 3, 4, 6, 7]\n",
    "Mean (μ) ≈ (2 + 3 + 4 + 6 + 7) / 5 ≈ 4.4\n",
    "Variance = [(2 - 4.4)² + (3 - 4.4)² + (4 - 4.4)² + (6 - 4.4)² + (7 - 4.4)²] / 5 ≈ 4.96\n",
    "The variance of approximately 4.96 indicates a relatively higher variability in the dataset.\n",
    "\n",
    "3. Standard Deviation:\n",
    "- Definition: The standard deviation is the square root of the variance. It measures the average distance of data points from the mean.\n",
    "- Calculation: Standard Deviation = √Variance\n",
    "- Use: The standard deviation is widely used because it is in the same unit as the original data and is easily interpretable. It gives a sense of how much the data points deviate from the mean.\n",
    "\n",
    "Example (continuing from the previous dataset): \n",
    "Standard Deviation ≈ √4.96 ≈ 2.229\n",
    "The standard deviation of approximately 2.229 indicates that the data points, on average, deviate about 2.229 hours from the mean.\n",
    "\n",
    "In summary, measures of dispersion (range, variance, and standard deviation) provide valuable insights into the spread or variability of a dataset. They complement measures of central tendency and help us understand the overall distribution characteristics of the data."
   ]
  },
  {
   "cell_type": "markdown",
   "id": "6ccddf80-3f2f-401c-9388-5fb34cdfe3c7",
   "metadata": {},
   "source": [
    "Q6. What is a Venn diagram?"
   ]
  },
  {
   "cell_type": "markdown",
   "id": "9722ad74-c021-4d53-84c1-dc135ab64b70",
   "metadata": {},
   "source": [
    "\n",
    "A Venn diagram is a graphical representation used to show the relationships and similarities between different sets or groups of objects or data\n",
    "\n",
    "Venn diagrams are widely used in various fields, including mathematics, logic, statistics, and data analysis, to visualize relationships between sets and compare different categories. They are especially useful for understanding set theory, identifying shared elements, and showing logical relationships between groups."
   ]
  },
  {
   "cell_type": "markdown",
   "id": "9bfdd7b9-7d63-4342-b261-80c2852fa1f9",
   "metadata": {},
   "source": [
    "Q7. For the two given sets A = (2,3,4,5,6,7) & B = (0,2,6,8,10). Find:\n",
    "(i) A ^ B\n",
    "(ii) A ⋃ B"
   ]
  },
  {
   "cell_type": "markdown",
   "id": "68506f11-b3c2-4763-8be1-5530fc1f3b8b",
   "metadata": {},
   "source": [
    "(i) A ∩ B (Intersection):\n",
    "The intersection of two sets contains all the elements that are common to both sets. In other words, it includes only those elements that are present in both set A and set B.\n",
    "\n",
    "Now, find the common elements in A and B:\n",
    "A ∩ B = {2, 6}\n",
    "\n",
    "(ii) A ∪ B (Union):\n",
    "The union of two sets contains all the distinct elements from both sets, without any repetitions. It includes all the elements present in either set A or set B or both.\n",
    "\n",
    "Now, combine the elements from both sets, eliminating duplicates:\n",
    "A ∪ B = {0, 2, 3, 4, 5, 6, 7, 8, 10}"
   ]
  },
  {
   "cell_type": "markdown",
   "id": "7666f577-9eb4-4e61-ba07-1d47c3cf4eeb",
   "metadata": {},
   "source": [
    "Q8. What do you understand about skewness in data?"
   ]
  },
  {
   "cell_type": "markdown",
   "id": "be41e566-4a83-4349-ba41-8a6a20789064",
   "metadata": {},
   "source": [
    "\n",
    "Skewness is a statistical measure that describes the asymmetry of the probability distribution of a dataset. It indicates the degree to which the data deviates from a symmetrical or normal distribution. In other words, skewness measures the lack of symmetry in a dataset\n",
    "\n",
    "There are three types of skewness\n",
    "\n",
    "1-Positive Skewness (Right Skewness)\n",
    "2- Negative Skewness (Left Skewness)\n",
    "3- Zero Skewness (Symmetrical Distribution)"
   ]
  },
  {
   "cell_type": "markdown",
   "id": "8b373f35-5f57-40e1-8c42-62fbc93b8162",
   "metadata": {},
   "source": [
    "Q9. If a data is right skewed then what will be the position of median with respect to mean?"
   ]
  },
  {
   "cell_type": "markdown",
   "id": "72971caa-8489-4d3e-9568-39204dc69dea",
   "metadata": {},
   "source": [
    "\n",
    "If a dataset is right-skewed, it means that the majority of the data points are concentrated on the left side of the distribution, while the right tail is stretched out due to a few extreme values. In this scenario, the mean is typically greater than the median. and the position should be median is right of mean."
   ]
  },
  {
   "cell_type": "markdown",
   "id": "cac9a6ff-2a83-4d02-b25d-c322552b804c",
   "metadata": {},
   "source": [
    "Q10. Explain the difference between covariance and correlation. How are these measures used in\n",
    "statistical analysis?"
   ]
  },
  {
   "cell_type": "markdown",
   "id": "542f0c7d-6780-4c95-ad55-fdd443844cb4",
   "metadata": {},
   "source": [
    "\n",
    "Covariance and correlation are both measures used to quantify the relationship between two variables in statistical analysis.\n",
    "\n",
    "Covariance:\n",
    "Definition: Covariance measures the degree to which two variables change together. It indicates whether an increase in one variable is associated with an increase or decrease in the other variable.\n",
    "\n",
    "Calculation: For two variables X and Y with n data points, the covariance (cov) is calculated as:\n",
    "cov(X, Y) = Σ [(X_i - mean(X)) * (Y_i - mean(Y))] / n\n",
    "where X_i and Y_i are individual data points, mean(X) and mean(Y) are the means of X and Y, and Σ denotes the summation over all data points.\n",
    "\n",
    "Interpretation: A positive covariance suggests that as one variable increases, the other tends to increase as well. A negative covariance suggests that as one variable increases, the other tends to decrease. A covariance close to zero indicates little to no linear relationship between the variables.\n",
    "\n",
    "Correlation:\n",
    "Definition: Correlation is a standardized measure of the linear relationship between two variables. It not only indicates the direction of the relationship (positive or negative) but also quantifies the strength of the relationship.\n",
    "\n",
    "Calculation: For two variables X and Y with n data points, the correlation coefficient (ρ) is calculated as:\n",
    "ρ(X, Y) = cov(X, Y) / (σ_X * σ_Y)\n",
    "where cov(X, Y) is the covariance between X and Y, σ_X is the standard deviation of X, and σ_Y is the standard deviation of Y.\n",
    "\n",
    "Interpretation: The correlation coefficient ranges between -1 and 1. A correlation coefficient of 1 indicates a perfect positive linear relationship, -1 indicates a perfect negative linear relationship, and 0 indicates no linear relationship. The magnitude of the correlation coefficient closer to 1 indicates a stronger linear relationship.\n",
    "\n",
    "How are they used in statistical analysis?\n",
    "\n",
    "Both covariance and correlation are used to study the relationship between two variables and provide insights into how they change together.\n",
    "\n",
    "Covariance:\n",
    "It helps identify the direction of the relationship between variables (positive or negative).\n",
    "A positive covariance suggests that both variables tend to increase or decrease together, while a negative covariance suggests an inverse relationship.\n",
    "Covariance can help in understanding the variability between two variables but doesn't provide a clear measure of the strength of the relationship.\n",
    "\n",
    "Correlation:\n",
    "It not only indicates the direction of the relationship but also quantifies the strength.\n",
    "Correlation allows for comparing relationships between different pairs of variables, as it is standardized and unitless.\n",
    "It is more interpretable and widely used than covariance in comparing the degree of association between variables, regardless of their scales."
   ]
  },
  {
   "cell_type": "markdown",
   "id": "d192e914-7d3a-450f-845d-0d69d2d3c278",
   "metadata": {},
   "source": [
    "Q11. What is the formula for calculating the sample mean? Provide an example calculation for a\n",
    "dataset."
   ]
  },
  {
   "cell_type": "markdown",
   "id": "dd59cd4b-0f9c-4ba3-a7e2-2320dd161c24",
   "metadata": {},
   "source": [
    "The formula for calculating the sample mean (also known as the sample average) is straightforward. It is the sum of all data points in the sample divided by the total number of data points in the sample.\n",
    "\n",
    "Sample Mean (x̄) = (Σx) / n\n",
    "\n",
    "Where:\n",
    "x̄ = Sample Mean\n",
    "Σx = Sum of all data points in the sample\n",
    "n = Total number of data points in the sample\n",
    "\n",
    "Let's calculate the sample mean for a dataset:\n",
    "\n",
    "Example Dataset: [10, 15, 20, 25, 30]\n",
    "\n",
    "Step 1: Add up all the data points in the dataset:\n",
    "Σx = 10 + 15 + 20 + 25 + 30 = 100\n",
    "\n",
    "Step 2: Count the total number of data points in the dataset (n):\n",
    "n = 5\n",
    "\n",
    "Step 3: Calculate the sample mean (x̄) using the formula:\n",
    "x̄ = Σx / n = 100 / 5 = 20\n",
    "\n",
    "So, the sample mean for the given dataset [10, 15, 20, 25, 30] is 20."
   ]
  },
  {
   "cell_type": "markdown",
   "id": "139512cb-2d9e-445d-beb4-b852455b9ead",
   "metadata": {},
   "source": [
    "Q12. For a normal distribution data what is the relationship between its measure of central tendency?"
   ]
  },
  {
   "cell_type": "markdown",
   "id": "7a404382-1069-414f-ae6a-41f3d17557a9",
   "metadata": {},
   "source": [
    "For a normal distribution, the measures of central tendency (mean, median, and mode) are related in a specific way:\n",
    "\n",
    "1. Mean (μ):\n",
    "In a normal distribution, the mean (μ) is located at the center of the distribution. It is equal to the median and mode. This is a fundamental characteristic of a symmetric normal distribution.\n",
    "\n",
    "2. Median:\n",
    "As mentioned above, in a normal distribution, the median is equal to the mean. This occurs because the data points are symmetrically distributed around the center (mean), and half of the data falls on either side of the mean.\n",
    "\n",
    "3. Mode:\n",
    "For a normal distribution, the mode is also equal to the mean and median. Since the distribution is symmetric, the peak or highest point of the curve (where the mode is located) coincides with the center of the distribution (mean and median).\n",
    "\n",
    "in shot- in a normal distribution, the mean, median, and mode are all equal and located at the center of the distribution. This is a unique property of a symmetrical normal distribution, where data points are evenly distributed around the central value, creating a bell-shaped curve."
   ]
  },
  {
   "cell_type": "markdown",
   "id": "fd077bcb-bf9b-437e-bb51-d71c522013d3",
   "metadata": {},
   "source": [
    "Q13. How is covariance different from correlation?"
   ]
  },
  {
   "cell_type": "markdown",
   "id": "089c1c0f-814f-464a-94e0-2e47cabbf136",
   "metadata": {},
   "source": [
    "\n",
    "Covariance and correlation are both measures used to describe the relationship between two variables, but they differ in their interpretation and scale.\n",
    "\n",
    "Covariance: The magnitude and sign of covariance alone do not provide a clear indication of the strength and direction of the relationship between two variables. It requires further analysis to interpret.\n",
    "\n",
    "Correlation: The correlation coefficient provides a clear and standardized measure of the strength and direction of the linear relationship between two variables, making it easier to interpret and compare across different datasets."
   ]
  },
  {
   "cell_type": "markdown",
   "id": "cd6bd50f-560d-4795-8f35-76bdcfdb74bb",
   "metadata": {},
   "source": [
    "Q14. How do outliers affect measures of central tendency and dispersion? Provide an example."
   ]
  },
  {
   "cell_type": "markdown",
   "id": "0bfbd2ce-eef0-4cd1-ac82-a3f64b87eb05",
   "metadata": {},
   "source": [
    "Outliers can significantly impact measures of central tendency (mean, median, and mode) and measures of dispersion (variance and standard deviation). An outlier is a data point that is significantly different from the other data points in the dataset, often lying far away from the rest of the values.\n",
    "\n",
    "Outliers can significantly impact measures of central tendency (mean, median, and mode) and measures of dispersion (variance and standard deviation). An outlier is a data point that is significantly different from the other data points in the dataset, often lying far away from the rest of the values. Let's see how outliers affect these measures:\n",
    "\n",
    "Measures of Central Tendency:\n",
    "Mean: Outliers can heavily influence the mean because the mean takes into account the value of each data point. A single extreme outlier can shift the mean significantly, pulling it towards the extreme value.\n",
    "\n",
    "Median: The median is less affected by outliers since it only considers the position of the data points. As a result, the median provides a more robust measure of central tendency in the presence of outliers.\n",
    "\n",
    "Mode: The mode is not affected by outliers at all since it simply represents the most frequently occurring value in the dataset, regardless of any extreme values.\n",
    "\n",
    "Measures of Dispersion:\n",
    "Variance and Standard Deviation: Outliers can increase the variance and standard deviation because these measures incorporate the squared differences between data points and the mean. Since outliers can be significantly distant from the mean, squaring these deviations can lead to a significant increase in variance and, consequently, the standard deviation.\n",
    "Example:\n",
    "\n",
    "Consider the following dataset representing the test scores of 10 students:\n",
    "[85, 88, 92, 86, 90, 91, 94, 87, 100, 45]\n",
    "\n",
    "Let's calculate the mean, median, variance, and standard deviation for this dataset:\n",
    "\n",
    "Mean: (85 + 88 + 92 + 86 + 90 + 91 + 94 + 87 + 100 + 45) / 10 = 858 / 10 = 85.8\n",
    "\n",
    "Median: Since there are 10 data points, the median is the average of the 5th and 6th values, which are 90 and 91. Median = (90 + 91) / 2 = 181 / 2 = 90.5\n",
    "\n",
    "Variance:\n",
    "Variance = [(85 - 85.8)² + (88 - 85.8)² + ... + (100 - 85.8)² + (45 - 85.8)²] / 10 ≈ 213.96\n",
    "\n",
    "Standard Deviation: Standard Deviation ≈ √213.96 ≈ 14.62\n",
    "\n",
    "Now, let's add an outlier to the dataset:\n",
    "[85, 88, 92, 86, 90, 91, 94, 87, 100, 45, 200]\n",
    "\n",
    "New Mean: (858 + 200) / 11 ≈ 99.81\n",
    "New Median: Since there are 11 data points, the median is the 6th value, which is 91.\n",
    "New Variance: Variance ≈ 1992.8\n",
    "New Standard Deviation: Standard Deviation ≈ √1992.8 ≈ 44.64\n",
    "\n",
    "As we can see, the presence of the outlier significantly affected the mean, variance, and standard deviation, but it had little impact on the median. This demonstrates how outliers can distort the measures of central tendency and dispersion, especially the mean and standard deviation, making them less representative of the typical data characteristics.\n"
   ]
  },
  {
   "cell_type": "code",
   "execution_count": null,
   "id": "3235a1be-96d7-43f7-9c38-365de807edef",
   "metadata": {},
   "outputs": [],
   "source": []
  }
 ],
 "metadata": {
  "kernelspec": {
   "display_name": "Python 3 (ipykernel)",
   "language": "python",
   "name": "python3"
  },
  "language_info": {
   "codemirror_mode": {
    "name": "ipython",
    "version": 3
   },
   "file_extension": ".py",
   "mimetype": "text/x-python",
   "name": "python",
   "nbconvert_exporter": "python",
   "pygments_lexer": "ipython3",
   "version": "3.10.8"
  }
 },
 "nbformat": 4,
 "nbformat_minor": 5
}
