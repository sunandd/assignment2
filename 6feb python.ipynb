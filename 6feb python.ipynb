{
 "cells": [
  {
   "cell_type": "markdown",
   "id": "98714d99-c2a5-4666-ba3b-dedb7eeeaffd",
   "metadata": {},
   "source": [
    "Q1. Create a function which will take a list as an argument and return the product of all the numbers\n",
    "after creating a flat list.\n",
    "Use the below-given list as an argument for your function.\n",
    "list1 = [1,2,3,4, [44,55,66, True], False, (34,56,78,89,34), {1,2,3,3,2,1}, {1:34, \"key2\": [55, 67, 78, 89], 4: (45,\n",
    "22, 61, 34)}, [56, 'data science'], 'Machine Learning']\n",
    "Note: you must extract numeric keys and values of the dictionary also."
   ]
  },
  {
   "cell_type": "code",
   "execution_count": 3,
   "id": "7fc3d79c-0daf-4eeb-8383-dc330d22659b",
   "metadata": {},
   "outputs": [
    {
     "name": "stdout",
     "output_type": "stream",
     "text": [
      "Product: 0\n"
     ]
    }
   ],
   "source": [
    "def flatten_and_product(input_list):\n",
    "    flat_list = []\n",
    "\n",
    "    # Function to flatten the nested list recursively\n",
    "    def flatten_recursive(lst):\n",
    "        for item in lst:\n",
    "            if isinstance(item, (list, tuple, set)):\n",
    "                flatten_recursive(item)\n",
    "            elif isinstance(item, (int, float)):\n",
    "                flat_list.append(item)\n",
    "\n",
    "    flatten_recursive(input_list)\n",
    "\n",
    "    # Calculate the product of all numbers in the flat list\n",
    "    product = 1\n",
    "    for num in flat_list:\n",
    "        product *= num\n",
    "\n",
    "    return product\n",
    "\n",
    "# Example usage:\n",
    "list1 = [1, 2, 3, 4, [44, 55, 66, True], False, (34, 56, 78, 89, 34), {1, 2, 3, 3, 2, 1},\n",
    "         {1: 34, \"key2\": [55, 67, 78, 89], 4: (45, 22, 61, 34)}, [56, 'data science'], 'Machine Learning']\n",
    "\n",
    "result = flatten_and_product(list1)\n",
    "print(\"Product:\", result)"
   ]
  },
  {
   "cell_type": "markdown",
   "id": "22662b14-47d8-4e8f-84f6-7a4873701654",
   "metadata": {},
   "source": [
    "Q2. Write a python program for encrypting a message sent to you by your friend. The logic of encryption\n",
    "should be such that, for a the output should be z. For b, the output should be y. For c, the output should\n",
    "be x respectively. Also, the whitespace should be replaced with a dollar sign. Keep the punctuation\n",
    "marks unchanged.\n",
    "Input Sentence: I want to become a Data Scientist.\n",
    "Encrypt the above input sentence using the program you just created.\n",
    "Note: Convert the given input sentence into lowercase before encrypting. The final output should be\n",
    "lowercase."
   ]
  },
  {
   "cell_type": "code",
   "execution_count": 4,
   "id": "56d87ca9-c063-4829-95c2-0fb8e68acf16",
   "metadata": {},
   "outputs": [
    {
     "name": "stdout",
     "output_type": "stream",
     "text": [
      "Input Sentence: I want to become a Data Scientist.\n",
      "Encrypted Message: r$dzmg$gl$yvxlnv$z$wzgz$hxrvmgrhg.\n"
     ]
    }
   ],
   "source": [
    "def encrypt_message(message):\n",
    "    encrypted_message = \"\"\n",
    "\n",
    "    for char in message:\n",
    "        if char.isalpha():\n",
    "            # Encrypt alphabets\n",
    "            encrypted_char = chr(ord('z') - (ord(char.lower()) - ord('a')))\n",
    "            encrypted_message += encrypted_char\n",
    "        elif char.isspace():\n",
    "            # Replace whitespace with a dollar sign\n",
    "            encrypted_message += '$'\n",
    "        else:\n",
    "            # Keep punctuation marks unchanged\n",
    "            encrypted_message += char\n",
    "\n",
    "    return encrypted_message\n",
    "\n",
    "# Example usage:\n",
    "input_sentence = \"I want to become a Data Scientist.\"\n",
    "lowercase_input = input_sentence.lower()\n",
    "encrypted_output = encrypt_message(lowercase_input)\n",
    "\n",
    "print(\"Input Sentence:\", input_sentence)\n",
    "print(\"Encrypted Message:\", encrypted_output)\n"
   ]
  },
  {
   "cell_type": "code",
   "execution_count": null,
   "id": "6e90663c-0b40-4118-a9f3-c8cd3d817f2e",
   "metadata": {},
   "outputs": [],
   "source": [
    "   "
   ]
  }
 ],
 "metadata": {
  "kernelspec": {
   "display_name": "Python 3 (ipykernel)",
   "language": "python",
   "name": "python3"
  },
  "language_info": {
   "codemirror_mode": {
    "name": "ipython",
    "version": 3
   },
   "file_extension": ".py",
   "mimetype": "text/x-python",
   "name": "python",
   "nbconvert_exporter": "python",
   "pygments_lexer": "ipython3",
   "version": "3.10.8"
  }
 },
 "nbformat": 4,
 "nbformat_minor": 5
}
