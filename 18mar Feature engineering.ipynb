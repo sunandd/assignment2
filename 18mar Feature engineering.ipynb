{
 "cells": [
  {
   "cell_type": "markdown",
   "id": "9156a10b-c23c-4ef4-bc59-19fc850633a1",
   "metadata": {},
   "source": [
    "Q1. What is the Filter method in feature selection, and how does it work?"
   ]
  },
  {
   "cell_type": "markdown",
   "id": "bea83fe0-74fb-4451-bda5-f481e389e6f8",
   "metadata": {},
   "source": [
    "The Filter method is a feature selection technique that selects features independently of the machine learning algorithm model. It ranks each feature based on some statistical measure and then selects the highest-ranking features. This method uses statistical techniques to evaluate the relationship between each input variable and the target variable, and these scores are used as the basis to choose those input variables that will be used in the model"
   ]
  },
  {
   "cell_type": "markdown",
   "id": "ec14f936-b171-4de4-a4ad-4680925cdc7a",
   "metadata": {},
   "source": [
    "Q2. How does the Wrapper method differ from the Filter method in feature selection?"
   ]
  },
  {
   "cell_type": "markdown",
   "id": "8dfe5ba9-f902-4f58-a605-6d65b7d3e5d2",
   "metadata": {},
   "source": [
    "The primary difference between the Filter method and the Wrapper method for feature selection is that Filter methods measure the relevance of features by their correlation with the dependent variable while Wrapper methods measure the usefulness of a subset of features by actually training a model on it. Filter methods pick up the intrinsic properties of the features measured via univariate statistics instead of cross-validation performance, while Wrapper methods measure the “usefulness” of features based on the classifier performance"
   ]
  },
  {
   "cell_type": "markdown",
   "id": "9522d020-0356-4528-9d14-c675e1616e18",
   "metadata": {},
   "source": [
    "Q3. What are some common techniques used in Embedded feature selection methods?"
   ]
  },
  {
   "cell_type": "markdown",
   "id": "7a88caf9-41aa-47df-ae13-db82a66cfe41",
   "metadata": {},
   "source": [
    "Embedded methods are feature selection techniques that combine the qualities of Filter and Wrapper methods. They are implemented by algorithms that have their own built-in feature selection methods. Some common techniques used in Embedded feature selection methods are regularization methods, such as LASSO and RIDGE regression, which have inbuilt penalization functions to reduce overfitting"
   ]
  },
  {
   "cell_type": "markdown",
   "id": "115a8183-9a01-4287-8660-f9521942a180",
   "metadata": {},
   "source": [
    "Q4. What are some drawbacks of using the Filter method for feature selection?"
   ]
  },
  {
   "cell_type": "markdown",
   "id": "a5441b0b-9c74-44a3-b9c0-48df35db4a03",
   "metadata": {},
   "source": [
    "One of the main drawbacks of using the Filter method for feature selection is that it does not account for the complex interactions between features. This can lead to overfitting and long training times. Filter methods may fail to select the best features and may not remove multicollinearity"
   ]
  },
  {
   "cell_type": "markdown",
   "id": "1fadf961-5ce6-430e-8aae-59ba7c9d2f7c",
   "metadata": {},
   "source": [
    "Q5. In which situations would you prefer using the Filter method over the Wrapper method for feature\n",
    "selection?"
   ]
  },
  {
   "cell_type": "markdown",
   "id": "eb5ad8a8-dafb-4fb1-a827-56b5097faa9e",
   "metadata": {},
   "source": [
    "The Filter method for feature selection can be preferred over the Wrapper method in situations where the number of features is very large. Filter methods are generally faster and less computationally expensive than Wrapper methods, making them a good choice when dealing with a large number of features. Additionally, Filter methods can be useful for removing duplicated, correlated, and redundant features"
   ]
  },
  {
   "cell_type": "markdown",
   "id": "1e033e11-1c3b-4fc9-a322-7f26844c3be2",
   "metadata": {},
   "source": [
    "Q6. In a telecom company, you are working on a project to develop a predictive model for customer churn.\n",
    "You are unsure of which features to include in the model because the dataset contains several different\n",
    "ones. Describe how you would choose the most pertinent attributes for the model using the Filter Method."
   ]
  },
  {
   "cell_type": "markdown",
   "id": "722c6077-2773-4f53-9541-502a48f69b0a",
   "metadata": {},
   "source": [
    "To choose the most pertinent attributes for a predictive model for customer churn using the Filter Method, I would follow these steps:\n",
    "\n",
    "Identify the target variable: In this case, the target variable is customer churn.\n",
    "\n",
    "Calculate the correlation between each feature and the target variable: This can be done using statistical measures such as Pearson’s correlation coefficient or mutual information.\n",
    "\n",
    "Rank the features based on their correlation with the target variable: Features with a higher correlation with the target variable are more likely to be relevant for predicting customer churn.\n",
    "\n",
    "Select the top-ranking features: Based on the ranking, I would select a subset of the top-ranking features to include in the model.\n",
    "\n",
    "It’s important to note that Filter methods do not take into account interactions between features and may not always select the best subset of features. Therefore, it may be useful to also try other feature selection techniques such as Wrapper or Embedded methods."
   ]
  },
  {
   "cell_type": "markdown",
   "id": "24a5db85-2b9e-40e5-89f8-42f04521e78f",
   "metadata": {},
   "source": [
    "Q7. You are working on a project to predict the outcome of a soccer match. You have a large dataset with\n",
    "many features, including player statistics and team rankings. Explain how you would use the Embedded\n",
    "method to select the most relevant features for the model."
   ]
  },
  {
   "cell_type": "code",
   "execution_count": null,
   "id": "b86fcb8e-df3e-49e9-9790-981fd39f0f78",
   "metadata": {},
   "outputs": [],
   "source": []
  },
  {
   "cell_type": "markdown",
   "id": "e945000d-4432-4d69-b249-e10cd2c214b5",
   "metadata": {},
   "source": [
    "Q8. You are working on a project to predict the price of a house based on its features, such as size, location,\n",
    "and age. You have a limited number of features, and you want to ensure that you select the most important\n",
    "ones for the model. Explain how you would use the Wrapper method to select the best set of features for the\n",
    "predictor."
   ]
  }
 ],
 "metadata": {
  "kernelspec": {
   "display_name": "Python 3 (ipykernel)",
   "language": "python",
   "name": "python3"
  },
  "language_info": {
   "codemirror_mode": {
    "name": "ipython",
    "version": 3
   },
   "file_extension": ".py",
   "mimetype": "text/x-python",
   "name": "python",
   "nbconvert_exporter": "python",
   "pygments_lexer": "ipython3",
   "version": "3.10.8"
  }
 },
 "nbformat": 4,
 "nbformat_minor": 5
}
