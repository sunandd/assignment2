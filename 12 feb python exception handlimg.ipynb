{
 "cells": [
  {
   "cell_type": "markdown",
   "id": "779c37ac-cbd5-447e-8b2e-3d6ef566e2d6",
   "metadata": {},
   "source": [
    "Q1. Wh\n",
    "t is\n",
    "n Ex,eption in p\n",
    "\n",
    "thon? Write the differen,e etween Ex,eptions\n",
    "nd $\n",
    "nt\n",
    "x errors"
   ]
  },
  {
   "cell_type": "markdown",
   "id": "d8d96a78-37fb-4770-9c51-5f28fe6398e6",
   "metadata": {},
   "source": [
    "\n",
    "It seems there are some typographical errors and missing characters in your question, but I'll try to provide an answer based on what I understand.\n",
    "\n",
    "What is an Exception in Python?\n",
    "\n",
    "In Python, an exception is an event or error that occurs during the execution of a program and disrupts the normal flow of the program's instructions. When an exceptional situation arises, Python raises an exception, which can be caught and handled by appropriate code.\n",
    "\n",
    "Differences between Exceptions and Syntax Errors:\n",
    "\n",
    "Syntax Errors:\n",
    "\n",
    "Syntax errors are errors that occur when the Python interpreter encounters incorrect syntax in your code.\n",
    "These errors prevent the program from running and need to be fixed before the program can be executed.\n",
    "Examples of syntax errors include missing parentheses, incorrect indentation, or misspelled keywords.\n",
    "Exceptions:\n",
    "\n",
    "Exceptions, on the other hand, occur during the execution of a program even if the syntax is correct.\n",
    "They represent runtime errors and can be caused by various reasons such as division by zero, attempting to access an index that doesn't exist, or trying to open a non-existent file.\n",
    "Exceptions can be caught and handled using try-except blocks, allowing the program to recover gracefully from unexpected situations.\n",
    "In summary, syntax errors are related to the structure of the code and prevent the program from running, while exceptions are runtime errors that occur during program execution and can be handled to prevent the program from crashing."
   ]
  },
  {
   "cell_type": "markdown",
   "id": "9ff3516c-303d-4203-ae96-f2021c6f3738",
   "metadata": {},
   "source": [
    "Q2. Wh\n",
    "t h\n",
    "ppens when\n",
    "\n",
    "n ex,eption is not h\n",
    "\n",
    "ndled? Expl\n",
    "in with\n",
    "n ex\n",
    "mple"
   ]
  },
  {
   "cell_type": "markdown",
   "id": "66b53dfc-e073-4038-b6dd-742fcaa935ce",
   "metadata": {},
   "source": [
    "When an exception is not handled, it propagates up the call stack until it reaches the default exception handler. In Python, this typically results in the program being terminated, and an error message is displayed, indicating the type of exception and the location where it occurred. This process is known as an unhandled exception."
   ]
  },
  {
   "cell_type": "code",
   "execution_count": 2,
   "id": "6ec29b24-f353-45a2-b71e-8e2344ed79e5",
   "metadata": {},
   "outputs": [
    {
     "name": "stdout",
     "output_type": "stream",
     "text": [
      "Caught a ZeroDivisionError: division by zero\n"
     ]
    }
   ],
   "source": [
    "def divide_numbers(a, b):\n",
    "    result = a / b\n",
    "    return result\n",
    "\n",
    "try:\n",
    "    result = divide_numbers(10, 0)\n",
    "    print(\"Result:\", result)\n",
    "except ZeroDivisionError as zde:\n",
    "    print(\"Caught a ZeroDivisionError:\", zde)\n"
   ]
  },
  {
   "cell_type": "markdown",
   "id": "ccbc6155-5743-41e9-b5d2-a01a25a8c4c3",
   "metadata": {},
   "source": [
    "In this modified code, an except block specifically catches ZeroDivisionError, providing a more controlled response to the situation where division by zero occurs. The error message within the except block will be printed when the exception is caught."
   ]
  },
  {
   "cell_type": "markdown",
   "id": "711e19be-7f6c-4958-b3ca-af8c95cd6ad8",
   "metadata": {},
   "source": [
    "Q3. Whi,h P\n",
    "thon st\n",
    "tements\n",
    "\n",
    "re used to ,\n",
    "t,h\n",
    "nd h\n",
    "ndle ex,eptions? Expl\n",
    "in with\n",
    "n ex\n",
    "mple"
   ]
  },
  {
   "cell_type": "markdown",
   "id": "0c0ebac3-3f8b-4691-ba1c-a764b561b0ec",
   "metadata": {},
   "source": [
    "\n",
    "In Python, the try, except, else, and finally statements are used to handle exceptions. These statements provide a way to structure code to manage and respond to exceptions in a controlled manner.\n",
    "\n",
    "Here's an explanation of each statement along with an example:\n",
    "\n",
    "try Statement:\n",
    "\n",
    "The try block encloses a section of code where you expect exceptions to occur.\n",
    "If an exception occurs within the try block, it is caught, and the corresponding except block is executed.\n",
    "except Statement:\n",
    "\n",
    "The except block follows the try block and contains code that is executed if a specified exception occurs.\n",
    "You can have multiple except blocks to handle different types of exceptions.\n",
    "else Statement:\n",
    "\n",
    "The else block, if present, is executed if no exceptions occur in the try block.\n",
    "It is optional and follows all except blocks.\n",
    "finally Statement:\n",
    "\n",
    "The finally block, if present, is executed regardless of whether an exception occurred or not.\n",
    "It is useful for cleanup operations that should be performed no matter what."
   ]
  },
  {
   "cell_type": "code",
   "execution_count": 3,
   "id": "3eec5b7a-ede1-4aae-9e3d-f382af7363a4",
   "metadata": {},
   "outputs": [
    {
     "name": "stdout",
     "output_type": "stream",
     "text": [
      "Caught a ZeroDivisionError: division by zero\n",
      "This block always executes, regardless of exceptions.\n",
      "Division successful. Result: 5.0\n",
      "This block always executes, regardless of exceptions.\n"
     ]
    }
   ],
   "source": [
    "def divide_numbers(a, b):\n",
    "    try:\n",
    "        result = a / b\n",
    "    except ZeroDivisionError as zde:\n",
    "        print(\"Caught a ZeroDivisionError:\", zde)\n",
    "    else:\n",
    "        print(\"Division successful. Result:\", result)\n",
    "    finally:\n",
    "        print(\"This block always executes, regardless of exceptions.\")\n",
    "\n",
    "# Example 1: Division by zero\n",
    "divide_numbers(10, 0)\n",
    "\n",
    "# Example 2: Normal division\n",
    "divide_numbers(10, 2)\n"
   ]
  },
  {
   "cell_type": "markdown",
   "id": "917484c1-153e-4c77-82c0-ea2dd9addc0f",
   "metadata": {},
   "source": [
    "The first call to divide_numbers(10, 0) triggers a ZeroDivisionError, which is caught in the except block. The else block is skipped in this case. The finally block still executes, demonstrating that it runs regardless of exceptions.\n",
    "The second call to divide_numbers(10, 2) performs a normal division, and no exceptions occur. The else block is executed, and again, the finally block runs."
   ]
  },
  {
   "cell_type": "markdown",
   "id": "c69b1482-b018-436f-a5cd-b4b39b97c2e7",
   "metadata": {},
   "source": [
    "Q4. Expl\n",
    "in with\n",
    "n ex\n",
    "mple:#\n",
    "\n",
    " tr\n",
    "nd else#\n",
    " fin\n",
    "ll\n",
    "+ r\n",
    "ise"
   ]
  },
  {
   "cell_type": "code",
   "execution_count": 4,
   "id": "33862fee-8b4e-43a4-b068-4d5247a9043f",
   "metadata": {},
   "outputs": [
    {
     "name": "stdout",
     "output_type": "stream",
     "text": [
      "File not found: nonexistent.txt\n",
      "This block always executes, providing cleanup or finalization.\n",
      "File read successfully. Contents:\n",
      "First line using writelines()\n",
      "Second line using writelines()\n",
      "\n",
      "This block always executes, providing cleanup or finalization.\n"
     ]
    }
   ],
   "source": [
    "def read_file(file_path):\n",
    "    try:\n",
    "        # Attempt to open and read the contents of the file\n",
    "        with open(file_path, 'r') as file:\n",
    "            content = file.read()\n",
    "    except FileNotFoundError as fnf:\n",
    "        # Handle the case where the file is not found\n",
    "        print(f\"File not found: {file_path}\")\n",
    "    except IOError as ioe:\n",
    "        # Handle other input/output errors\n",
    "        print(f\"Error reading file: {file_path}\")\n",
    "    else:\n",
    "        # Execute if no exceptions occurred in the try block\n",
    "        print(\"File read successfully. Contents:\")\n",
    "        print(content)\n",
    "    finally:\n",
    "        # Always executed, regardless of whether an exception occurred\n",
    "        print(\"This block always executes, providing cleanup or finalization.\")\n",
    "\n",
    "# Example 1: Reading a non-existent file\n",
    "read_file(\"nonexistent.txt\")\n",
    "\n",
    "# Example 2: Reading an existing file\n",
    "read_file(\"example.txt\")\n"
   ]
  },
  {
   "cell_type": "markdown",
   "id": "c9ab2010-3a00-4eea-839d-c0a7240c224b",
   "metadata": {},
   "source": [
    "The try block attempts to open and read the contents of a file specified by file_path.\n",
    "The except blocks catch specific exceptions:\n",
    "FileNotFoundError if the file is not found.\n",
    "IOError for other input/output errors.\n",
    "The else block is executed if no exceptions occurred in the try block. In this example, it prints the contents of the file.\n",
    "The finally block always executes, providing a place for cleanup or finalization code.\n",
    "In the first example call (read_file(\"nonexistent.txt\")), a FileNotFoundError occurs because the specified file does not exist. The appropriate except block is executed, and the else block is skipped.\n",
    "\n",
    "In the second example call (read_file(\"example.txt\")), the file exists, and no exceptions occur. The else block is executed, and the finally block runs.\n",
    "\n",
    "These statements help you structure your code to gracefully handle exceptions, perform specific actions based on the outcome, and ensure that cleanup tasks are executed, even in the presence of exceptions."
   ]
  },
  {
   "cell_type": "markdown",
   "id": "5c15db18-5d07-402a-85b0-0c6fdd762035",
   "metadata": {},
   "source": [
    "Q5. Wh\n",
    "t\n",
    "re Custom Ex,eptions in p\n",
    "\n",
    "thon? Wh\n",
    "\n",
    "do we need Custom Ex,eptions? Expl\n",
    "in with\n",
    "n ex\n",
    "mple"
   ]
  },
  {
   "cell_type": "markdown",
   "id": "c9775db3-a49f-4c40-b0d9-1e68ac0025eb",
   "metadata": {},
   "source": [
    "\n",
    "Custom Exceptions in Python:\n",
    "\n",
    "Custom exceptions in Python refer to user-defined exception classes that inherit from the built-in Exception class or one of its subclasses. By creating custom exceptions, developers can define their own types of errors specific to their application or module.\n",
    "\n",
    "Why do we need Custom Exceptions?\n",
    "\n",
    "Clarity and Readability: Custom exceptions make the code more readable and self-documenting. They provide meaningful names for specific errors that can occur in the program.\n",
    "\n",
    "Granular Error Handling: With custom exceptions, you can handle different types of errors in a more granular way. This allows for more specific responses to various exceptional situations.\n",
    "\n",
    "Abstraction of Error Details: Custom exceptions abstract away the details of the error handling process. This separation of concerns makes the code more modular and easier to maintain.\n",
    "\n",
    "Example:\n",
    "\n",
    "Let's create a simple example to illustrate the use of a custom exception. Consider a scenario where a banking application needs to handle insufficient balance when processing a withdrawal:"
   ]
  },
  {
   "cell_type": "code",
   "execution_count": 5,
   "id": "ba2d72bd-db14-4cb8-ad73-5b3048552f06",
   "metadata": {},
   "outputs": [
    {
     "name": "stdout",
     "output_type": "stream",
     "text": [
      "Insufficient balance. Current balance: 1000, Attempted withdrawal: 1500\n"
     ]
    }
   ],
   "source": [
    "class InsufficientBalanceError(Exception):\n",
    "    def __init__(self, balance, amount):\n",
    "        self.message = f\"Insufficient balance. Current balance: {balance}, Attempted withdrawal: {amount}\"\n",
    "        super().__init__(self.message)\n",
    "\n",
    "class BankAccount:\n",
    "    def __init__(self, balance):\n",
    "        self.balance = balance\n",
    "\n",
    "    def withdraw(self, amount):\n",
    "        if amount > self.balance:\n",
    "            raise InsufficientBalanceError(self.balance, amount)\n",
    "        else:\n",
    "            self.balance -= amount\n",
    "            print(f\"Withdrawal successful. Remaining balance: {self.balance}\")\n",
    "\n",
    "# Example:\n",
    "try:\n",
    "    account = BankAccount(1000)\n",
    "    account.withdraw(1500)  # This will raise InsufficientBalanceError\n",
    "except InsufficientBalanceError as ibe:\n",
    "    print(ibe)\n"
   ]
  },
  {
   "cell_type": "raw",
   "id": "85652ceb-3def-4420-8317-8f19277f5ed0",
   "metadata": {},
   "source": [
    "The InsufficientBalanceError class is a custom exception that inherits from Exception. It takes the current balance and the attempted withdrawal amount as parameters.\n",
    "The BankAccount class has a withdraw method that raises InsufficientBalanceError if the withdrawal amount exceeds the current balance.\n",
    "In the example usage, attempting to withdraw 1500 from an account with a balance of 1000 raises the InsufficientBalanceError. The exception is caught and the error message is printed.\n",
    "Custom exceptions help in creating more robust and maintainable code by allowing developers to define and handle specific error conditions relevant to their applications."
   ]
  },
  {
   "cell_type": "markdown",
   "id": "eca34c04-cad0-40ef-847f-a373aa2560a6",
   "metadata": {},
   "source": [
    "Q6. Cre\n",
    "te\n",
    ",ustom ex,eption ,l\n",
    "\n",
    "ss. Use this ,l\n",
    "ss to h\n",
    "ndle\n",
    "n ex,eption."
   ]
  },
  {
   "cell_type": "markdown",
   "id": "c672536b-e2d4-4e10-95ff-2fdf63f713f3",
   "metadata": {},
   "source": [
    "\n",
    "Let's create a custom exception class and use it to handle an exception. In this example, we'll create a custom exception called InvalidInputError to handle situations where invalid input is detected:"
   ]
  },
  {
   "cell_type": "code",
   "execution_count": 7,
   "id": "36ce113d-efd1-481a-a1fe-145c9a072487",
   "metadata": {},
   "outputs": [
    {
     "name": "stdout",
     "output_type": "stream",
     "text": [
      "Invalid input detected: Invalid\n"
     ]
    }
   ],
   "source": [
    "class InvalidInputError(Exception):\n",
    "    def __init__(self, input_value):\n",
    "        self.message = f\"Invalid input detected: {input_value}\"\n",
    "        super().__init__(self.message)\n",
    "\n",
    "def process_input(input_value):\n",
    "    if not isinstance(input_value, int):\n",
    "        raise InvalidInputError(input_value)\n",
    "    else:\n",
    "        print(f\"Processing input: {input_value}\")\n",
    "\n",
    "# Example:\n",
    "try:\n",
    "    # Attempt to process an invalid input (a string)\n",
    "    process_input(\"Invalid\")\n",
    "except InvalidInputError as iie:\n",
    "    print(iie)\n"
   ]
  },
  {
   "cell_type": "raw",
   "id": "c8d47e11-b023-48c2-9d82-5ec98276add7",
   "metadata": {},
   "source": [
    "The InvalidInputError class is a custom exception that inherits from the built-in Exception class. It takes the invalid input value as a parameter.\n",
    "The process_input function checks if the input is an integer. If it's not, it raises the InvalidInputError with the invalid input value.\n",
    "In the example usage, we attempt to process the input \"Invalid,\" which is not an integer. This triggers the InvalidInputError, and the exception is caught in the except block, where the error message is printed.\n",
    "This demonstrates how custom exceptions can be used to handle specific error conditions in a clean and modular way. Custom exceptions provide a meaningful way to communicate and handle exceptional situations in your code."
   ]
  },
  {
   "cell_type": "code",
   "execution_count": null,
   "id": "28d76912-3454-4484-8256-7b3e8f0d9412",
   "metadata": {},
   "outputs": [],
   "source": []
  }
 ],
 "metadata": {
  "kernelspec": {
   "display_name": "Python 3 (ipykernel)",
   "language": "python",
   "name": "python3"
  },
  "language_info": {
   "codemirror_mode": {
    "name": "ipython",
    "version": 3
   },
   "file_extension": ".py",
   "mimetype": "text/x-python",
   "name": "python",
   "nbconvert_exporter": "python",
   "pygments_lexer": "ipython3",
   "version": "3.10.8"
  }
 },
 "nbformat": 4,
 "nbformat_minor": 5
}
