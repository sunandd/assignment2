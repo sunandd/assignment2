{
 "cells": [
  {
   "cell_type": "markdown",
   "id": "b733b842-5a7d-4565-b151-1855572d59ca",
   "metadata": {},
   "source": [
    "Q1. Which keyword is used to create a function? Create a function to return a list of odd numbers in the\n",
    "range of 1 to 25."
   ]
  },
  {
   "cell_type": "markdown",
   "id": "47a202ae-1a03-475f-aab6-2c69d59ef815",
   "metadata": {},
   "source": [
    "def key word is used to create a function in python."
   ]
  },
  {
   "cell_type": "code",
   "execution_count": 36,
   "id": "1c1f9cb5-3d83-43ef-9c8b-6b6dd8da16c9",
   "metadata": {},
   "outputs": [
    {
     "name": "stdout",
     "output_type": "stream",
     "text": [
      "1\n",
      "3\n",
      "5\n",
      "7\n",
      "9\n",
      "11\n",
      "13\n",
      "15\n",
      "17\n",
      "19\n",
      "21\n",
      "23\n",
      "25\n"
     ]
    }
   ],
   "source": [
    "a, b =1, 26\n",
    "def odd(a,b):\n",
    "    if a>=b:\n",
    "        return\n",
    "    if a&1:\n",
    "        print(a)\n",
    "        return odd(a+2,b)\n",
    "    else:\n",
    "        return odd(a+1,b)\n",
    "odd(a,b)    "
   ]
  },
  {
   "cell_type": "markdown",
   "id": "5f9e69ee-d6bd-4b66-a45c-805870c76a6d",
   "metadata": {},
   "source": [
    "Q2. Why *args and **kwargs is used in some functions? Create a function each for *args and **kwargs\n",
    "to demonstrate their use."
   ]
  },
  {
   "cell_type": "markdown",
   "id": "4ea32d91-8034-48bb-920a-99c358e5bc49",
   "metadata": {},
   "source": [
    "*args  passes variable number of non-keyworded arguments and on which operation of the tuple can be performed. **kwargs passes variable number of keyword arguments dictionary to function on which operation of a dictionary can be performed."
   ]
  },
  {
   "cell_type": "code",
   "execution_count": 4,
   "id": "2ada2d6e-b019-4c01-a94e-e841386f48ac",
   "metadata": {},
   "outputs": [
    {
     "name": "stdout",
     "output_type": "stream",
     "text": [
      "Hello\n",
      "Welcome\n",
      "to\n",
      "suna\n"
     ]
    }
   ],
   "source": [
    "def test1(*mmsd):\n",
    "    for i in mmsd:\n",
    "        print(i)\n",
    " \n",
    " \n",
    "test1('Hello', 'Welcome', 'to', 'suna' )"
   ]
  },
  {
   "cell_type": "markdown",
   "id": "4238b71d-b6c1-45dd-9d0d-1fb956deb364",
   "metadata": {},
   "source": [
    "The special syntax **kwargs in function definitions in python is used to pass a keyworded, variable-length argument list. We use the name kwargs with the double star. The reason is that the double star allows us to pass through keyword arguments .\n",
    "\n",
    "A keyword argument is where you provide a name to the variable as you pass it into the function.\n",
    "One can think of the kwargs as being a dictionary that maps each keyword to the value that we pass alongside it. That is why when we iterate over the kwargs there doesn’t seem to be any order in which they were printed out."
   ]
  },
  {
   "cell_type": "code",
   "execution_count": 8,
   "id": "b56b55bf-81a9-42b0-9475-52dd91d5e1f3",
   "metadata": {},
   "outputs": [
    {
     "name": "stdout",
     "output_type": "stream",
     "text": [
      "name\n",
      "email\n",
      "rollno\n"
     ]
    }
   ],
   "source": [
    "def test2(**kwss):\n",
    "    for i in kwss:\n",
    "        print(i)\n",
    " \n",
    " \n",
    "test2(name = 'suna', email = 'suna@gm', rollno = '101' )"
   ]
  },
  {
   "cell_type": "markdown",
   "id": "96a3edfe-e958-4804-92d9-6a7fea25bb35",
   "metadata": {},
   "source": [
    "Q3 What is an iterator in python? Name the method used to initialise the iterator object and the method\n",
    "used for iteration. Use these methods to print the first five elements of the given list [2, 4, 6, 8, 10, 12, 14,\n",
    "16, 18, 20]."
   ]
  },
  {
   "cell_type": "code",
   "execution_count": 13,
   "id": "1c0b95ef-8c93-4e18-8072-4930243eb144",
   "metadata": {},
   "outputs": [
    {
     "name": "stdout",
     "output_type": "stream",
     "text": [
      "2\n",
      "4\n",
      "6\n",
      "8\n",
      "10\n"
     ]
    }
   ],
   "source": [
    "l1 = [2,4,6,8,10,12,14,16,18,20]\n",
    "ch_iterator = iter(l1)\n",
    " \n",
    "print(next(ch_iterator))\n",
    "print(next(ch_iterator))\n",
    "print(next(ch_iterator))\n",
    "print(next(ch_iterator))\n",
    "print(next(ch_iterator))"
   ]
  },
  {
   "cell_type": "markdown",
   "id": "d0dcaf1f-6f33-4a1b-a58d-a5cd53115f35",
   "metadata": {},
   "source": [
    "Q4. What is a generator function in python? Why yield keyword is used? Give an example of a generator\n",
    "function."
   ]
  },
  {
   "cell_type": "markdown",
   "id": "8e3d9197-c97e-4086-b9be-7ceb42f76c82",
   "metadata": {},
   "source": [
    "The yield keyword in Python is similar to a return statement used for returning values in Python which returns a generator object to the one who calls the function which contains yield, instead of simply returning a value. The main difference between them is, the return statement terminates the execution of the function. Whereas, the yield statement only pauses the execution of the function. Another difference is return statements are never executed. whereas, yield statements are executed when the function resumes its execution."
   ]
  },
  {
   "cell_type": "code",
   "execution_count": 6,
   "id": "46b2dacc-5ff3-4264-9740-b99a750a40ca",
   "metadata": {},
   "outputs": [
    {
     "name": "stdout",
     "output_type": "stream",
     "text": [
      "<class 'generator'>\n",
      "222\n",
      "suna\n"
     ]
    }
   ],
   "source": [
    "def fun_generator():\n",
    "    yield \"222\"\n",
    "    yield \"suna\"\n",
    "obj = fun_generator()\n",
    " \n",
    "print(type(obj))\n",
    " \n",
    "print(next(obj))\n",
    "print(next(obj))"
   ]
  },
  {
   "cell_type": "markdown",
   "id": "611f8620-1ad9-432d-82d7-aef29239971c",
   "metadata": {},
   "source": [
    "\n",
    "Q5. Create a generator function for prime numbers less than 1000. Use the next() method to print the\n",
    "first 20 prime numbers.\n",
    "\n"
   ]
  },
  {
   "cell_type": "code",
   "execution_count": 1,
   "id": "9d5ca73c-59ca-4396-bd5c-6278c327136c",
   "metadata": {},
   "outputs": [
    {
     "name": "stdout",
     "output_type": "stream",
     "text": [
      "<class 'generator'>\n",
      "222\n",
      "suna\n"
     ]
    }
   ],
   "source": [
    "def fun_generator():\n",
    "    yield \"222\"\n",
    "    yield \"suna\"\n",
    "obj = fun_generator()\n",
    " \n",
    "print(type(obj))\n",
    " \n",
    "print(next(obj))\n",
    "print(next(obj))"
   ]
  },
  {
   "cell_type": "markdown",
   "id": "0f9e2c28-e65a-407b-afa0-36fcb44e699c",
   "metadata": {},
   "source": [
    "Q6. Write a python program to print the first 10 Fibonacci numbers using a while loop."
   ]
  },
  {
   "cell_type": "code",
   "execution_count": 2,
   "id": "b5d4aea7-fe58-4111-ab21-64aeb63ce5e2",
   "metadata": {},
   "outputs": [
    {
     "name": "stdout",
     "output_type": "stream",
     "text": [
      "0\n",
      "1\n",
      "1\n",
      "2\n",
      "3\n",
      "5\n",
      "8\n",
      "13\n",
      "21\n",
      "34\n"
     ]
    }
   ],
   "source": [
    "a, b = 0, 1\n",
    "count = 0\n",
    "while count < 10:\n",
    "    print(a)\n",
    "    a, b = b, a + b\n",
    "    count += 1\n"
   ]
  },
  {
   "cell_type": "markdown",
   "id": "d9ecef08-a10a-486f-b901-5c3a20982dd5",
   "metadata": {},
   "source": [
    "Q7. Write a List Comprehension to iterate through the given string: ‘pwskills’.\n",
    "Expected output: ['p', 'w', 's', 'k', 'i', 'l', 'l', 's']"
   ]
  },
  {
   "cell_type": "code",
   "execution_count": 5,
   "id": "29c4fd55-bceb-464c-a21d-ffe62aff99e2",
   "metadata": {},
   "outputs": [
    {
     "name": "stdout",
     "output_type": "stream",
     "text": [
      "['p', 'w', 's', 'k', 'i', 'l', 'l', 's']\n"
     ]
    }
   ],
   "source": [
    "my_string = 'pwskills'\n",
    "output = []\n",
    "for i in my_string:\n",
    "    output.append(i)\n",
    "\n",
    "print(output)\n"
   ]
  },
  {
   "cell_type": "markdown",
   "id": "82eb3b68-2347-430a-b68d-41249c6b6271",
   "metadata": {},
   "source": [
    "Q8. Write a python program to check whether a given number is Palindrome or not using a while loop."
   ]
  },
  {
   "cell_type": "code",
   "execution_count": 6,
   "id": "ffcf489f-5043-4ff3-8f37-9421435ab806",
   "metadata": {},
   "outputs": [
    {
     "name": "stdin",
     "output_type": "stream",
     "text": [
      "Enter a number:  5\n"
     ]
    },
    {
     "name": "stdout",
     "output_type": "stream",
     "text": [
      "5 is a palindrome\n"
     ]
    }
   ],
   "source": [
    "num = int(input(\"Enter a number: \"))\n",
    "temp = num\n",
    "rev = 0\n",
    "while temp != 0:\n",
    "    rev = (rev * 10) + (temp % 10)\n",
    "    temp = temp // 10\n",
    "if num == rev:\n",
    "    print(num, \"is a palindrome\")\n",
    "else:\n",
    "    print(num, \"is not a palindrome\")\n"
   ]
  },
  {
   "cell_type": "markdown",
   "id": "bc9d329f-8ffa-49a9-be21-27fc821b24d1",
   "metadata": {},
   "source": [
    "Q9. Write a code to print odd numbers from 1 to 100 using list comprehension."
   ]
  },
  {
   "cell_type": "code",
   "execution_count": 17,
   "id": "637d968e-f999-419d-b3f1-8e124bd21b1c",
   "metadata": {},
   "outputs": [
    {
     "name": "stdout",
     "output_type": "stream",
     "text": [
      "[1, 3, 5, 7, 9, 11, 13, 15, 17, 19, 21, 23, 25, 27, 29, 31, 33, 35, 37, 39, 41, 43, 45, 47, 49, 51, 53, 55, 57, 59, 61, 63, 65, 67, 69, 71, 73, 75, 77, 79, 81, 83, 85, 87, 89, 91, 93, 95, 97, 99]\n"
     ]
    }
   ],
   "source": [
    "odd_num=[]\n",
    "for i in range(1,100):\n",
    "    if i % 2 != 0:\n",
    "        odd_num.append(i)\n",
    "\n",
    "print(odd_num)    \n"
   ]
  }
 ],
 "metadata": {
  "kernelspec": {
   "display_name": "Python 3 (ipykernel)",
   "language": "python",
   "name": "python3"
  },
  "language_info": {
   "codemirror_mode": {
    "name": "ipython",
    "version": 3
   },
   "file_extension": ".py",
   "mimetype": "text/x-python",
   "name": "python",
   "nbconvert_exporter": "python",
   "pygments_lexer": "ipython3",
   "version": "3.10.8"
  }
 },
 "nbformat": 4,
 "nbformat_minor": 5
}
