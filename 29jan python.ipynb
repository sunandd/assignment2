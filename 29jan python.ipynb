{
 "cells": [
  {
   "cell_type": "markdown",
   "id": "84aafb69-6bb9-4ebe-ac65-ad4ef5fafb31",
   "metadata": {},
   "source": [
    "1.\n",
    "who developed python programing language"
   ]
  },
  {
   "cell_type": "markdown",
   "id": "c34d1b7f-3775-446a-a944-3cdfcfe4e354",
   "metadata": {},
   "source": [
    "Python programming language was created by Guido van Rossum. He began working on Python in the late 1980s, and the first official release, Python 0.9.0, came out in February 1991. Guido van Rossum continued to lead the development of Python until he stepped down as the \"Benevolent Dictator For Life\" (BDFL) in July 2018. The Python community now governs the language through the Python Enhancement Proposal (PEP) process."
   ]
  },
  {
   "cell_type": "markdown",
   "id": "2e176591-24c4-46e1-9f69-b2194022e4c6",
   "metadata": {},
   "source": [
    "2. Which type of programing does python support?"
   ]
  },
  {
   "cell_type": "markdown",
   "id": "31b11a2b-5615-449a-a46b-adaf29050a9b",
   "metadata": {},
   "source": [
    "\n",
    "Python is a versatile programming language that supports multiple programming paradigms. The primary programming paradigms supported by Python include:\n",
    "\n",
    "Imperative Programming: Python supports imperative programming, where you write a sequence of statements to achieve a specific goal. This is the most common paradigm used in procedural programming.\n",
    "\n",
    "Object-Oriented Programming (OOP): Python is an object-oriented programming language, allowing you to define classes and create objects to model real-world entities. Encapsulation, inheritance, and polymorphism are key concepts in Python's OOP support.\n",
    "\n",
    "Functional Programming: Python supports functional programming principles. It includes features like first-class functions, higher-order functions, and the ability to use functions as arguments or return values.\n",
    "\n",
    "Procedural Programming: Python allows you to write programs using procedures or routines, which are sets of statements that perform specific tasks. This is closely related to imperative programming.\n",
    "\n",
    "Structured Programming: Python supports structured programming, emphasizing the use of structured control flow constructs such as loops and conditionals.\n",
    "\n",
    "Python's flexibility and ease of use make it suitable for various programming styles, allowing developers to choose the paradigm that best fits their problem domain or coding preferences. The ability to combine different paradigms within a single program is one of Python's strengths."
   ]
  },
  {
   "cell_type": "markdown",
   "id": "ddc6d0cb-767f-403a-a6c4-6e8bea1e7706",
   "metadata": {},
   "source": [
    "3. Is python case sensitive when dealing with identifiers?"
   ]
  },
  {
   "cell_type": "markdown",
   "id": "20b16373-6ea2-41b8-82cf-9362956fc074",
   "metadata": {},
   "source": [
    "\n",
    "Yes, Python is case-sensitive when dealing with identifiers. This means that variables, functions, class names, and other identifiers must be written with the correct capitalization to be recognized as distinct entities.\n",
    "\n",
    "For example, in Python, the variables \"myVar\" and \"myvar\" would be treated as different variables. Similarly, the function names \"print\" and \"Print\" would be considered distinct."
   ]
  },
  {
   "cell_type": "code",
   "execution_count": 1,
   "id": "58d60fa8-2581-401e-b19b-a6b395e1b35e",
   "metadata": {},
   "outputs": [
    {
     "name": "stdout",
     "output_type": "stream",
     "text": [
      "10\n",
      "20\n"
     ]
    }
   ],
   "source": [
    "variable1 = 10\n",
    "Variable1 = 20\n",
    "\n",
    "print(variable1)   # Output: 10\n",
    "print(Variable1)   # Output: 20\n"
   ]
  },
  {
   "cell_type": "markdown",
   "id": "7e9b1ca0-9b0f-4ac5-abc8-f69ad70473b7",
   "metadata": {},
   "source": [
    "In this example, variable1 and Variable1 are two different variables due to the case sensitivity of Python. It's important to be consistent with the capitalization of identifiers throughout your code to avoid confusion and errors"
   ]
  },
  {
   "cell_type": "markdown",
   "id": "320fa5b3-bdba-4e53-a5df-05777f79d278",
   "metadata": {},
   "source": [
    "4. what is the correct extention of the python file?"
   ]
  },
  {
   "cell_type": "markdown",
   "id": "e428dc34-52fd-4be3-ae76-93f4a57b2c79",
   "metadata": {},
   "source": [
    "The correct extension for Python source code files is \".py\". When you save a Python script, you should give it a name with the \".py\" extension. For example, a Python script might be named \"example.py\"."
   ]
  },
  {
   "cell_type": "markdown",
   "id": "e05e71cd-d959-46e1-9d61-4645fd4ed6f8",
   "metadata": {},
   "source": [
    "5. is python code compiled or interpreted?"
   ]
  },
  {
   "cell_type": "markdown",
   "id": "aee5e59c-c6f3-4c0e-86fb-b04742d448f8",
   "metadata": {},
   "source": [
    "\n",
    "Python is generally classified as an interpreted language. However, the distinction between compiled and interpreted languages can sometimes be nuanced, especially with languages like Python.\n",
    "\n",
    "When you run a Python script, the source code is first translated into an intermediate form known as bytecode. This bytecode is not machine code for a specific computer architecture but is a low-level representation that is platform-independent. This bytecode is then executed by the Python interpreter.\n",
    "\n",
    "So, in the traditional sense, Python is interpreted because the execution of the code happens line by line by the Python interpreter. However, the bytecode compilation step provides a level of abstraction that allows for some optimizations and can improve the performance of the code.\n",
    "\n",
    "It's important to note that there are implementations of Python, such as PyPy, that use Just-In-Time (JIT) compilation techniques to further enhance performance. These implementations can dynamically compile parts of the bytecode into machine code during runtime.\n",
    "\n",
    "In summary, Python is often considered an interpreted language due to its bytecode interpretation, but the presence of bytecode compilation and JIT compilation in certain implementations blurs the lines between interpreted and compiled languages."
   ]
  },
  {
   "cell_type": "markdown",
   "id": "414c34e3-e426-4695-9756-4ce67dda793f",
   "metadata": {},
   "source": [
    "6. name a few blocks of code used to define  in python language?"
   ]
  },
  {
   "cell_type": "markdown",
   "id": "0c7ee849-9799-4ed1-82ee-cd16f833ae25",
   "metadata": {},
   "source": [
    "In Python, indentation is used to define blocks of code instead of explicit braces or keywords. The standard indentation is four spaces, and it is crucial for defining the structure and hierarchy of the code. Here are a few examples of code blocks in Python:\n",
    "\n",
    "Conditional Statements (if, elif, else, try , execption, finally, function defination(def) , for, while"
   ]
  },
  {
   "cell_type": "markdown",
   "id": "14208b33-97f2-4b48-a9f2-cf95fda73026",
   "metadata": {},
   "source": [
    "7. state a character used to give single-line comments in py5thon?"
   ]
  },
  {
   "cell_type": "markdown",
   "id": "337cb712-a848-4365-802e-1428272a9d91",
   "metadata": {},
   "source": [
    "\n",
    "In Python, the character used to indicate a single-line comment is the hash symbol (#). Anything following the # on a line is treated as a comment and is ignored by the Python interpreter. Here's an example:"
   ]
  },
  {
   "cell_type": "code",
   "execution_count": 5,
   "id": "9f89220a-115a-4e7d-8ccd-11d7a963956f",
   "metadata": {},
   "outputs": [
    {
     "name": "stdout",
     "output_type": "stream",
     "text": [
      "Hello, World!\n"
     ]
    }
   ],
   "source": [
    "# This is a single-line comment in Python\n",
    "\n",
    "print(\"Hello, World!\")  # This comment follows a code statement\n"
   ]
  },
  {
   "cell_type": "markdown",
   "id": "f50d1046-24de-4283-963a-224cb238a678",
   "metadata": {},
   "source": [
    "'#' are comments, and they do not affect the execution of the program. Comments are useful for providing explanations, documentation, or disabling specific lines of code during development"
   ]
  },
  {
   "cell_type": "markdown",
   "id": "32503500-eb30-433a-b2b2-ae24e6eed484",
   "metadata": {},
   "source": [
    "8. mention functions which can healp  us to find the version of python that we currently working on?"
   ]
  },
  {
   "cell_type": "markdown",
   "id": "fa1df53e-34d2-4b24-a079-7bf738ed31a2",
   "metadata": {},
   "source": [
    "To find the version of Python that you are currently working with, you can use the following methods: sys.version,  platform.python_version(),  command line- python --version, python -v"
   ]
  },
  {
   "cell_type": "markdown",
   "id": "379a9783-49d4-40a7-b9d0-5db5da24ef47",
   "metadata": {},
   "source": [
    "9.\n",
    "python supports the creation of anonymous functions at runtime, using a constructor called _______?"
   ]
  },
  {
   "cell_type": "markdown",
   "id": "b48b5b7d-09d6-4a5c-9893-ef9735df682a",
   "metadata": {},
   "source": [
    "In Python, anonymous functions can be created at runtime using a constructor called lambda. lambda is used to define small, unnamed functions, also known as lambda functions. These functions are often used for short-term operations or as arguments to higher-order functions that take functions as parameters"
   ]
  },
  {
   "cell_type": "code",
   "execution_count": 6,
   "id": "d3bccc51-c156-461d-8ac6-259e8d75459f",
   "metadata": {},
   "outputs": [
    {
     "name": "stdout",
     "output_type": "stream",
     "text": [
      "8\n"
     ]
    }
   ],
   "source": [
    "# Syntax: lambda arguments: expression\n",
    "add = lambda x, y: x + y\n",
    "\n",
    "result = add(3, 5)\n",
    "print(result)  # Output: 8\n"
   ]
  },
  {
   "cell_type": "markdown",
   "id": "4db6c670-e2d7-41dc-9a0b-a9436be56d97",
   "metadata": {},
   "source": [
    "10. what does pip stands for python?"
   ]
  },
  {
   "cell_type": "markdown",
   "id": "a6c2afdc-6b70-4e1f-af19-ef9b4ae5a092",
   "metadata": {},
   "source": [
    "\n",
    "\"Pip\" stands for \"Pip Installs Packages\" or \"Pip Installs Python.\" Pip is the package installer for Python, and it is used to install and manage third-party libraries and packages that are not part of the Python standard library. Pip simplifies the process of installing, upgrading, and managing Python packages, making it an essential tool for Python developers."
   ]
  },
  {
   "cell_type": "markdown",
   "id": "4d3e413f-bb04-42ad-9cf1-aacb52ab3f97",
   "metadata": {},
   "source": [
    "11. User\n",
    "mention a few  built-in function in python?"
   ]
  },
  {
   "cell_type": "markdown",
   "id": "cd773169-9bc0-412a-a582-79c26d90c3d1",
   "metadata": {},
   "source": [
    "Python comes with a variety of built-in functions that are readily available for use. Here are some commonly used built-in functions in Pytho. print(), len(), show(), input(), int(),range() etc."
   ]
  },
  {
   "cell_type": "markdown",
   "id": "1c1ae4e7-994d-40f7-b940-ef3d771cd0dd",
   "metadata": {},
   "source": [
    "12. what is the maximum possible length of an identifier in python?"
   ]
  },
  {
   "cell_type": "markdown",
   "id": "847b9dd3-03c5-4d55-b8b9-c07c8d3a5146",
   "metadata": {},
   "source": [
    "\n",
    "In Python, there is no strict maximum limit on the length of an identifier (variable name, function name, class name, etc.). However, it is important to note that practical considerations and readability concerns should guide the choice of identifier length.\n",
    "\n",
    "According to the Python style guide, PEP 8, the maximum line length is recommended to be 79 characters for regular code and 72 characters for docstrings and comments. While this guidance doesn't explicitly limit the length of identifiers, excessively long names can make the code less readable.\n",
    "\n",
    "It's generally a good practice to choose descriptive and meaningful names for identifiers but also keep them reasonably concise to enhance code readability and maintainability. If an identifier becomes too long, it might be an indication that the code structure or naming convention could be improved.\n",
    "\n",
    "\n",
    "\n",
    "\n",
    "\n"
   ]
  },
  {
   "cell_type": "markdown",
   "id": "7e396f83-169e-4f24-8302-58abd138c565",
   "metadata": {},
   "source": [
    "13\n",
    "what are the benifits of python?"
   ]
  },
  {
   "cell_type": "markdown",
   "id": "1eb0170b-7630-4e0e-9d1f-b9d55530a89a",
   "metadata": {},
   "source": [
    "\n",
    "Python is a popular programming language with numerous benefits, contributing to its widespread adoption in various domains. Here are some of the key advantages of Python:\n",
    "\n",
    "Readability and Simplicity:\n",
    "\n",
    "Python's syntax is clear, readable, and easy to learn, making it an excellent language for beginners.\n",
    "The use of indentation to define code blocks enforces a clean and consistent coding style.\n",
    "Extensive Standard Library:\n",
    "\n",
    "Python comes with a comprehensive standard library that provides modules and packages for a wide range of tasks, reducing the need for external libraries.\n",
    "Community and Documentation:\n",
    "\n",
    "Python has a large and active community of developers who contribute to its growth and provide support.\n",
    "Extensive documentation and resources are available, making it easy to find solutions to problems and learn new concepts.\n",
    "Versatility:\n",
    "\n",
    "Python is a versatile language that supports multiple programming paradigms, including procedural, object-oriented, and functional programming.\n",
    "Compatibility and Integrations:\n",
    "\n",
    "Python is platform-independent, meaning code written in Python can run on various platforms without modification.\n",
    "It supports integration with other languages and systems, allowing easy incorporation of existing code and technologies.\n",
    "Rich Ecosystem of Libraries and Frameworks:\n",
    "\n",
    "Python has a vast ecosystem of third-party libraries and frameworks that cover a wide range of applications, such as web development (Django, Flask), data science (NumPy, Pandas), machine learning (TensorFlow, PyTorch), and more.\n",
    "Rapid Prototyping and Development:\n",
    "\n",
    "Python's concise syntax and high-level abstractions enable rapid prototyping and development, reducing development time and enhancing productivity.\n",
    "Strong Support for Integration and APIs:\n",
    "\n",
    "Python has excellent support for working with APIs, making it a preferred language for building web services, RESTful APIs, and integrations.\n",
    "Cross-Platform Compatibility:\n",
    "\n",
    "Python code can be easily migrated and executed on different platforms without major modifications, promoting cross-platform compatibility.\n",
    "Dynamic Typing and Memory Management:\n",
    "\n",
    "Python uses dynamic typing, allowing developers to write code more flexibly without specifying variable types explicitly.\n",
    "Python handles memory management automatically through garbage collection, simplifying memory-related issues for developers."
   ]
  },
  {
   "cell_type": "markdown",
   "id": "07ec8c07-35fe-4214-9445-6350f70da032",
   "metadata": {},
   "source": [
    "14. how is memorynmanaged in python ?"
   ]
  },
  {
   "cell_type": "markdown",
   "id": "1941c5bb-a8a4-4dc7-aaae-260a4c11f821",
   "metadata": {},
   "source": [
    "Memory management in Python is automatic and handled by the Python memory manager. The key features of Python memory management include:\n",
    "\n",
    "Dynamic Typing:\n",
    "\n",
    "Python is dynamically typed, meaning the type of a variable is interpreted at runtime. This dynamic typing allows for flexibility but requires additional memory overhead to store type information.\n",
    "Reference Counting:\n",
    "\n",
    "Python uses a reference counting mechanism to keep track of the number of references to an object.\n",
    "Every object in Python has a reference count associated with it, indicating how many references point to that object.\n",
    "When the reference count drops to zero (i.e., no references pointing to the object), the memory occupied by the object is deallocated.\n",
    "Garbage Collection:\n",
    "\n",
    "In addition to reference counting, Python employs a garbage collector to reclaim memory that is no longer in use.\n",
    "The garbage collector identifies and collects circular references or objects that reference each other, preventing memory leaks.\n",
    "Memory Pools:\n",
    "\n",
    "Python uses a system of memory pools for small objects to optimize memory allocation.\n",
    "The memory manager allocates blocks of memory, known as pools, to store objects of a specific size.\n",
    "Memory Fragmentation:\n",
    "\n",
    "Memory fragmentation can occur in long-running programs due to the allocation and deallocation of memory.\n",
    "Python's memory manager includes mechanisms to address fragmentation issues.\n",
    "It's important to note that Python's memory management is abstracted from the developer, allowing for a more straightforward programming experience. However, understanding memory management concepts can be beneficial for optimizing code and avoiding potential performance issues.\n",
    "\n",
    "Developers are not required to manually allocate or deallocate memory in Python, as this is handled automatically by the interpreter. The combination of reference counting and garbage collection helps manage memory efficiently while allowing developers to focus on writing high-level code."
   ]
  },
  {
   "cell_type": "markdown",
   "id": "16deb656-4804-4d24-ae59-d14216dbbf5b",
   "metadata": {},
   "source": [
    "15. how to install python on windows and set path veriables?"
   ]
  },
  {
   "cell_type": "markdown",
   "id": "e8bae536-d24a-4e76-802a-c431051ba902",
   "metadata": {},
   "source": [
    "To install Python on Windows and set the PATH variables, follow these steps:\n",
    "\n",
    "Installation:\n",
    "Download Python Installer:\n",
    "\n",
    "Visit the official Python website: Python Downloads\n",
    "Download the latest version of Python for Windows (the download button may say \"Download Python X.X.X\" where X.X.X is the version number).\n",
    "Run the Installer:\n",
    "\n",
    "Double-click on the downloaded installer file (e.g., python-3.X.X.exe) to launch the installation.\n",
    "Customize Installation (Optional):\n",
    "\n",
    "In the installer, you can customize the installation by selecting the checkbox that says \"Add Python X.X to PATH\" during installation. This will automatically set the PATH variable.\n",
    "\n",
    "If you missed this step, don't worry; you can set the PATH manually in the next steps.\n",
    "\n",
    "Install Python:\n",
    "\n",
    "Click \"Install Now\" to start the installation process. Make sure to check the box that says \"Add Python X.X to PATH\" if you didn't do so during customization.\n",
    "\n",
    "Wait for Installation:\n",
    "\n",
    "The installer will copy files and install Python. Once complete, you'll see a screen indicating that Python was installed successfully.\n",
    "Setting PATH Variables (If Not Automatically Set):\n",
    "If you didn't check the \"Add Python X.X to PATH\" during installation, you can set the PATH variables manually:\n",
    "\n",
    "Find Python Installation Path:\n",
    "\n",
    "Locate the folder where Python is installed. The default path is typically C:\\Users\\YourUsername\\AppData\\Local\\Programs\\Python\\Python3X, where YourUsername is your Windows username, and 3X is the Python version (e.g., 3.9).\n",
    "Copy Python Path:\n",
    "\n",
    "Copy the path to the Scripts folder within the Python installation directory. It should look like C:\\Users\\YourUsername\\AppData\\Local\\Programs\\Python\\Python3X\\Scripts.\n",
    "Add Python Path to System Environment Variables:\n",
    "\n",
    "Right-click on \"This PC\" or \"Computer\" on your desktop or in File Explorer.\n",
    "Select \"Properties\" > \"Advanced system settings\" > \"Environment Variables.\"\n",
    "\n",
    "Edit \"Path\" Variable:\n",
    "\n",
    "In the \"System variables\" section, scroll down and select the \"Path\" variable, then click \"Edit.\"\n",
    "\n",
    "Add Python Scripts Path:\n",
    "\n",
    "Click \"New\" and paste the path to the Scripts folder that you copied earlier.\n",
    "\n",
    "Verify Installation:\n",
    "\n",
    "Open a new command prompt and type python --version or python -V to verify that Python is now accessible from the command line.\n",
    "\n",
    "Now, Python is installed on your Windows system, and the PATH variables are set to make it accessible from the command line."
   ]
  },
  {
   "cell_type": "markdown",
   "id": "93cac02b-1252-4baa-ae74-c565143bd8f6",
   "metadata": {},
   "source": [
    "116. Is indentation required in python?"
   ]
  },
  {
   "cell_type": "markdown",
   "id": "80006c8e-5d70-44c8-a356-23f24a9229fe",
   "metadata": {},
   "source": [
    "Yes, indentation is required in Python. In Python, indentation is used to define blocks of code. Unlike many other programming languages that use braces {} or keywords like begin and end to delimit code blocks, Python relies on consistent indentation to indicate the beginning and end of blocks."
   ]
  },
  {
   "cell_type": "code",
   "execution_count": null,
   "id": "4ce3555f-09e3-4012-add2-fd5d26e5ac27",
   "metadata": {},
   "outputs": [],
   "source": []
  }
 ],
 "metadata": {
  "kernelspec": {
   "display_name": "Python 3 (ipykernel)",
   "language": "python",
   "name": "python3"
  },
  "language_info": {
   "codemirror_mode": {
    "name": "ipython",
    "version": 3
   },
   "file_extension": ".py",
   "mimetype": "text/x-python",
   "name": "python",
   "nbconvert_exporter": "python",
   "pygments_lexer": "ipython3",
   "version": "3.10.8"
  }
 },
 "nbformat": 4,
 "nbformat_minor": 5
}
