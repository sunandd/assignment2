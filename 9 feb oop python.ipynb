{
 "cells": [
  {
   "cell_type": "markdown",
   "id": "0c81b66b-79ac-4baf-96e6-c1bfa58e4d0d",
   "metadata": {},
   "source": [
    "Q1, Create a vehicle class with an init method having instance variables as name_of_vehicle, max_speed\n",
    "and average_of_vehicle."
   ]
  },
  {
   "cell_type": "code",
   "execution_count": 1,
   "id": "796b4865-0c47-487d-a885-f5bd360ad483",
   "metadata": {},
   "outputs": [
    {
     "name": "stdout",
     "output_type": "stream",
     "text": [
      "Name of Vehicle: Car\n",
      "Max Speed: 200\n",
      "Average Speed: 25\n"
     ]
    }
   ],
   "source": [
    "class Vehicle:\n",
    "    def __init__(self, name_of_vehicle, max_speed, average_of_vehicle):\n",
    "        self.name_of_vehicle = name_of_vehicle\n",
    "        self.max_speed = max_speed\n",
    "        self.average_of_vehicle = average_of_vehicle\n",
    "\n",
    "# Example usage:\n",
    "car = Vehicle(\"Car\", 200, 25)\n",
    "print(\"Name of Vehicle:\", car.name_of_vehicle)\n",
    "print(\"Max Speed:\", car.max_speed)\n",
    "print(\"Average Speed:\", car.average_of_vehicle)\n"
   ]
  },
  {
   "cell_type": "markdown",
   "id": "d8535c00-ed45-44bd-9e54-ce4ca0e7d632",
   "metadata": {},
   "source": [
    "In this example, the __init__ method initializes the instance variables name_of_vehicle, max_speed, and average_of_vehicle when an object of the Vehicle class is created. The example usage demonstrates how to create a Vehicle object and access its attributes.\n",
    "\n",
    "\n",
    "\n",
    "\n",
    "\n"
   ]
  },
  {
   "cell_type": "markdown",
   "id": "98815398-696b-44a9-b267-459bedda6d8a",
   "metadata": {},
   "source": [
    "Q2. Create a child class car from the vehicle class created in Que 1, which will inherit the vehicle class.\n",
    "Create a method named seating_capacity which takes capacity as an argument and returns the name of\n",
    "the vehicle and its seating capacity."
   ]
  },
  {
   "cell_type": "code",
   "execution_count": 2,
   "id": "138388fb-3d6e-4195-8bcf-21f88461f2eb",
   "metadata": {},
   "outputs": [
    {
     "name": "stdout",
     "output_type": "stream",
     "text": [
      "Name of Vehicle: Sedan\n",
      "Max Speed: 180\n",
      "Average Speed: 30\n",
      "The Sedan has a seating capacity of 5.\n"
     ]
    }
   ],
   "source": [
    "class Car(Vehicle):\n",
    "    def __init__(self, name_of_vehicle, max_speed, average_of_vehicle):\n",
    "        # Call the constructor of the parent class (Vehicle)\n",
    "        super().__init__(name_of_vehicle, max_speed, average_of_vehicle)\n",
    "\n",
    "    def seating_capacity(self, capacity):\n",
    "        return f\"The {self.name_of_vehicle} has a seating capacity of {capacity}.\"\n",
    "\n",
    "# Example usage:\n",
    "car_instance = Car(\"Sedan\", 180, 30)\n",
    "print(\"Name of Vehicle:\", car_instance.name_of_vehicle)\n",
    "print(\"Max Speed:\", car_instance.max_speed)\n",
    "print(\"Average Speed:\", car_instance.average_of_vehicle)\n",
    "\n",
    "# Call the seating_capacity method\n",
    "capacity_result = car_instance.seating_capacity(5)\n",
    "print(capacity_result)\n"
   ]
  },
  {
   "cell_type": "markdown",
   "id": "55c97259-7cbe-465f-b70e-551ad75fe304",
   "metadata": {},
   "source": [
    "In this example, the Car class is a child class of the Vehicle class. It inherits the __init__ method from the parent class using super() and adds a new method called seating_capacity. The example usage demonstrates how to create an instance of the Car class and call both the inherited attributes/methods and the new seating_capacity method."
   ]
  },
  {
   "cell_type": "markdown",
   "id": "c0b066b4-4aac-40e6-aff7-e9247f69b4a4",
   "metadata": {},
   "source": [
    "Q3. What is multiple inheritance? Write a python code to demonstrate multiple inheritance."
   ]
  },
  {
   "cell_type": "markdown",
   "id": "b3960063-50b1-487c-b002-89a3026da9e2",
   "metadata": {},
   "source": [
    "Multiple inheritance is a feature in object-oriented programming where a class can inherit attributes and methods from more than one parent class. This means that a child class can inherit from multiple parent classes, allowing it to acquire properties and behaviors from each parent."
   ]
  },
  {
   "cell_type": "code",
   "execution_count": 3,
   "id": "5e6bfa0a-4d4f-415e-92a3-9ce4f601a876",
   "metadata": {},
   "outputs": [
    {
     "name": "stdout",
     "output_type": "stream",
     "text": [
      "Name: Buddy\n",
      "Species: Dog\n",
      "Has Fur: True\n",
      "Sound: Woof!\n",
      "Nursing: Buddy is nursing its pups.\n"
     ]
    }
   ],
   "source": [
    "# Parent class 1\n",
    "class Animal:\n",
    "    def __init__(self, species):\n",
    "        self.species = species\n",
    "\n",
    "    def make_sound(self):\n",
    "        pass\n",
    "\n",
    "# Parent class 2\n",
    "class Mammal:\n",
    "    def __init__(self, has_fur):\n",
    "        self.has_fur = has_fur\n",
    "\n",
    "    def nurse(self):\n",
    "        pass\n",
    "\n",
    "# Child class inheriting from both Animal and Mammal\n",
    "class Dog(Animal, Mammal):\n",
    "    def __init__(self, name, breed, has_fur=True):\n",
    "        # Call constructors of both parent classes\n",
    "        Animal.__init__(self, species=\"Dog\")\n",
    "        Mammal.__init__(self, has_fur=has_fur)\n",
    "        self.name = name\n",
    "        self.breed = breed\n",
    "\n",
    "    def make_sound(self):\n",
    "        return \"Woof!\"\n",
    "\n",
    "    def nurse(self):\n",
    "        return f\"{self.name} is nursing its pups.\"\n",
    "\n",
    "# Example usage\n",
    "dog_instance = Dog(name=\"Buddy\", breed=\"Golden Retriever\")\n",
    "\n",
    "print(\"Name:\", dog_instance.name)\n",
    "print(\"Species:\", dog_instance.species)\n",
    "print(\"Has Fur:\", dog_instance.has_fur)\n",
    "\n",
    "print(\"Sound:\", dog_instance.make_sound())\n",
    "print(\"Nursing:\", dog_instance.nurse())\n"
   ]
  },
  {
   "cell_type": "markdown",
   "id": "11981c68-3e12-4bc2-85b6-d332084fd768",
   "metadata": {},
   "source": [
    "In this example, we have three classes: Animal, Mammal, and Dog. The Dog class inherits from both Animal and Mammal, demonstrating multiple inheritance. The Dog class can access attributes and methods from both parent classes (Animal and Mammal). The example usage at the end shows how to create a Dog instance and use methods from both parent classes.\n",
    "\n",
    "\n",
    "\n",
    "\n",
    "\n"
   ]
  },
  {
   "cell_type": "markdown",
   "id": "21befd26-3c76-44f7-9185-7f247e03857c",
   "metadata": {},
   "source": [
    "Q4. What are getter and setter in python? Create a class and create a getter and a setter method in this\n",
    "class."
   ]
  },
  {
   "cell_type": "markdown",
   "id": "2569b56b-063f-4b08-828b-06b682f12825",
   "metadata": {},
   "source": [
    "\n",
    "In Python, getters and setters are methods used for accessing and modifying the attributes (variables) of a class. They provide a way to control the access and modification of class attributes, allowing you to enforce certain rules or validations.\n",
    "\n",
    "Getter Method: It is a method that retrieves the current value of an attribute.\n",
    "\n",
    "Setter Method: It is a method that sets a new value for an attribute, often including some validation or logic."
   ]
  },
  {
   "cell_type": "code",
   "execution_count": 4,
   "id": "1c3fca79-33b0-4d88-9494-3f2c3deb06a9",
   "metadata": {},
   "outputs": [
    {
     "name": "stdout",
     "output_type": "stream",
     "text": [
      "Name: John\n",
      "Age: 20\n",
      "Updated Name: Alice\n",
      "Updated Age: 22\n"
     ]
    }
   ],
   "source": [
    "class Student:\n",
    "    def __init__(self, name, age):\n",
    "        self._name = name  # private attribute with a single leading underscore\n",
    "        self._age = age    # private attribute with a single leading underscore\n",
    "\n",
    "    # Getter method for name\n",
    "    def get_name(self):\n",
    "        return self._name\n",
    "\n",
    "    # Getter method for age\n",
    "    def get_age(self):\n",
    "        return self._age\n",
    "\n",
    "    # Setter method for name\n",
    "    def set_name(self, new_name):\n",
    "        if isinstance(new_name, str):\n",
    "            self._name = new_name\n",
    "        else:\n",
    "            print(\"Invalid name format. Name must be a string.\")\n",
    "\n",
    "    # Setter method for age\n",
    "    def set_age(self, new_age):\n",
    "        if isinstance(new_age, int) and new_age >= 0:\n",
    "            self._age = new_age\n",
    "        else:\n",
    "            print(\"Invalid age format. Age must be a non-negative integer.\")\n",
    "\n",
    "# Example usage\n",
    "student1 = Student(\"John\", 20)\n",
    "\n",
    "# Using getter methods\n",
    "print(\"Name:\", student1.get_name())\n",
    "print(\"Age:\", student1.get_age())\n",
    "\n",
    "# Using setter methods\n",
    "student1.set_name(\"Alice\")\n",
    "student1.set_age(22)\n",
    "\n",
    "# Displaying updated values using getter methods\n",
    "print(\"Updated Name:\", student1.get_name())\n",
    "print(\"Updated Age:\", student1.get_age())\n"
   ]
  },
  {
   "cell_type": "markdown",
   "id": "1f89375c-1f48-4811-a22d-86596b8bd298",
   "metadata": {},
   "source": [
    "In this example, the Student class has private attributes _name and _age. Getter methods (get_name and get_age) are used to retrieve the current values of these attributes, while setter methods (set_name and set_age) are used to set new values for the attributes, with some basic validation checks."
   ]
  },
  {
   "cell_type": "markdown",
   "id": "b16a7a5e-3cc4-4f22-b7e0-71baebf65f97",
   "metadata": {},
   "source": [
    "Q5.What is method overriding in python? Write a python code to demonstrate method overriding."
   ]
  },
  {
   "cell_type": "markdown",
   "id": "4ac1a33b-3306-43ba-bf1c-431f29c5bf60",
   "metadata": {},
   "source": [
    "\n",
    "Method overriding in Python occurs when a subclass provides a specific implementation for a method that is already defined in its superclass. The overridden method in the subclass has the same name, return type, and parameters as the method in the superclass. This allows the subclass to provide a specialized implementation while maintaining the method signature defined in the superclass."
   ]
  },
  {
   "cell_type": "code",
   "execution_count": 5,
   "id": "46693218-d0d6-4400-8522-d1793b4b36e6",
   "metadata": {},
   "outputs": [
    {
     "name": "stdout",
     "output_type": "stream",
     "text": [
      "Area of Circle: 78.5\n",
      "Area of Rectangle: 24\n"
     ]
    }
   ],
   "source": [
    "class Shape:\n",
    "    def calculate_area(self):\n",
    "        return 0\n",
    "\n",
    "class Circle(Shape):\n",
    "    def __init__(self, radius):\n",
    "        self.radius = radius\n",
    "\n",
    "    # Overriding the calculate_area method from the superclass\n",
    "    def calculate_area(self):\n",
    "        return 3.14 * self.radius**2\n",
    "\n",
    "class Rectangle(Shape):\n",
    "    def __init__(self, length, width):\n",
    "        self.length = length\n",
    "        self.width = width\n",
    "\n",
    "    # Overriding the calculate_area method from the superclass\n",
    "    def calculate_area(self):\n",
    "        return self.length * self.width\n",
    "\n",
    "# Example usage\n",
    "circle = Circle(radius=5)\n",
    "rectangle = Rectangle(length=4, width=6)\n",
    "\n",
    "# Calling overridden methods\n",
    "print(\"Area of Circle:\", circle.calculate_area())       # Calls Circle's calculate_area\n",
    "print(\"Area of Rectangle:\", rectangle.calculate_area()) # Calls Rectangle's calculate_area\n"
   ]
  },
  {
   "cell_type": "markdown",
   "id": "5107ac7d-a691-4af9-a43a-66eb56283bde",
   "metadata": {},
   "source": [
    "In this example, the Shape class has a method calculate_area with a generic implementation returning 0. The Circle and Rectangle classes are subclasses of Shape and both override the calculate_area method with their specific implementations for calculating the area of a circle and a rectangle, respectively. When you call calculate_area on an instance of Circle or Rectangle, it calls the overridden method in the corresponding subclass. This is method overriding in action.\n",
    "\n",
    "\n",
    "\n",
    "\n",
    "\n"
   ]
  },
  {
   "cell_type": "code",
   "execution_count": null,
   "id": "24c2a0cb-1d06-4810-a104-67b1818b334d",
   "metadata": {},
   "outputs": [],
   "source": []
  }
 ],
 "metadata": {
  "kernelspec": {
   "display_name": "Python 3 (ipykernel)",
   "language": "python",
   "name": "python3"
  },
  "language_info": {
   "codemirror_mode": {
    "name": "ipython",
    "version": 3
   },
   "file_extension": ".py",
   "mimetype": "text/x-python",
   "name": "python",
   "nbconvert_exporter": "python",
   "pygments_lexer": "ipython3",
   "version": "3.10.8"
  }
 },
 "nbformat": 4,
 "nbformat_minor": 5
}
