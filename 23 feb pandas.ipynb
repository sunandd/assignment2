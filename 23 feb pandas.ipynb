{
 "cells": [
  {
   "cell_type": "markdown",
   "id": "23e9a569-7def-448b-84bb-607ae55aacf9",
   "metadata": {},
   "source": [
    "Q1. Create a Pandas Series that contains the following data: 4, 8, 15, 16, 23, and 42. Then, print the series."
   ]
  },
  {
   "cell_type": "code",
   "execution_count": 1,
   "id": "237d19f7-320f-4c7a-b3eb-25ad053210b3",
   "metadata": {},
   "outputs": [
    {
     "name": "stdout",
     "output_type": "stream",
     "text": [
      "0     4\n",
      "1     8\n",
      "2    15\n",
      "3    16\n",
      "4    23\n",
      "5    42\n",
      "dtype: int64\n"
     ]
    }
   ],
   "source": [
    "import pandas as pd\n",
    "\n",
    "# Create a Pandas Series\n",
    "data = [4, 8, 15, 16, 23, 42]\n",
    "series = pd.Series(data)\n",
    "\n",
    "# Print the series\n",
    "print(series)\n"
   ]
  },
  {
   "cell_type": "markdown",
   "id": "5c668578-7b6b-417c-b8a5-114def516b59",
   "metadata": {},
   "source": [
    "Q3. Create a Pandas DataFrame that contains the following data:\n",
    "\n",
    "Then, print the DataFrame.\n",
    "\n",
    "name: [alice , bob, claire ], age :[25, 30, 27], gender :[female, male ,female]\n"
   ]
  },
  {
   "cell_type": "code",
   "execution_count": 2,
   "id": "ed79232f-a6f1-4ab4-ab77-303575ddfa6c",
   "metadata": {},
   "outputs": [
    {
     "name": "stdout",
     "output_type": "stream",
     "text": [
      "     name  age  gender\n",
      "0   alice   25  female\n",
      "1     bob   30    male\n",
      "2  claire   27  female\n"
     ]
    }
   ],
   "source": [
    "import pandas as pd\n",
    "\n",
    "# Provided data\n",
    "data = {\n",
    "    'name': ['alice', 'bob', 'claire'],\n",
    "    'age': [25, 30, 27],\n",
    "    'gender': ['female', 'male', 'female']\n",
    "}\n",
    "\n",
    "# Create a Pandas DataFrame\n",
    "df = pd.DataFrame(data)\n",
    "\n",
    "# Print the DataFrame\n",
    "print(df)\n"
   ]
  },
  {
   "cell_type": "markdown",
   "id": "f4f4b1bd-965c-448f-99c4-a19182b08af7",
   "metadata": {},
   "source": [
    "Q4. What is ‘DataFrame’ in pandas and how is it different from pandas.series? Explain with an example."
   ]
  },
  {
   "cell_type": "raw",
   "id": "7e634cf9-a0d2-4cd3-bbe9-d270321a4c82",
   "metadata": {},
   "source": [
    "In Pandas, a DataFrame is a two-dimensional labeled data structure with columns that can be of different types. It can be thought of as a spreadsheet or SQL table, where data is organized in rows and columns. Each column in a DataFrame is essentially a Pandas Series, and the combination of these Series forms a DataFrame.\n",
    "\n",
    "A Pandas Series, on the other hand, is a one-dimensional labeled array. It can be seen as a single column of data in a DataFrame. A DataFrame consists of multiple columns, each of which is a Pandas Series.\n",
    "\n",
    "difference between a Pandas Series and a DataFrame:"
   ]
  },
  {
   "cell_type": "code",
   "execution_count": 3,
   "id": "176c2863-aee9-4dda-a754-b31c4572c876",
   "metadata": {},
   "outputs": [
    {
     "name": "stdout",
     "output_type": "stream",
     "text": [
      "Pandas Series:\n",
      "0    1\n",
      "1    2\n",
      "2    3\n",
      "3    4\n",
      "Name: Numbers, dtype: int64\n",
      "\n",
      "Type: <class 'pandas.core.series.Series'>\n",
      "\n",
      "DataFrame:\n",
      "     Name  Age  Gender\n",
      "0   Alice   25  Female\n",
      "1     Bob   30    Male\n",
      "2  Claire   27  Female\n",
      "\n",
      "Type: <class 'pandas.core.frame.DataFrame'>\n"
     ]
    }
   ],
   "source": [
    "import pandas as pd\n",
    "\n",
    "# Creating a Pandas Series\n",
    "series_data = pd.Series([1, 2, 3, 4], name='Numbers')\n",
    "\n",
    "# Creating a DataFrame\n",
    "df_data = pd.DataFrame({\n",
    "    'Name': ['Alice', 'Bob', 'Claire'],\n",
    "    'Age': [25, 30, 27],\n",
    "    'Gender': ['Female', 'Male', 'Female']\n",
    "})\n",
    "\n",
    "# Printing the Pandas Series\n",
    "print(\"Pandas Series:\")\n",
    "print(series_data)\n",
    "print(\"\\nType:\", type(series_data))\n",
    "\n",
    "# Printing the DataFrame\n",
    "print(\"\\nDataFrame:\")\n",
    "print(df_data)\n",
    "print(\"\\nType:\", type(df_data))\n"
   ]
  },
  {
   "cell_type": "raw",
   "id": "e909e332-120e-486c-bf7d-5b172dd3857e",
   "metadata": {},
   "source": [
    "In this example, series_data is a Pandas Series representing a column of numbers, while df_data is a DataFrame containing columns 'Name', 'Age', and 'Gender'. Each column in the DataFrame is a Pandas Series. The key difference lies in the dimensionality: a Series is one-dimensional, and a DataFrame is two-dimensional."
   ]
  },
  {
   "cell_type": "markdown",
   "id": "e5d9baa3-9aa5-4a5a-865e-6fa0f67ba99c",
   "metadata": {},
   "source": [
    "Q5. What are some common functions you can use to manipulate data in a Pandas DataFrame? Can\n",
    "you give an example of when you might use one of these functions?"
   ]
  },
  {
   "cell_type": "raw",
   "id": "660ffe35-4ee3-4916-a2fe-62cdf98cdc86",
   "metadata": {},
   "source": [
    "head() and tail(): These functions allow you to view the first or last N rows of a DataFrame.\n",
    "\n",
    "describe(): Provides summary statistics of the numeric columns in the DataFrame.\n",
    "\n",
    "info(): Gives a concise summary of the DataFrame, including data types and missing values.\n",
    "\n",
    "shape: Returns a tuple representing the dimensions of the DataFrame (rows, columns).\n",
    "\n",
    "loc[] and iloc[]: Allows for label-based and integer-location-based indexing, respectively.\n",
    "\n",
    "drop(): Removes specified rows or columns from the DataFrame.\n"
   ]
  },
  {
   "cell_type": "code",
   "execution_count": 4,
   "id": "6659dc75-9fc4-49a3-b10a-fa9e607bd912",
   "metadata": {},
   "outputs": [
    {
     "data": {
      "text/html": [
       "<div>\n",
       "<style scoped>\n",
       "    .dataframe tbody tr th:only-of-type {\n",
       "        vertical-align: middle;\n",
       "    }\n",
       "\n",
       "    .dataframe tbody tr th {\n",
       "        vertical-align: top;\n",
       "    }\n",
       "\n",
       "    .dataframe thead th {\n",
       "        text-align: right;\n",
       "    }\n",
       "</style>\n",
       "<table border=\"1\" class=\"dataframe\">\n",
       "  <thead>\n",
       "    <tr style=\"text-align: right;\">\n",
       "      <th></th>\n",
       "      <th>name</th>\n",
       "      <th>age</th>\n",
       "      <th>gender</th>\n",
       "    </tr>\n",
       "  </thead>\n",
       "  <tbody>\n",
       "    <tr>\n",
       "      <th>0</th>\n",
       "      <td>alice</td>\n",
       "      <td>25</td>\n",
       "      <td>female</td>\n",
       "    </tr>\n",
       "    <tr>\n",
       "      <th>1</th>\n",
       "      <td>bob</td>\n",
       "      <td>30</td>\n",
       "      <td>male</td>\n",
       "    </tr>\n",
       "    <tr>\n",
       "      <th>2</th>\n",
       "      <td>claire</td>\n",
       "      <td>27</td>\n",
       "      <td>female</td>\n",
       "    </tr>\n",
       "  </tbody>\n",
       "</table>\n",
       "</div>"
      ],
      "text/plain": [
       "     name  age  gender\n",
       "0   alice   25  female\n",
       "1     bob   30    male\n",
       "2  claire   27  female"
      ]
     },
     "execution_count": 4,
     "metadata": {},
     "output_type": "execute_result"
    }
   ],
   "source": [
    "# Example using head()\n",
    "df.head(3)  # Show the first 3 rows of the DataFrame\n"
   ]
  },
  {
   "cell_type": "code",
   "execution_count": 5,
   "id": "dc5a4ced-bef6-466c-aa19-4c0b28e9baba",
   "metadata": {},
   "outputs": [
    {
     "data": {
      "text/html": [
       "<div>\n",
       "<style scoped>\n",
       "    .dataframe tbody tr th:only-of-type {\n",
       "        vertical-align: middle;\n",
       "    }\n",
       "\n",
       "    .dataframe tbody tr th {\n",
       "        vertical-align: top;\n",
       "    }\n",
       "\n",
       "    .dataframe thead th {\n",
       "        text-align: right;\n",
       "    }\n",
       "</style>\n",
       "<table border=\"1\" class=\"dataframe\">\n",
       "  <thead>\n",
       "    <tr style=\"text-align: right;\">\n",
       "      <th></th>\n",
       "      <th>age</th>\n",
       "    </tr>\n",
       "  </thead>\n",
       "  <tbody>\n",
       "    <tr>\n",
       "      <th>count</th>\n",
       "      <td>3.000000</td>\n",
       "    </tr>\n",
       "    <tr>\n",
       "      <th>mean</th>\n",
       "      <td>27.333333</td>\n",
       "    </tr>\n",
       "    <tr>\n",
       "      <th>std</th>\n",
       "      <td>2.516611</td>\n",
       "    </tr>\n",
       "    <tr>\n",
       "      <th>min</th>\n",
       "      <td>25.000000</td>\n",
       "    </tr>\n",
       "    <tr>\n",
       "      <th>25%</th>\n",
       "      <td>26.000000</td>\n",
       "    </tr>\n",
       "    <tr>\n",
       "      <th>50%</th>\n",
       "      <td>27.000000</td>\n",
       "    </tr>\n",
       "    <tr>\n",
       "      <th>75%</th>\n",
       "      <td>28.500000</td>\n",
       "    </tr>\n",
       "    <tr>\n",
       "      <th>max</th>\n",
       "      <td>30.000000</td>\n",
       "    </tr>\n",
       "  </tbody>\n",
       "</table>\n",
       "</div>"
      ],
      "text/plain": [
       "             age\n",
       "count   3.000000\n",
       "mean   27.333333\n",
       "std     2.516611\n",
       "min    25.000000\n",
       "25%    26.000000\n",
       "50%    27.000000\n",
       "75%    28.500000\n",
       "max    30.000000"
      ]
     },
     "execution_count": 5,
     "metadata": {},
     "output_type": "execute_result"
    }
   ],
   "source": [
    "# Example using describe()\n",
    "df.describe()\n"
   ]
  },
  {
   "cell_type": "code",
   "execution_count": 6,
   "id": "dc082a81-e1f0-4cae-b5ca-c6b77cd1a85b",
   "metadata": {},
   "outputs": [
    {
     "name": "stdout",
     "output_type": "stream",
     "text": [
      "<class 'pandas.core.frame.DataFrame'>\n",
      "RangeIndex: 3 entries, 0 to 2\n",
      "Data columns (total 3 columns):\n",
      " #   Column  Non-Null Count  Dtype \n",
      "---  ------  --------------  ----- \n",
      " 0   name    3 non-null      object\n",
      " 1   age     3 non-null      int64 \n",
      " 2   gender  3 non-null      object\n",
      "dtypes: int64(1), object(2)\n",
      "memory usage: 200.0+ bytes\n"
     ]
    }
   ],
   "source": [
    "# Example using info()\n",
    "df.info()\n"
   ]
  },
  {
   "cell_type": "code",
   "execution_count": 8,
   "id": "4fc1cb34-896e-420a-a082-e6bd3eea9645",
   "metadata": {},
   "outputs": [
    {
     "data": {
      "text/html": [
       "<div>\n",
       "<style scoped>\n",
       "    .dataframe tbody tr th:only-of-type {\n",
       "        vertical-align: middle;\n",
       "    }\n",
       "\n",
       "    .dataframe tbody tr th {\n",
       "        vertical-align: top;\n",
       "    }\n",
       "\n",
       "    .dataframe thead th {\n",
       "        text-align: right;\n",
       "    }\n",
       "</style>\n",
       "<table border=\"1\" class=\"dataframe\">\n",
       "  <thead>\n",
       "    <tr style=\"text-align: right;\">\n",
       "      <th></th>\n",
       "      <th>name</th>\n",
       "      <th>age</th>\n",
       "      <th>gender</th>\n",
       "    </tr>\n",
       "  </thead>\n",
       "  <tbody>\n",
       "    <tr>\n",
       "      <th>1</th>\n",
       "      <td>bob</td>\n",
       "      <td>30</td>\n",
       "      <td>male</td>\n",
       "    </tr>\n",
       "  </tbody>\n",
       "</table>\n",
       "</div>"
      ],
      "text/plain": [
       "  name  age gender\n",
       "1  bob   30   male"
      ]
     },
     "execution_count": 8,
     "metadata": {},
     "output_type": "execute_result"
    }
   ],
   "source": [
    " # Example using drop()\n",
    "df.drop([0, 2])  # Remove rows with index 0 and 2\n"
   ]
  },
  {
   "cell_type": "markdown",
   "id": "3c6df79d-a69c-4576-a13e-7c61c89aae36",
   "metadata": {},
   "source": [
    "Q6. Which of the following is mutable in nature Series, DataFrame, Panel?"
   ]
  },
  {
   "cell_type": "raw",
   "id": "24449008-b65c-4aa6-b02f-3f46355f11eb",
   "metadata": {},
   "source": [
    "In Pandas, both Series and DataFrame are mutable, meaning you can modify their contents after they are created.\n",
    "\n",
    "Series: You can modify the elements of a Series by assigning new values to specific indices."
   ]
  },
  {
   "cell_type": "code",
   "execution_count": 9,
   "id": "d935c34c-3fff-4da9-a247-6ef654c6f863",
   "metadata": {},
   "outputs": [],
   "source": [
    "import pandas as pd\n",
    "\n",
    "# Creating a Pandas Series\n",
    "s = pd.Series([1, 2, 3, 4])\n",
    "\n",
    "# Modifying a value in the Series\n",
    "s[2] = 10\n"
   ]
  },
  {
   "cell_type": "raw",
   "id": "0368e880-44d8-4e9b-b3aa-0e6b0e5968cf",
   "metadata": {},
   "source": [
    "DataFrame: You can modify the values in a DataFrame by assigning new values to specific cells or columns."
   ]
  },
  {
   "cell_type": "code",
   "execution_count": 10,
   "id": "0d7f0e0e-5814-432f-a3d4-5f987ffe2487",
   "metadata": {},
   "outputs": [],
   "source": [
    "import pandas as pd\n",
    "\n",
    "# Creating a Pandas DataFrame\n",
    "df = pd.DataFrame({'A': [1, 2, 3], 'B': [4, 5, 6]})\n",
    "\n",
    "# Modifying a value in the DataFrame\n",
    "df.at[0, 'A'] = 10\n",
    "\n",
    "# Modifying a column in the DataFrame\n",
    "df['B'] = [40, 50, 60]\n"
   ]
  },
  {
   "cell_type": "raw",
   "id": "df1b966c-4c62-434f-bc6c-f9d085d6ad83",
   "metadata": {},
   "source": [
    "On the other hand, the Panel is a 3D data structure in Pandas (which is not as commonly used as Series and DataFrame). However, as of Pandas version 0.25.0, the Panel is deprecated, and it is recommended to use MultiIndex DataFrames or xarray for 3D data."
   ]
  },
  {
   "cell_type": "markdown",
   "id": "d2ff8f14-03a9-43a4-9b97-910c3b3fc222",
   "metadata": {},
   "source": [
    "Q7. Create a DataFrame using multiple Series. Explain with an example."
   ]
  },
  {
   "cell_type": "code",
   "execution_count": 11,
   "id": "3f5052f9-6da4-4608-bd98-bd982c80592b",
   "metadata": {},
   "outputs": [
    {
     "name": "stdout",
     "output_type": "stream",
     "text": [
      "     Name  Age  Gender\n",
      "0   Alice   25  Female\n",
      "1     Bob   30    Male\n",
      "2  Claire   27  Female\n"
     ]
    }
   ],
   "source": [
    "import pandas as pd\n",
    "\n",
    "# Creating Pandas Series\n",
    "names = pd.Series(['Alice', 'Bob', 'Claire'], name='Name')\n",
    "ages = pd.Series([25, 30, 27], name='Age')\n",
    "genders = pd.Series(['Female', 'Male', 'Female'], name='Gender')\n",
    "\n",
    "# Creating DataFrame using multiple Series\n",
    "df = pd.DataFrame({'Name': names, 'Age': ages, 'Gender': genders})\n",
    "\n",
    "# Printing the DataFrame\n",
    "print(df)\n"
   ]
  },
  {
   "cell_type": "raw",
   "id": "32e96e76-c3b7-48e7-930f-d06ce0e130c5",
   "metadata": {},
   "source": [
    "In this example, three Pandas Series (names, ages, and genders) are created, each representing a column in the DataFrame. The DataFrame is then created using these Series, where the keys of the dictionary are the column names, and the values are the corresponding Series. The resulting DataFrame has columns 'Name', 'Age', and 'Gender'."
   ]
  },
  {
   "cell_type": "code",
   "execution_count": null,
   "id": "cd37d686-2463-43b9-b936-123572daf94a",
   "metadata": {},
   "outputs": [],
   "source": []
  }
 ],
 "metadata": {
  "kernelspec": {
   "display_name": "Python 3 (ipykernel)",
   "language": "python",
   "name": "python3"
  },
  "language_info": {
   "codemirror_mode": {
    "name": "ipython",
    "version": 3
   },
   "file_extension": ".py",
   "mimetype": "text/x-python",
   "name": "python",
   "nbconvert_exporter": "python",
   "pygments_lexer": "ipython3",
   "version": "3.10.8"
  }
 },
 "nbformat": 4,
 "nbformat_minor": 5
}
