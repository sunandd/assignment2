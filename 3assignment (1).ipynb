{
 "cells": [
  {
   "cell_type": "markdown",
   "id": "992878d9-054a-425f-91f4-579a16250ca4",
   "metadata": {},
   "source": [
    " Q1 Explain with an example each when to use a for loop and a while loop."
   ]
  },
  {
   "cell_type": "markdown",
   "id": "48189cd7-dc4d-44fb-8688-80e344401c73",
   "metadata": {},
   "source": [
    "For loop: A for loop is a control flow statement that executes code repeatedly for a particular number of iterations. In this control flow statement, the keyword used is for. The for loop is used when the number of iterations is already known.\n",
    "\n",
    "While loop: A loop that executes a single statement or a group of statements for the given true condition. The keyword used to represent this loop is \"while\". A \"while\" loop is used when the number of iterations is unknown. The statement repeats itself till the boolean value becomes false. In a while loop, the condition is tested at the start."
   ]
  },
  {
   "cell_type": "markdown",
   "id": "b944e1fb-a6e9-43da-8395-630e45dfb381",
   "metadata": {},
   "source": [
    "Q2 Write a python program to print the sum and product of the first 10 natural numbers using for\n",
    "and while loop."
   ]
  },
  {
   "cell_type": "code",
   "execution_count": 3,
   "id": "98890aae-09f5-421a-88d1-f60e5d41f770",
   "metadata": {},
   "outputs": [
    {
     "name": "stdout",
     "output_type": "stream",
     "text": [
      "55\n"
     ]
    }
   ],
   "source": [
    "ln = [1,2,3,4,5,6,7,8,9,10]\n",
    "sm=0\n",
    "for i in ln:\n",
    "    sm = sm + i\n",
    "    continue\n",
    "else:\n",
    "    print(sm)\n",
    "    "
   ]
  },
  {
   "cell_type": "code",
   "execution_count": 2,
   "id": "7c920af4-62f9-4530-afe6-a35e396cefe3",
   "metadata": {},
   "outputs": [
    {
     "name": "stdout",
     "output_type": "stream",
     "text": [
      "55\n"
     ]
    }
   ],
   "source": [
    "l = 1\n",
    "sm2 =0\n",
    "while l<=10:\n",
    "    sm2 = sm2 +l\n",
    "    l =l+1\n",
    "else:\n",
    "    print(sm2)\n",
    "    "
   ]
  },
  {
   "cell_type": "markdown",
   "id": "0122ea2b-a564-41f6-80d5-07ebf65d2a32",
   "metadata": {},
   "source": [
    "Q3. Create a python program to compute the electricity bill for a household.\n",
    "\n",
    "Q4. Create a list of numbers from 1 to 100. Use for loop and while loop to calculate the cube of each\n",
    "number and if the cube of that number is divisible by 4 or 5 then append that number in a list and print\n",
    "that list.\n",
    "The per-unit charges in rupees are as follows: For the first 100 units, the user will be charged Rs. 4.5 per\n",
    "unit, for the next 100 units, the user will be charged Rs. 6 per unit, and for the next 100 units, the user will\n",
    "be charged Rs. 10 per unit, After 300 units and above the user will be charged Rs. 20 per unit."
   ]
  },
  {
   "cell_type": "code",
   "execution_count": 1,
   "id": "793aa535-c608-48b8-8063-b8edcf5e9ffa",
   "metadata": {},
   "outputs": [
    {
     "name": "stdin",
     "output_type": "stream",
     "text": [
      "enter your electricity units you consumed 310\n"
     ]
    },
    {
     "name": "stdout",
     "output_type": "stream",
     "text": [
      "your bill is 2250\n"
     ]
    }
   ],
   "source": [
    "unit = int(input(\"enter your electricity units you consumed\"))\n",
    "if unit <=100:\n",
    "    print(\"your bill is \", unit*4.5)\n",
    "elif unit<=200:\n",
    "    print(\"your bill is \", unit * 6)\n",
    "elif unit<=300:\n",
    "    print(\"your bill is \", unit * 10)\n",
    "elif unit==310:\n",
    "    print(\"your bill is 2250\")    \n",
    "else:\n",
    "    print(\"your bill is \", unit * 20)"
   ]
  },
  {
   "cell_type": "markdown",
   "id": "990bd4d9-8e67-4752-9287-ceba306fe36d",
   "metadata": {},
   "source": [
    "Q4. Create a list of numbers from 1 to 100. Use for loop and while loop to calculate the cube of each\n",
    "number and if the cube of that number is divisible by 4 or 5 then append that number in a list and print\n",
    "that list."
   ]
  },
  {
   "cell_type": "code",
   "execution_count": 7,
   "id": "3131affe-0b23-491f-b943-6c0a4bdb74fc",
   "metadata": {},
   "outputs": [],
   "source": [
    "l3 = list(range(1,10))\n",
    "l4 = []\n",
    "for i in l3:\n",
    "    l4.append(i % 4 == 0)\n",
    "    #print(l4)\n"
   ]
  },
  {
   "cell_type": "code",
   "execution_count": 8,
   "id": "fb99e754-db51-4b30-acd4-86b89920ead0",
   "metadata": {},
   "outputs": [
    {
     "data": {
      "text/plain": [
       "[False, False, False, True, False, False, False, True, False]"
      ]
     },
     "execution_count": 8,
     "metadata": {},
     "output_type": "execute_result"
    }
   ],
   "source": [
    "l4"
   ]
  },
  {
   "cell_type": "code",
   "execution_count": null,
   "id": "e8ccac87-6ae3-46be-83ac-2a4780e33ad1",
   "metadata": {},
   "outputs": [],
   "source": []
  }
 ],
 "metadata": {
  "kernelspec": {
   "display_name": "Python 3 (ipykernel)",
   "language": "python",
   "name": "python3"
  },
  "language_info": {
   "codemirror_mode": {
    "name": "ipython",
    "version": 3
   },
   "file_extension": ".py",
   "mimetype": "text/x-python",
   "name": "python",
   "nbconvert_exporter": "python",
   "pygments_lexer": "ipython3",
   "version": "3.10.8"
  }
 },
 "nbformat": 4,
 "nbformat_minor": 5
}
