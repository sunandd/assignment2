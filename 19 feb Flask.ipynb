{
 "cells": [
  {
   "cell_type": "markdown",
   "id": "987d0254-e3d4-4b1c-b114-8c988868354a",
   "metadata": {},
   "source": [
    "Q1. What is Flask Framework? What are the advantages of Flask Framework?"
   ]
  },
  {
   "cell_type": "raw",
   "id": "4474dc5c-d0a9-4c5a-a0d6-a526d47e431c",
   "metadata": {},
   "source": [
    "Flask is a lightweight and web framework written in Python. It is designed to be simple, easy to use, and extensible, making it an excellent choice for developing web applications and APIs. Flask is often referred to as a micro-framework because it does not come with built-in tools and libraries like some larger frameworks (e.g., Django). Instead, Flask provides the essentials to get a web application up and running and leaves the choice of additional tools to the developer.\n",
    "\n",
    "Advantages of Flask Framework:\n",
    "\n",
    "Lightweight and Simple: Flask is lightweight and has a minimalistic design, making it easy to learn and quick to get started. It doesn't impose rigid project structures or dependencies, allowing developers more flexibility.\n",
    "\n",
    "Flexibility: Flask is highly flexible and allows developers to choose the components and libraries they want to use. This flexibility is beneficial when you have specific requirements and don't want to be constrained by a full-stack framework.\n",
    "\n",
    "Extensibility: Flask is extensible, allowing developers to use extensions for common tasks such as form validation, authentication, and database integration. These extensions make it easy to add functionality without reinventing the wheel.\n",
    "\n",
    "Built-in Development Server: Flask comes with a built-in development server that makes it simple to test and debug applications during the development phase. While not suitable for production, it is convenient for local development.\n",
    "\n",
    "RESTful Support: Flask is well-suited for building RESTful APIs, making it popular for developing backend services that interact with frontend frameworks or mobile applications.\n",
    "\n",
    "Jinja2 Templating: Flask uses the Jinja2 templating engine, which allows developers to easily create dynamic HTML templates with Python-like syntax. This simplifies the process of generating dynamic content for web applications.\n",
    "\n",
    "Community and Documentation: Flask has a vibrant and active community, and it is well-documented. This makes it easier for developers to find help, tutorials, and resources when working with the framework.\n",
    "\n",
    "Compatibility with WSGI Standards: Flask is compliant with the Web Server Gateway Interface (WSGI), which ensures compatibility with various web servers and deployment options.\n",
    "\n",
    "It's important to note that while Flask is suitable for a wide range of applications, it might not be the best choice for every project, especially large and complex applications where a more opinionated framework like Django might be preferred. The choice between Flask and other frameworks depends on the specific requirements and preferences of the development team"
   ]
  },
  {
   "cell_type": "markdown",
   "id": "1bdb6522-c889-4542-b90b-fda440b09014",
   "metadata": {},
   "source": [
    "Q2. Create a simple Flask application to display ‘Hello World!!’. Attach the screenshot of the output in\n",
    "Jupyter Notebook."
   ]
  },
  {
   "cell_type": "code",
   "execution_count": null,
   "id": "71a12b1a-e805-434c-9921-454b991fdad0",
   "metadata": {},
   "outputs": [],
   "source": [
    "from flask import Flask\n",
    "\n",
    "app = Flask(__name__)\n",
    "\n",
    "@app.route('/')\n",
    "def hello_world():\n",
    "    return 'Hello World!!'\n",
    "\n",
    "if __name__ == '__main__':\n",
    "    app.run(debug=True)\n"
   ]
  },
  {
   "cell_type": "raw",
   "id": "ad14ef72-bc3e-4a6b-bb3b-8cbae4306ee5",
   "metadata": {},
   "source": [
    "This will start the development server, and you should see output indicating that the server is running. You can then access the application in your web browser at http://127.0.0.1:5000/ and see the 'Hello World!!' message."
   ]
  },
  {
   "cell_type": "markdown",
   "id": "2d1627b8-ea40-4a32-9893-370c127286b1",
   "metadata": {},
   "source": [
    "Q3. What is App routing in Flask? Why do we use app routes?"
   ]
  },
  {
   "cell_type": "markdown",
   "id": "5f7ed577-3794-4b65-9392-bb52be1d0847",
   "metadata": {},
   "source": [
    "\n",
    "In Flask, app routing refers to the process of mapping URLs (Uniform Resource Locators) to specific functions or views in your application. This mapping is achieved using decorators provided by Flask. The primary decorator for defining routes is @app.route(), where app is an instance of the Flask application."
   ]
  },
  {
   "cell_type": "code",
   "execution_count": null,
   "id": "41f55b4b-f8bb-4c5d-9115-0b5a0c32231b",
   "metadata": {},
   "outputs": [],
   "source": [
    "from flask import Flask\n",
    "\n",
    "app = Flask(__name__)\n",
    "\n",
    "@app.route('/')\n",
    "def home():\n",
    "    return 'Welcome to the home page!'\n",
    "\n",
    "@app.route('/about')\n",
    "def about():\n",
    "    return 'This is the about page.'\n",
    "\n",
    "@app.route('/contact')\n",
    "def contact():\n",
    "    return 'Contact us at contact@example.com'\n",
    "\n",
    "if __name__ == '__main__':\n",
    "    app.run(debug=True)\n"
   ]
  },
  {
   "cell_type": "raw",
   "id": "2a6153dc-9c60-4abc-a0e5-5cccf050b22d",
   "metadata": {},
   "source": [
    "In this example, there are three routes defined using the @app.route() decorator. The routes are:\n",
    "\n",
    "/: This route is associated with the home() function, which returns a welcome message.\n",
    "\n",
    "/about: This route is associated with the about() function, which returns a message about the application.\n",
    "\n",
    "/contact: This route is associated with the contact() function, which provides contact information."
   ]
  },
  {
   "cell_type": "raw",
   "id": "f8a0fb78-23ac-4572-a431-d3f8ac7dba0b",
   "metadata": {},
   "source": [
    "\n",
    "In Flask, app routing refers to the process of mapping URLs (Uniform Resource Locators) to specific functions or views in your application. This mapping is achieved using decorators provided by Flask. The primary decorator for defining routes is @app.route(), where app is an instance of the Flask application.\n",
    "\n",
    "Here's a simple example:\n",
    "\n",
    "python\n",
    "Copy code\n",
    "from flask import Flask\n",
    "\n",
    "app = Flask(__name__)\n",
    "\n",
    "@app.route('/')\n",
    "def home():\n",
    "    return 'Welcome to the home page!'\n",
    "\n",
    "@app.route('/about')\n",
    "def about():\n",
    "    return 'This is the about page.'\n",
    "\n",
    "@app.route('/contact')\n",
    "def contact():\n",
    "    return 'Contact us at contact@example.com'\n",
    "\n",
    "if __name__ == '__main__':\n",
    "    app.run(debug=True)\n",
    "In this example, there are three routes defined using the @app.route() decorator. The routes are:\n",
    "\n",
    "/: This route is associated with the home() function, which returns a welcome message.\n",
    "\n",
    "/about: This route is associated with the about() function, which returns a message about the application.\n",
    "\n",
    "/contact: This route is associated with the contact() function, which provides contact information.\n",
    "\n",
    "Why do we use app routes?\n",
    "URL Mapping: App routes allow you to map specific URLs to corresponding views or functions in your application. This makes it easy to organize and structure your web application based on different functionalities.\n",
    "\n",
    "Separation of Concerns: Using app routes helps in maintaining a separation of concerns in your code. Each route handler (view function) can focus on a specific part of your application's functionality, making the codebase more modular and easier to understand.\n",
    "\n",
    "Code Reusability: By associating functions with specific routes, you can reuse code for handling similar types of requests. For example, you might have a common template or logic for rendering headers and footers that can be reused across multiple routes.\n",
    "\n",
    "RESTful APIs: For applications that serve as RESTful APIs, app routes are essential. Each route can represent a specific endpoint, and different HTTP methods (GET, POST, etc.) can be associated with different functions to handle the corresponding requests.\n",
    "\n",
    "Dynamic URLs: Flask app routes also support dynamic URLs by using variable parts in the route definition. This allows you to capture values from the URL and use them in your view functions."
   ]
  },
  {
   "cell_type": "markdown",
   "id": "b0c873ea-86ca-41ca-817b-173e4a54d30f",
   "metadata": {},
   "source": [
    "Q4. Create a “/welcome” route to display the welcome message “Welcome to ABC Corporation” and a “/”\n",
    "route to show the following details:\n",
    "Company Name: ABC Corporation\n",
    "Location: India\n",
    "Contact Detail: 999-999-9999\n",
    "Attach the screenshot of the output in Jupyter Notebook."
   ]
  },
  {
   "cell_type": "code",
   "execution_count": null,
   "id": "891c5d74-d400-41e6-be54-1c7c526731e8",
   "metadata": {},
   "outputs": [],
   "source": [
    "from flask import Flask, render_template\n",
    "\n",
    "app = Flask(__name__)\n",
    "\n",
    "@app.route('/welcome')\n",
    "def welcome():\n",
    "    return 'Welcome to ABC Corporation'\n",
    "\n",
    "@app.route('/')\n",
    "def company_details():\n",
    "    company_info = {\n",
    "        'name': 'ABC Corporation',\n",
    "        'location': 'India',\n",
    "        'contact': '999-999-9999'\n",
    "    }\n",
    "    return render_template('company_details.html', company_info=company_info)\n",
    "\n",
    "if __name__ == '__main__':\n",
    "    app.run(debug=True)\n"
   ]
  },
  {
   "cell_type": "code",
   "execution_count": null,
   "id": "41cff8e9-7dc6-4101-b803-0bf7f11d9f49",
   "metadata": {},
   "outputs": [],
   "source": [
    "<!DOCTYPE html>\n",
    "<html lang=\"en\">\n",
    "<head>\n",
    "    <meta charset=\"UTF-8\">\n",
    "    <meta http-equiv=\"X-UA-Compatible\" content=\"IE=edge\">\n",
    "    <meta name=\"viewport\" content=\"width=device-width, initial-scale=1.0\">\n",
    "    <title>Company Details</title>\n",
    "</head>\n",
    "<body>\n",
    "    <h1>Company Details</h1>\n",
    "    <p><strong>Company Name:</strong> {{ company_info.name }}</p>\n",
    "    <p><strong>Location:</strong> {{ company_info.location }}</p>\n",
    "    <p><strong>Contact Detail:</strong> {{ company_info.contact }}</p>\n",
    "</body>\n",
    "</html>\n"
   ]
  },
  {
   "cell_type": "raw",
   "id": "4b71bb40-d2e8-4905-9568-4f76e758e5c1",
   "metadata": {},
   "source": [
    "In the company_details.html template, we use Jinja2 templating to dynamically insert the company information.\n",
    "\n",
    "After saving both files, you can run your Flask application and access the routes in your browser:\n",
    "\n",
    "/welcome: Displays the welcome message.\n",
    "/: Shows the company details."
   ]
  },
  {
   "cell_type": "markdown",
   "id": "36354a41-1298-46b6-9c01-f95b2afa802b",
   "metadata": {},
   "source": [
    "Q5. What function is used in Flask for URL Building? Write a Python code to demonstrate the working of the\n",
    "url_for() function."
   ]
  },
  {
   "cell_type": "raw",
   "id": "e9c200f4-1be4-404a-b201-33dca357f297",
   "metadata": {},
   "source": [
    "\n",
    "In Flask, the url_for() function is used for URL building. It generates a URL for the specified endpoint, and it can also include any arguments required by the endpoint's route. This function is particularly useful because it allows you to avoid hardcoding URLs in your templates or view functions, making your code more maintainable."
   ]
  },
  {
   "cell_type": "code",
   "execution_count": null,
   "id": "a6316ec7-efdb-4413-9bda-dc638d56e94c",
   "metadata": {},
   "outputs": [],
   "source": [
    "from flask import Flask, url_for, render_template\n",
    "\n",
    "app = Flask(__name__)\n",
    "\n",
    "@app.route('/')\n",
    "def index():\n",
    "    # Using url_for to generate a URL for the 'welcome' endpoint\n",
    "    welcome_url = url_for('welcome')\n",
    "    \n",
    "    # Using url_for to generate a URL for the 'company_details' endpoint\n",
    "    company_details_url = url_for('company_details')\n",
    "\n",
    "    return render_template('index.html', welcome_url=welcome_url, company_details_url=company_details_url)\n",
    "\n",
    "@app.route('/welcome')\n",
    "def welcome():\n",
    "    return 'Welcome to ABC Corporation'\n",
    "\n",
    "@app.route('/company_details')\n",
    "def company_details():\n",
    "    return 'Company Details Page'\n",
    "\n",
    "if __name__ == '__main__':\n",
    "    app.run(debug=True)\n"
   ]
  },
  {
   "cell_type": "raw",
   "id": "0aaebe91-fa51-4348-8b52-127acfaf14c2",
   "metadata": {},
   "source": [
    "In this example, the index route generates URLs for the welcome and company_details endpoints using url_for(). It then renders an HTML template (index.html) that displays these URLs.\n",
    "\n",
    "Create a file named index.html with the following content:"
   ]
  },
  {
   "cell_type": "code",
   "execution_count": null,
   "id": "c43b00a3-349e-4d47-86ff-a8088673f22a",
   "metadata": {},
   "outputs": [],
   "source": [
    "<!DOCTYPE html>\n",
    "<html lang=\"en\">\n",
    "<head>\n",
    "    <meta charset=\"UTF-8\">\n",
    "    <meta http-equiv=\"X-UA-Compatible\" content=\"IE=edge\">\n",
    "    <meta name=\"viewport\" content=\"width=device-width, initial-scale=1.0\">\n",
    "    <title>URL Building Example</title>\n",
    "</head>\n",
    "<body>\n",
    "    <h1>URL Building Example</h1>\n",
    "    \n",
    "    <p>Click the links below:</p>\n",
    "    \n",
    "    <p><a href=\"{{ welcome_url }}\">Welcome Page</a></p>\n",
    "    <p><a href=\"{{ company_details_url }}\">Company Details Page</a></p>\n",
    "</body>\n",
    "</html>\n"
   ]
  },
  {
   "cell_type": "raw",
   "id": "74dc1da0-ace2-48df-90dd-0607ad11caf4",
   "metadata": {},
   "source": [
    "After saving both files, run your Flask application, and then access the root URL (http://127.0.0.1:5000/). You will see a page with links to the welcome and company details pages, and these links are generated dynamically using the url_for() function.\n",
    "\n",
    "This demonstrates how url_for() helps build "
   ]
  }
 ],
 "metadata": {
  "kernelspec": {
   "display_name": "Python 3 (ipykernel)",
   "language": "python",
   "name": "python3"
  },
  "language_info": {
   "codemirror_mode": {
    "name": "ipython",
    "version": 3
   },
   "file_extension": ".py",
   "mimetype": "text/x-python",
   "name": "python",
   "nbconvert_exporter": "python",
   "pygments_lexer": "ipython3",
   "version": "3.10.8"
  }
 },
 "nbformat": 4,
 "nbformat_minor": 5
}
