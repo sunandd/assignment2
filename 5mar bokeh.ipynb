{
 "cells": [
  {
   "cell_type": "markdown",
   "id": "5ac4f37c-8a7a-44ae-8451-2642534f9624",
   "metadata": {},
   "source": [
    "Q1. How can you create a Bokeh plot using Python code?"
   ]
  },
  {
   "cell_type": "code",
   "execution_count": 1,
   "id": "57464746-ca9b-4c90-b75e-4d15fb510597",
   "metadata": {},
   "outputs": [],
   "source": [
    "from bokeh.plotting import figure, show\n",
    "\n",
    "# prepare some data\n",
    "x = [1, 2, 3, 4, 5]\n",
    "y = [6, 7, 2, 4, 5]\n",
    "\n",
    "# create a new plot with a title and axis labels\n",
    "p = figure(title=\"Simple line example\", x_axis_label='x', y_axis_label='y')\n",
    "\n",
    "# add a line renderer with legend and line thickness\n",
    "p.line(x, y)\n",
    "\n",
    "# show the results\n",
    "show(p)\n"
   ]
  },
  {
   "cell_type": "markdown",
   "id": "5ae99660-2a6a-48bf-b359-67e1e62a9add",
   "metadata": {},
   "source": [
    "Q2. What are glyphs in Bokeh, and how can you add them to a Bokeh plot? Explain with an example."
   ]
  },
  {
   "cell_type": "code",
   "execution_count": 2,
   "id": "4a9de161-d4b5-4a25-84c0-f6a7c3814234",
   "metadata": {},
   "outputs": [],
   "source": [
    "from bokeh.plotting import figure, show\n",
    "\n",
    "# prepare some data\n",
    "x = [1, 2, 3, 4, 5]\n",
    "y = [6, 7, 2, 4, 5]\n",
    "\n",
    "# create a new plot with a title and axis labels\n",
    "p = figure(title=\"Simple line example\", x_axis_label='x', y_axis_label='y')\n",
    "\n",
    "# add a line renderer with legend and line thickness\n",
    "p.line(x, y)\n",
    "\n",
    "# show the results\n",
    "show(p)\n"
   ]
  },
  {
   "cell_type": "markdown",
   "id": "849171b3-b31d-4121-a18e-274c5b6e0dc7",
   "metadata": {},
   "source": [
    "Q3. How can you customize the appearance of a Bokeh plot, including the axes, title, and legend?"
   ]
  },
  {
   "cell_type": "markdown",
   "id": "e498367d-83b1-4bc4-9e97-159520ad469c",
   "metadata": {},
   "source": [
    "You can customize the appearance of a Bokeh plot, including the axes, title, and legend in several ways. For example, you can use Bokeh’s themes to quickly change the appearance of your plot. Themes are a set of pre-defined design parameters such as colors, fonts, or line styles. Bokeh comes with five built-in themes: caliber , dark_minimal, light_minimal, night_sky, and contrast . Additionally, you can define your own custom themes.\n",
    "\n",
    "You can also resize your plot by setting the width and height attributes when calling the figure() function. To make your plot automatically adjust to your browser or screen size, you can use the attribute sizing_mode.\n",
    "\n",
    "For customizing the legend, you can modify it using the legend attribute with the required property name. You can customize the legend with its several attributes such as location, color, line-color, font-size, font-style line width."
   ]
  },
  {
   "cell_type": "markdown",
   "id": "4f2e5767-a1e9-4950-bda8-05579a50733f",
   "metadata": {},
   "source": [
    "Q4. What is a Bokeh server, and how can you use it to create interactive plots that can be updated in\n",
    "real time?"
   ]
  },
  {
   "cell_type": "markdown",
   "id": "f8d51101-7f57-46fc-8d1d-d202b82bd8a1",
   "metadata": {},
   "source": [
    "A Bokeh server makes it easy to create interactive web applications that connect front-end UI events to running Python code. Bokeh creates high-level Python models, such as plots, ranges, axes, and glyphs, and then converts these objects to JSON to pass them to its client library, BokehJS.\n",
    "\n",
    "The primary purpose of the Bokeh server is to synchronize data between the underlying Python environment and the BokehJS library running in the browser. This allows you to respond to UI and tool events in the browser with computations or queries using the full power of Python, automatically push server-side updates to the UI elements such as widgets or plots in the browser, and use periodic, timeout, and asynchronous callbacks to drive streaming updates.\n",
    "\n",
    "You can use Bokeh Server to build complex dashboards and interactive applications. Some of the capabilities of the Bokeh server include UI widgets and plot selections that drive computations and plot updates, streaming live data to automatically updating plots, and intelligent server-side downsampling of large datasets"
   ]
  },
  {
   "cell_type": "markdown",
   "id": "4abe7b15-1df0-40a5-bf50-1baacbd7b545",
   "metadata": {},
   "source": [
    "Q5. How can you embed a Bokeh plot into a web page or dashboard using Flask or Django?"
   ]
  },
  {
   "cell_type": "markdown",
   "id": "96042d49-3f4f-44c8-a49e-60f67301430e",
   "metadata": {},
   "source": [
    "You can embed a Bokeh plot into a web page or dashboard using Flask or Django by importing components from bokeh.embed which returns the individual components. The function bokeh.embed.components() returns a script that contains the data for your plot with a <div> tag in which the plot view is loaded.\n",
    "\n",
    "For example, in Django, you can import Bokeh into your views.py and load the Bokeh js and css in your template. Then you can render the components created by Bokeh"
   ]
  }
 ],
 "metadata": {
  "kernelspec": {
   "display_name": "Python 3 (ipykernel)",
   "language": "python",
   "name": "python3"
  },
  "language_info": {
   "codemirror_mode": {
    "name": "ipython",
    "version": 3
   },
   "file_extension": ".py",
   "mimetype": "text/x-python",
   "name": "python",
   "nbconvert_exporter": "python",
   "pygments_lexer": "ipython3",
   "version": "3.10.8"
  }
 },
 "nbformat": 4,
 "nbformat_minor": 5
}
