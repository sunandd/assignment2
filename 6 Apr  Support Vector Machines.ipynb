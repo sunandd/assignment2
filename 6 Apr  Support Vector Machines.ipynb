{
 "cells": [
  {
   "cell_type": "markdown",
   "id": "746f33a2-f749-4df8-8af3-47d537eeda38",
   "metadata": {},
   "source": [
    "\n",
    "Q1. What is the mathematical formula for a linear SVM?"
   ]
  },
  {
   "cell_type": "markdown",
   "id": "c96ad1cd-d016-4b54-bb4d-4575d5d75a27",
   "metadata": {},
   "source": [
    "\n",
    "The mathematical formula for a linear Support Vector Machine (SVM) is typically expressed as\n",
    "\n",
    "w * x + b = 0\n",
    "\n",
    "Where:\n",
    "\n",
    "w is the weight vector (normal vector) perpendicular to the hyperplane.\n",
    "\n",
    "x represents the input feature vector.\n",
    "\n",
    "b is the bias or intercept term."
   ]
  },
  {
   "cell_type": "markdown",
   "id": "9b610eed-23fd-44e5-b660-9beda2d58d00",
   "metadata": {},
   "source": [
    "Q2. What is the objective function of a linear SVM?"
   ]
  },
  {
   "cell_type": "markdown",
   "id": "5d2c6b5f-8b7c-4cfe-a683-3f801b76014c",
   "metadata": {},
   "source": [
    "\n",
    "The objective function of a linear Support Vector Machine (SVM) is to find the parameters (weights and bias) that define the hyperplane that best separates the two classes of data while maximizing the margin between them. This can be expressed as an optimization problem with the following objective function:\n",
    "\n",
    "Minimize:\n",
    "\n",
    "(1/2) * ||w||^2\n",
    "\n",
    "yi(w * xi + b) >= 1 for all i = 1, 2, ..., n\n",
    "\n",
    "the objective function of a linear SVM combines the goal of finding a hyperplane that correctly separates the data with the goal of maximizing the margin between the classes. It achieves this by minimizing (1/2) * ||w||^2 subject to the margin constraints. This optimization problem is typically solved using techniques such as quadratic programming to find the optimal values of w and b"
   ]
  },
  {
   "cell_type": "markdown",
   "id": "bcaa324e-e5d0-498f-a0f0-2bce83c316de",
   "metadata": {},
   "source": [
    "Q3. What is the kernel trick in SVM?"
   ]
  },
  {
   "cell_type": "markdown",
   "id": "e64bda45-bcbb-447b-836d-2dc55cc21911",
   "metadata": {},
   "source": [
    "the kernel trick is a fundamental concept in Support Vector Machines (SVMs) that allows SVMs to handle non-linearly separable data by implicitly transforming it into a higher-dimensional feature space without explicitly computing and storing the transformed feature vectors. This transformation is achieved through the use of kernel functions.\n",
    "\n",
    "In linear SVMs, the decision boundary is a hyperplane that tries to separate the data into two classes. However, real-world data is often not perfectly linearly separable. The kernel trick addresses this limitation by projecting the data into a higher-dimensional space where it becomes linearly separable. The key idea is to define a kernel function that computes the inner product (dot product) between the feature vectors in this higher-dimensional space without explicitly calculating the transformed feature vectors.\n",
    "\n",
    "The general form of the decision boundary in the transformed feature space is still linear, but in the original feature space, it can represent complex, non-linear decision boundaries. The kernel trick effectively allows SVMs to model non-linear relationships between data points.\n",
    "\n",
    "Commonly used kernel functions include:\n",
    "\n",
    "Linear Kernel (No Transformation):\n",
    "\n",
    "K(x, x') = x * x'\n",
    "\n",
    "Polynomial Kernel:\n",
    "\n",
    "K(x, x') = (γ * (x * x') + r)^d\n",
    "\n",
    "Where γ is a scaling factor, r is a constant, and d is the degree of the polynomial.\n",
    "\n",
    "Radial Basis Function (RBF) or Gaussian Kernel:\n",
    "\n",
    "K(x, x') = exp(-γ * ||x - x'||^2)\n",
    "\n",
    "Where γ controls the width of the Gaussian.\n",
    "\n",
    "Sigmoid Kernel:\n",
    "\n",
    "K(x, x') = tanh(γ * (x * x') + r)\n",
    "\n",
    "Where γ and r are parameters that affect the shape of the decision boundary.\n",
    "\n",
    "By choosing an appropriate kernel function and its associated parameters, you can capture different types of non-linear relationships within the data. The kernel trick allows SVMs to be effective in a wide range of applications, including image classification, text classification, and more, where the data is often not linearly separable in the original feature space.\n",
    "\n",
    "Using the kernel trick, you can leverage the power of SVMs to find optimal hyperplanes in these higher-dimensional feature spaces without explicitly calculating the transformed feature vectors, making SVMs a versatile tool for both linear and non-linear classification tasks."
   ]
  },
  {
   "cell_type": "markdown",
   "id": "bcc13016-466e-472d-ae5c-b2875db50f72",
   "metadata": {},
   "source": [
    "Q4. What is the role of support vectors in SVM Explain with example"
   ]
  },
  {
   "cell_type": "markdown",
   "id": "100687c4-a48b-463d-8ae6-39ad23e4473d",
   "metadata": {},
   "source": [
    "Support vectors play a crucial role in Support Vector Machines (SVMs). They are the data points from the training dataset that are closest to the decision boundary (hyperplane) and have a direct impact on defining the hyperplane and the margin. Understanding support vectors is essential to grasp the key concept behind SVMs.\n",
    "\n",
    "Here's an explanation of the role of support vectors in SVMs with an example:\n",
    "\n",
    "Example:\n",
    "Let's consider a simple binary classification problem with two classes, \"A\" and \"B,\" and a two-dimensional feature space. We have a dataset with the following points:\n",
    "\n",
    "Class A:\n",
    "\n",
    "A1: (2, 3)\n",
    "A2: (3, 5)\n",
    "A3: (4, 2)\n",
    "Class B:\n",
    "\n",
    "B1: (6, 6)\n",
    "B2: (7, 5)\n",
    "B3: (8, 7)\n",
    "The objective of the SVM is to find a hyperplane that best separates these two classes. In this case, we have two classes in 2D space, so the hyperplane is a straight line. The support vectors are the data points closest to this separating line, and they have the smallest margin.\n",
    "\n",
    "Choose an Initial Hyperplane:\n",
    "Initially, you might have an arbitrary hyperplane. For simplicity, let's assume it is a vertical line between (x=4) and (x=5).\n",
    "\n",
    "Find Support Vectors:\n",
    "\n",
    "Support Vector 1 (SV1): A2 (3, 5) from Class A.\n",
    "Support Vector 2 (SV2): B1 (6, 6) from Class B.\n",
    "These are the closest points to the hyperplane, and they define the margin. The margin is the perpendicular distance from the hyperplane to the closest data point from either class.\n",
    "\n",
    "Optimize the Hyperplane:\n",
    "The SVM aims to maximize this margin while minimizing the classification error. The hyperplane is adjusted to achieve this. In this case, the optimized hyperplane might be a diagonal line that best separates the two classes while maximizing the margin.\n",
    "\n",
    "The final hyperplane might look like this:\n",
    "\n",
    "Weight vector (w) pointing from SV1 to SV2.\n",
    "Bias term (b) is determined based on the margin and the support vectors.\n",
    "Classification:\n",
    "After training, you can classify new data points based on which side of the hyperplane they fall. If a point falls on the side of SV1 and SV2 opposite to the direction of w, it belongs to Class A. Otherwise, it belongs to Class B.\n",
    "\n",
    "The support vectors, SV1 and SV2, are critical because they define the hyperplane's position and orientation. The margin is maximized based on their positions, and the SVM's generalization and robustness rely on these support vectors.\n",
    "\n",
    "In summary, support vectors are the data points that are closest to the decision boundary in an SVM. They define the margin and influence the position and orientation of the hyperplane, making them essential for the SVM's ability to classify new data accurately and generalize well."
   ]
  },
  {
   "cell_type": "markdown",
   "id": "6821bff9-3706-4100-b5ee-b414d3d16400",
   "metadata": {},
   "source": [
    "Q5. Illustrate with examples and graphs of Hyperplane, Marginal plane, Soft margin and Hard margin in\n",
    "SVM?"
   ]
  },
  {
   "cell_type": "markdown",
   "id": "b68b56a6-3a4d-4482-abf2-4014fbbfe2c9",
   "metadata": {},
   "source": [
    "1. Hyperplane:\n",
    "\n",
    "The hyperplane in SVM is the decision boundary that separates data points belonging to different classes.\n",
    "In a binary classification problem, it is a line (in 2D), a plane (in 3D), or a hyperplane (in higher dimensions).\n",
    "It is defined by the weight vector (w) and the bias term (b) in the equation: w * x + b = 0.\n",
    "2. Marginal Plane:\n",
    "\n",
    "The marginal plane is a plane parallel to the hyperplane that is defined by a margin, which is the distance between the hyperplane and the nearest data point.\n",
    "It helps visualize the margin in SVM.\n",
    "3. Hard Margin:\n",
    "\n",
    "A hard margin SVM aims to find a hyperplane that perfectly separates the two classes, with no misclassifications.\n",
    "It works well when data is linearly separable.\n",
    "Here's an example of a hard margin SVM in 2D:\n",
    "Hard Margin SVM\n",
    "\n",
    "In this example, the two classes (blue and red points) are perfectly separable with a straight line (hyperplane) in 2D space.\n",
    "4. Soft Margin:\n",
    "\n",
    "A soft margin SVM allows for some misclassifications to achieve a more robust and generalized model.\n",
    "It introduces a margin of tolerance for misclassifications, controlled by a parameter (C).\n",
    "Here's an example of a soft margin SVM in 2D:\n",
    "Soft Margin SVM\n",
    "\n",
    "In this example, there is some overlap between the two classes, so a hard margin is not possible. Instead, a soft margin SVM allows for a few misclassifications (the points within the margin) to find a more realistic decision boundary.\n",
    "The choice between hard margin and soft margin depends on the nature of the data. Hard margin SVMs are suitable when the data is perfectly separable, but in most real-world scenarios, data is not perfectly separable, and a soft margin SVM is preferred to accommodate some degree of noise and outliers.\n",
    "\n",
    "The margin represents the region where the SVM is most confident about its classification. The soft margin allows for some data points to fall within this region, while the hard margin requires all data points to be outside the margin, potentially leading to overfitting if the data is noisy."
   ]
  },
  {
   "cell_type": "markdown",
   "id": "a74fb3fc-bdd1-43f6-b8c5-43b8cb5e8232",
   "metadata": {},
   "source": [
    "Q6. SVM Implementation through Iris dataset."
   ]
  },
  {
   "cell_type": "markdown",
   "id": "fb60b011-2aae-4912-896d-009b126027b4",
   "metadata": {},
   "source": [
    "\n",
    "Bonus task: Implement a linear SVM classifier from scratch using Python and compare its\n",
    "performance with the scikit-learn implementation.\n",
    "~ Load the iris dataset from the scikit-learn library and split it into a training set and a testing setl\n",
    "~ Train a linear SVM classifier on the training set and predict the labels for the testing setl\n",
    "~ Compute the accuracy of the model on the testing setl\n",
    "~ Plot the decision boundaries of the trained model using two of the featuresl\n",
    "~ Try different values of the regularisation parameter C and see how it affects the performance of\n",
    "the model."
   ]
  },
  {
   "cell_type": "code",
   "execution_count": 7,
   "id": "c48c4697-81c8-4c4d-8966-ceb41880f46b",
   "metadata": {},
   "outputs": [],
   "source": [
    "import numpy as np\n",
    "import matplotlib.pyplot as plt\n",
    "from sklearn import datasets\n",
    "from sklearn.model_selection import train_test_split\n",
    "from sklearn import svm\n",
    "from sklearn.metrics import accuracy_score"
   ]
  },
  {
   "cell_type": "code",
   "execution_count": 8,
   "id": "9df49a73-2c87-486c-aaaf-6283492dec3b",
   "metadata": {},
   "outputs": [],
   "source": [
    "# Load the Iris dataset\n",
    "iris = datasets.load_iris()\n",
    "X = iris.data[:, :2]  # Using the first two features for simplicity\n",
    "y = iris.target\n"
   ]
  },
  {
   "cell_type": "code",
   "execution_count": 9,
   "id": "dbe7f730-1e5c-48e0-a68d-04cfbcdf7757",
   "metadata": {},
   "outputs": [],
   "source": [
    "# Split the dataset into a training set and a testing set\n",
    "X_train, X_test, y_train, y_test = train_test_split(X, y, test_size=0.3, random_state=42)\n"
   ]
  },
  {
   "cell_type": "code",
   "execution_count": 10,
   "id": "12b84593-86c4-4d42-adb6-2bf0592236a5",
   "metadata": {},
   "outputs": [
    {
     "data": {
      "text/html": [
       "<style>#sk-container-id-1 {color: black;background-color: white;}#sk-container-id-1 pre{padding: 0;}#sk-container-id-1 div.sk-toggleable {background-color: white;}#sk-container-id-1 label.sk-toggleable__label {cursor: pointer;display: block;width: 100%;margin-bottom: 0;padding: 0.3em;box-sizing: border-box;text-align: center;}#sk-container-id-1 label.sk-toggleable__label-arrow:before {content: \"▸\";float: left;margin-right: 0.25em;color: #696969;}#sk-container-id-1 label.sk-toggleable__label-arrow:hover:before {color: black;}#sk-container-id-1 div.sk-estimator:hover label.sk-toggleable__label-arrow:before {color: black;}#sk-container-id-1 div.sk-toggleable__content {max-height: 0;max-width: 0;overflow: hidden;text-align: left;background-color: #f0f8ff;}#sk-container-id-1 div.sk-toggleable__content pre {margin: 0.2em;color: black;border-radius: 0.25em;background-color: #f0f8ff;}#sk-container-id-1 input.sk-toggleable__control:checked~div.sk-toggleable__content {max-height: 200px;max-width: 100%;overflow: auto;}#sk-container-id-1 input.sk-toggleable__control:checked~label.sk-toggleable__label-arrow:before {content: \"▾\";}#sk-container-id-1 div.sk-estimator input.sk-toggleable__control:checked~label.sk-toggleable__label {background-color: #d4ebff;}#sk-container-id-1 div.sk-label input.sk-toggleable__control:checked~label.sk-toggleable__label {background-color: #d4ebff;}#sk-container-id-1 input.sk-hidden--visually {border: 0;clip: rect(1px 1px 1px 1px);clip: rect(1px, 1px, 1px, 1px);height: 1px;margin: -1px;overflow: hidden;padding: 0;position: absolute;width: 1px;}#sk-container-id-1 div.sk-estimator {font-family: monospace;background-color: #f0f8ff;border: 1px dotted black;border-radius: 0.25em;box-sizing: border-box;margin-bottom: 0.5em;}#sk-container-id-1 div.sk-estimator:hover {background-color: #d4ebff;}#sk-container-id-1 div.sk-parallel-item::after {content: \"\";width: 100%;border-bottom: 1px solid gray;flex-grow: 1;}#sk-container-id-1 div.sk-label:hover label.sk-toggleable__label {background-color: #d4ebff;}#sk-container-id-1 div.sk-serial::before {content: \"\";position: absolute;border-left: 1px solid gray;box-sizing: border-box;top: 0;bottom: 0;left: 50%;z-index: 0;}#sk-container-id-1 div.sk-serial {display: flex;flex-direction: column;align-items: center;background-color: white;padding-right: 0.2em;padding-left: 0.2em;position: relative;}#sk-container-id-1 div.sk-item {position: relative;z-index: 1;}#sk-container-id-1 div.sk-parallel {display: flex;align-items: stretch;justify-content: center;background-color: white;position: relative;}#sk-container-id-1 div.sk-item::before, #sk-container-id-1 div.sk-parallel-item::before {content: \"\";position: absolute;border-left: 1px solid gray;box-sizing: border-box;top: 0;bottom: 0;left: 50%;z-index: -1;}#sk-container-id-1 div.sk-parallel-item {display: flex;flex-direction: column;z-index: 1;position: relative;background-color: white;}#sk-container-id-1 div.sk-parallel-item:first-child::after {align-self: flex-end;width: 50%;}#sk-container-id-1 div.sk-parallel-item:last-child::after {align-self: flex-start;width: 50%;}#sk-container-id-1 div.sk-parallel-item:only-child::after {width: 0;}#sk-container-id-1 div.sk-dashed-wrapped {border: 1px dashed gray;margin: 0 0.4em 0.5em 0.4em;box-sizing: border-box;padding-bottom: 0.4em;background-color: white;}#sk-container-id-1 div.sk-label label {font-family: monospace;font-weight: bold;display: inline-block;line-height: 1.2em;}#sk-container-id-1 div.sk-label-container {text-align: center;}#sk-container-id-1 div.sk-container {/* jupyter's `normalize.less` sets `[hidden] { display: none; }` but bootstrap.min.css set `[hidden] { display: none !important; }` so we also need the `!important` here to be able to override the default hidden behavior on the sphinx rendered scikit-learn.org. See: https://github.com/scikit-learn/scikit-learn/issues/21755 */display: inline-block !important;position: relative;}#sk-container-id-1 div.sk-text-repr-fallback {display: none;}</style><div id=\"sk-container-id-1\" class=\"sk-top-container\"><div class=\"sk-text-repr-fallback\"><pre>SVC(kernel=&#x27;linear&#x27;)</pre><b>In a Jupyter environment, please rerun this cell to show the HTML representation or trust the notebook. <br />On GitHub, the HTML representation is unable to render, please try loading this page with nbviewer.org.</b></div><div class=\"sk-container\" hidden><div class=\"sk-item\"><div class=\"sk-estimator sk-toggleable\"><input class=\"sk-toggleable__control sk-hidden--visually\" id=\"sk-estimator-id-1\" type=\"checkbox\" checked><label for=\"sk-estimator-id-1\" class=\"sk-toggleable__label sk-toggleable__label-arrow\">SVC</label><div class=\"sk-toggleable__content\"><pre>SVC(kernel=&#x27;linear&#x27;)</pre></div></div></div></div></div>"
      ],
      "text/plain": [
       "SVC(kernel='linear')"
      ]
     },
     "execution_count": 10,
     "metadata": {},
     "output_type": "execute_result"
    }
   ],
   "source": [
    "# Train a linear SVM classifier\n",
    "clf = svm.SVC(kernel='linear', C=1.0)\n",
    "clf.fit(X_train, y_train)\n"
   ]
  },
  {
   "cell_type": "code",
   "execution_count": 11,
   "id": "7097180e-b22b-469b-a608-7e19e3de4116",
   "metadata": {},
   "outputs": [],
   "source": [
    "# Predict the labels for the testing set\n",
    "y_pred = clf.predict(X_test)\n"
   ]
  },
  {
   "cell_type": "code",
   "execution_count": 12,
   "id": "8801be49-1c03-4c25-8892-49e8a2192506",
   "metadata": {},
   "outputs": [
    {
     "name": "stdout",
     "output_type": "stream",
     "text": [
      "Accuracy: 0.8\n"
     ]
    }
   ],
   "source": [
    "# Compute the accuracy of the model on the testing set\n",
    "accuracy = accuracy_score(y_test, y_pred)\n",
    "print(\"Accuracy:\", accuracy)\n"
   ]
  },
  {
   "cell_type": "code",
   "execution_count": 13,
   "id": "abdc81b5-9604-4c6c-b2bc-1fa920e51c91",
   "metadata": {},
   "outputs": [],
   "source": [
    "# Plot the decision boundaries of the trained model using two features\n",
    "x_min, x_max = X[:, 0].min() - 1, X[:, 0].max() + 1\n",
    "y_min, y_max = X[:, 1].min() - 1, X[:, 1].max() + 1\n",
    "xx, yy = np.meshgrid(np.arange(x_min, x_max, 0.02), np.arange(y_min, y_max, 0.02))\n",
    "Z = clf.predict(np.c_[xx.ravel(), yy.ravel()])\n",
    "Z = Z.reshape(xx.shape)\n"
   ]
  },
  {
   "cell_type": "code",
   "execution_count": 14,
   "id": "60b38a5c-97bb-4663-bb03-f723527038f7",
   "metadata": {},
   "outputs": [
    {
     "data": {
      "image/png": "[encoded data removed]",
      "text/plain": [
       "<Figure size 640x480 with 1 Axes>"
      ]
     },
     "metadata": {},
     "output_type": "display_data"
    }
   ],
   "source": [
    "plt.contourf(xx, yy, Z, cmap=plt.cm.Paired, alpha=0.5)\n",
    "plt.scatter(X_test[:, 0], X_test[:, 1], c=y_test, cmap=plt.cm.Paired)\n",
    "plt.xlabel(\"Sepal Length\")\n",
    "plt.ylabel(\"Sepal Width\")\n",
    "plt.title(\"SVM Decision Boundaries\")\n",
    "plt.show()"
   ]
  },
  {
   "cell_type": "code",
   "execution_count": null,
   "id": "be3d440d-56f3-466f-82d4-a844c005c7d7",
   "metadata": {},
   "outputs": [],
   "source": []
  }
 ],
 "metadata": {
  "kernelspec": {
   "display_name": "Python 3 (ipykernel)",
   "language": "python",
   "name": "python3"
  },
  "language_info": {
   "codemirror_mode": {
    "name": "ipython",
    "version": 3
   },
   "file_extension": ".py",
   "mimetype": "text/x-python",
   "name": "python",
   "nbconvert_exporter": "python",
   "pygments_lexer": "ipython3",
   "version": "3.10.8"
  }
 },
 "nbformat": 4,
 "nbformat_minor": 5
}
