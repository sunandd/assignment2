{
 "cells": [
  {
   "cell_type": "markdown",
   "id": "e87fc4cd-806e-405b-8a59-0e46a5d73d3c",
   "metadata": {},
   "source": [
    "Q1 what is multithreading in python? hy is it used? Name the module used to handle threads in python\n"
   ]
  },
  {
   "cell_type": "raw",
   "id": "90914bb7-3256-4335-a2bc-9e84414c1e53",
   "metadata": {},
   "source": [
    "\n",
    "Multithreading in Python:\n",
    "\n",
    "Multithreading is a programming concept where multiple threads (smaller units of a process) execute concurrently within a single program. In Python, multithreading allows the execution of multiple threads in a shared memory space, enabling concurrent execution and parallelism. Each thread runs independently but shares the same resources, such as memory.\n",
    "\n",
    "Why is it used?\n",
    "\n",
    "Multithreading is used to achieve parallelism, making better use of CPU resources and potentially improving the performance of certain types of applications. It is particularly useful in scenarios where there are tasks that can be executed independently and concurrently.\n",
    "\n",
    "Common use cases for multithreading in Python include:\n",
    "\n",
    "Performing I/O operations, such as reading and writing to files or network communication, where waiting for I/O can be done concurrently with other tasks.\n",
    "Parallelizing computations that can be split into independent subtasks.\n",
    "Module Used to Handle Threads in Python:\n",
    "\n",
    "In Python, the threading module is commonly used to handle threads. This module provides a way to create and manage threads, synchronization mechanisms (such as locks and semaphores), and other tools for working with concurrent programming."
   ]
  },
  {
   "cell_type": "code",
   "execution_count": 1,
   "id": "c780688c-3a2d-4e05-a003-ab8724f63d0f",
   "metadata": {},
   "outputs": [
    {
     "name": "stdout",
     "output_type": "stream",
     "text": [
      "0\n",
      "1\n",
      "2\n",
      "3\n",
      "4\n",
      "A\n",
      "B\n",
      "C\n",
      "D\n",
      "E\n"
     ]
    }
   ],
   "source": [
    "import threading\n",
    "\n",
    "def print_numbers():\n",
    "    for i in range(5):\n",
    "        print(i)\n",
    "\n",
    "def print_letters():\n",
    "    for letter in 'ABCDE':\n",
    "        print(letter)\n",
    "\n",
    "# Create thread objects\n",
    "thread_numbers = threading.Thread(target=print_numbers)\n",
    "thread_letters = threading.Thread(target=print_letters)\n",
    "\n",
    "# Start threads\n",
    "thread_numbers.start()\n",
    "thread_letters.start()\n",
    "\n",
    "# Wait for threads to finish (optional)\n",
    "thread_numbers.join()\n",
    "thread_letters.join()\n"
   ]
  },
  {
   "cell_type": "raw",
   "id": "a0324bb6-73ac-484b-b46f-a561fb84daea",
   "metadata": {},
   "source": [
    "In this example, thread_numbers and thread_letters are two threads that run concurrently. The start() method initiates the execution of each thread, and join() is used to wait for the threads to complete (optional, depending on the application's requirements)."
   ]
  },
  {
   "cell_type": "markdown",
   "id": "f8f4b929-05f8-40bd-8817-45ef339490e7",
   "metadata": {},
   "source": [
    "Q2 why threading module used? rite the use of the following functions\n",
    "( activeCount\n",
    " currentThread\n",
    " enumerate)"
   ]
  },
  {
   "cell_type": "raw",
   "id": "d13a1056-449f-4b85-9e70-f8edbfe0aa58",
   "metadata": {},
   "source": [
    "Why Threading Module is Used:\n",
    "\n",
    "The threading module in Python is used for implementing multithreading. It provides a way to create, manage, and synchronize threads in a program. The primary reasons for using the threading module include:\n",
    "\n",
    "Concurrency: Allows multiple threads to run concurrently within a single program, enabling parallel execution of tasks.\n",
    "\n",
    "Parallelism: Utilizes multiple CPU cores to execute tasks simultaneously, improving performance for certain types of applications.\n",
    "\n",
    "Asynchronous Operations: Facilitates the execution of tasks asynchronously, which is beneficial for I/O-bound operations where threads can perform other tasks while waiting for I/O operations to complete.\n",
    "\n",
    "Improved Responsiveness: Can enhance the responsiveness of applications by separating time-consuming tasks into threads, preventing the main thread from being blocked.\n",
    "\n",
    "Usage of activeCount, currentThread, and enumerate Functions:\n",
    "\n",
    "activeCount() Function:\n",
    "\n",
    "The activeCount() function returns the number of Thread objects currently alive. It includes both daemon and non-daemon threads."
   ]
  },
  {
   "cell_type": "code",
   "execution_count": 2,
   "id": "fcf15aef-9ceb-40c8-a64e-2a7eaef652e8",
   "metadata": {},
   "outputs": [
    {
     "name": "stdout",
     "output_type": "stream",
     "text": [
      "Thread 1\n",
      "Thread 2\n",
      "Active threads: 8\n"
     ]
    },
    {
     "name": "stderr",
     "output_type": "stream",
     "text": [
      "/tmp/ipykernel_1120/1467876666.py:10: DeprecationWarning: activeCount() is deprecated, use active_count() instead\n",
      "  print(\"Active threads:\", threading.activeCount())\n"
     ]
    }
   ],
   "source": [
    "import threading\n",
    "\n",
    "# Create and start two threads\n",
    "thread1 = threading.Thread(target=lambda: print(\"Thread 1\"))\n",
    "thread2 = threading.Thread(target=lambda: print(\"Thread 2\"))\n",
    "thread1.start()\n",
    "thread2.start()\n",
    "\n",
    "# Print the number of active threads\n",
    "print(\"Active threads:\", threading.activeCount())\n"
   ]
  },
  {
   "cell_type": "raw",
   "id": "b394c648-9862-4a8b-b2b4-af0a691e3a4e",
   "metadata": {},
   "source": [
    "currentThread() Function:\n",
    "\n",
    "The currentThread() function returns the current Thread object corresponding to the caller."
   ]
  },
  {
   "cell_type": "code",
   "execution_count": 3,
   "id": "ea9cfeae-9917-449e-b273-035311c3d8dd",
   "metadata": {},
   "outputs": [
    {
     "name": "stdout",
     "output_type": "stream",
     "text": [
      "Current Thread: Thread-9 (print_current_thread)\n"
     ]
    },
    {
     "name": "stderr",
     "output_type": "stream",
     "text": [
      "/tmp/ipykernel_1120/1493824179.py:4: DeprecationWarning: currentThread() is deprecated, use current_thread() instead\n",
      "  current_thread = threading.currentThread()\n"
     ]
    }
   ],
   "source": [
    "import threading\n",
    "\n",
    "def print_current_thread():\n",
    "    current_thread = threading.currentThread()\n",
    "    print(\"Current Thread:\", current_thread.name)\n",
    "\n",
    "# Create and start a thread\n",
    "thread = threading.Thread(target=print_current_thread)\n",
    "thread.start()\n"
   ]
  },
  {
   "cell_type": "raw",
   "id": "392e3db6-30a2-45a2-938f-35b31a9b6d9d",
   "metadata": {},
   "source": [
    "enumerate() Function:\n",
    "\n",
    "The enumerate() function returns a list of all Thread objects currently alive. It includes both daemon and non-daemon threads."
   ]
  },
  {
   "cell_type": "code",
   "execution_count": 4,
   "id": "c9b54118-e6c3-4b76-9813-9425ad6771ad",
   "metadata": {},
   "outputs": [
    {
     "name": "stdout",
     "output_type": "stream",
     "text": [
      "Thread 1\n",
      "Thread 2\n",
      "Thread Name: MainThread\n",
      "Thread Name: IOPub\n",
      "Thread Name: Heartbeat\n",
      "Thread Name: Thread-3 (_watch_pipe_fd)\n",
      "Thread Name: Thread-4 (_watch_pipe_fd)\n",
      "Thread Name: Control\n",
      "Thread Name: IPythonHistorySavingThread\n",
      "Thread Name: Thread-2\n"
     ]
    }
   ],
   "source": [
    "import threading\n",
    "\n",
    "# Create and start two threads\n",
    "thread1 = threading.Thread(target=lambda: print(\"Thread 1\"))\n",
    "thread2 = threading.Thread(target=lambda: print(\"Thread 2\"))\n",
    "thread1.start()\n",
    "thread2.start()\n",
    "\n",
    "# Enumerate and print all active threads\n",
    "for thread in threading.enumerate():\n",
    "    print(\"Thread Name:\", thread.name)\n"
   ]
  },
  {
   "cell_type": "raw",
   "id": "3db5304a-4224-4aa0-9fbe-3c6c0790c548",
   "metadata": {},
   "source": [
    "These functions are useful for inspecting and managing threads in a multithreaded program. They provide information about the current state and number of active threads.```````````````````````````````````````````````"
   ]
  },
  {
   "cell_type": "markdown",
   "id": "dda6d013-d186-482a-b3d9-e0850056e564",
   "metadata": {},
   "source": [
    "Q3. Explain the following functions\n",
    "( run\n",
    " start\n",
    " join\n",
    "' isAlive)"
   ]
  },
  {
   "cell_type": "raw",
   "id": "b8cf11f3-9d8e-44a2-bc74-155432d6d431",
   "metadata": {},
   "source": [
    "run() Method:\n",
    "\n",
    "The run() method is part of the Thread class in Python. It represents the code to be executed by the thread when it is started using the start() method. You can override this method in your custom Thread subclass to define the thread's behavior."
   ]
  },
  {
   "cell_type": "code",
   "execution_count": 5,
   "id": "b6df3321-ac1a-42c0-9f65-54c009300a4a",
   "metadata": {},
   "outputs": [
    {
     "name": "stdout",
     "output_type": "stream",
     "text": [
      "Thread is running\n"
     ]
    }
   ],
   "source": [
    "import threading\n",
    "\n",
    "class MyThread(threading.Thread):\n",
    "    def run(self):\n",
    "        print(\"Thread is running\")\n",
    "\n",
    "# Create and start a thread\n",
    "my_thread = MyThread()\n",
    "my_thread.start()  # This calls the run() method\n"
   ]
  },
  {
   "cell_type": "raw",
   "id": "ecc6ac9d-3413-41a7-b681-8d5a130956ef",
   "metadata": {},
   "source": [
    "start() Method:\n",
    "\n",
    "The start() method is used to begin the execution of the thread. It internally calls the run() method, and the thread begins to run concurrently with the rest of the program."
   ]
  },
  {
   "cell_type": "code",
   "execution_count": 6,
   "id": "35f41c26-f320-4c47-940f-0f4ef24ba223",
   "metadata": {},
   "outputs": [
    {
     "name": "stdout",
     "output_type": "stream",
     "text": [
      "0\n",
      "1\n",
      "2\n",
      "3\n",
      "4\n"
     ]
    }
   ],
   "source": [
    "import threading\n",
    "\n",
    "def print_numbers():\n",
    "    for i in range(5):\n",
    "        print(i)\n",
    "\n",
    "# Create and start a thread\n",
    "thread_numbers = threading.Thread(target=print_numbers)\n",
    "thread_numbers.start()  # This starts the thread\n"
   ]
  },
  {
   "cell_type": "raw",
   "id": "62a0f853-1060-482c-871a-65fb17a18bee",
   "metadata": {},
   "source": [
    "join([timeout]) Method:\n",
    "\n",
    "The join() method is used to wait for the thread to finish its execution. If the timeout argument is specified, it represents the maximum number of seconds to wait for the thread to complete. If timeout is not provided, the calling thread will block until the thread being joined completes."
   ]
  },
  {
   "cell_type": "code",
   "execution_count": 7,
   "id": "acb1faef-ef6a-4b40-9eec-5cbc9a07c63b",
   "metadata": {},
   "outputs": [
    {
     "name": "stdout",
     "output_type": "stream",
     "text": [
      "0\n",
      "1\n",
      "2\n",
      "3\n",
      "4\n"
     ]
    }
   ],
   "source": [
    "import threading\n",
    "\n",
    "def print_numbers():\n",
    "    for i in range(5):\n",
    "        print(i)\n",
    "\n",
    "# Create and start a thread\n",
    "thread_numbers = threading.Thread(target=print_numbers)\n",
    "thread_numbers.start()\n",
    "\n",
    "# Wait for the thread to finish\n",
    "thread_numbers.join()\n"
   ]
  },
  {
   "cell_type": "raw",
   "id": "32e1769b-c745-4bc9-9a66-3f6260d244a4",
   "metadata": {},
   "source": [
    "isAlive() Method:\n",
    "\n",
    "The isAlive() method returns True if the thread is currently executing (i.e., it has been started and has not yet finished), and False otherwise."
   ]
  },
  {
   "cell_type": "code",
   "execution_count": null,
   "id": "5a694132-e29b-45c9-8eb1-36452b81e343",
   "metadata": {},
   "outputs": [],
   "source": [
    "import threading\n",
    "import time\n",
    "\n",
    "def my_function():\n",
    "    time.sleep(2)\n",
    "\n",
    "# Create and start a thread\n",
    "my_thread = threading.Thread(target=my_function)\n",
    "my_thread.start()\n",
    "\n",
    "# Check if the thread is alive\n",
    "print(\"Thread is alive:\", my_thread.isAlive())\n",
    "my_thread.join()  # Wait for the thread to finish\n",
    "print(\"Thread is alive:\", my_thread.isAlive())\n"
   ]
  },
  {
   "cell_type": "raw",
   "id": "c2096cea-f127-4ef6-967e-baf71077d575",
   "metadata": {},
   "source": [
    "Q4. rite a python program to create two threads. Thread one must print the list of squares and thread\n",
    "two must print the list of cubes"
   ]
  },
  {
   "cell_type": "code",
   "execution_count": 9,
   "id": "18bea578-1177-4d2d-bc0e-44955592147f",
   "metadata": {},
   "outputs": [
    {
     "name": "stdout",
     "output_type": "stream",
     "text": [
      "Square: 1 * 1 = 1\n",
      "Square: 2 * 2 = 4\n",
      "Square: 3 * 3 = 9\n",
      "Square: 4 * 4 = 16\n",
      "Square: 5 * 5 = 25\n",
      "Cube: 1 * 1 * 1 = 1\n",
      "Cube: 2 * 2 * 2 = 8\n",
      "Cube: 3 * 3 * 3 = 27\n",
      "Cube: 4 * 4 * 4 = 64\n",
      "Cube: 5 * 5 * 5 = 125\n",
      "Main thread exiting.\n"
     ]
    }
   ],
   "source": [
    "import threading\n",
    "\n",
    "def print_squares(numbers):\n",
    "    for number in numbers:\n",
    "        print(f\"Square: {number} * {number} = {number ** 2}\")\n",
    "\n",
    "def print_cubes(numbers):\n",
    "    for number in numbers:\n",
    "        print(f\"Cube: {number} * {number} * {number} = {number ** 3}\")\n",
    "\n",
    "if __name__ == \"__main__\":\n",
    "    numbers = [1, 2, 3, 4, 5]\n",
    "\n",
    "    # Create thread one for squares\n",
    "    thread_squares = threading.Thread(target=print_squares, args=(numbers,))\n",
    "\n",
    "    # Create thread two for cubes\n",
    "    thread_cubes = threading.Thread(target=print_cubes, args=(numbers,))\n",
    "\n",
    "    # Start both threads\n",
    "    thread_squares.start()\n",
    "    thread_cubes.start()\n",
    "\n",
    "    # Wait for both threads to finish (optional)\n",
    "    thread_squares.join()\n",
    "    thread_cubes.join()\n",
    "\n",
    "    print(\"Main thread exiting.\")\n"
   ]
  },
  {
   "cell_type": "raw",
   "id": "5113eab9-1b7b-4880-b524-b5c6dbcdcaef",
   "metadata": {},
   "source": [
    "print_squares is a function that takes a list of numbers and prints the square of each number.\n",
    "print_cubes is a function that takes a list of numbers and prints the cube of each number.\n",
    "Two threads (thread_squares and thread_cubes) are created with their respective target functions and arguments.\n",
    "Both threads are started using the start() method.\n",
    "The main thread waits for both threads to finish using the join() method (optional).\n",
    "The program prints \"Main thread exiting\" when the main thread completes.\n",
    "You can modify the numbers list or the target functions as needed for your specific use case."
   ]
  },
  {
   "cell_type": "markdown",
   "id": "41122bde-4030-4c34-9980-4775a5660d54",
   "metadata": {},
   "source": [
    "5. State advantages and disadvantages of multithreading"
   ]
  },
  {
   "cell_type": "raw",
   "id": "9e1ca8c3-18fb-415f-bc78-e95773976b16",
   "metadata": {},
   "source": [
    "\n",
    "Advantages of Multithreading:\n",
    "Improved Performance:\n",
    "\n",
    "One of the primary advantages of multithreading is improved performance. It allows concurrent execution of multiple threads, enabling parallelism and better utilization of CPU resources. This is particularly beneficial for tasks that can be split into independent subtasks.\n",
    "Responsiveness:\n",
    "\n",
    "Multithreading enhances the responsiveness of applications by preventing a single thread from blocking the entire program. Asynchronous operations can be performed in separate threads, allowing the main thread to remain responsive to user interactions.\n",
    "Resource Sharing:\n",
    "\n",
    "Threads within the same process share the same memory space, allowing them to easily share data and resources. This can simplify communication and data exchange between different parts of a program.\n",
    "Task Parallelism:\n",
    "\n",
    "Multithreading enables task parallelism, where different threads can execute different tasks concurrently. This is valuable for applications with multiple independent components or modules.\n",
    "Simplified Code Structure:\n",
    "\n",
    "Certain types of applications, such as those with a graphical user interface, benefit from multithreading by allowing the separation of background tasks from the main thread. This can result in cleaner and more modular code.\n",
    "Disadvantages of Multithreading:\n",
    "Complexity and Debugging:\n",
    "\n",
    "Multithreading introduces complexity, making code more challenging to write and debug. Issues such as race conditions, deadlocks, and data corruption may arise, requiring careful synchronization mechanisms.\n",
    "Resource Overhead:\n",
    "\n",
    "Creating and managing threads comes with some overhead, including additional memory usage and increased CPU consumption for context switching between threads. This can impact the overall performance of the application.\n",
    "Difficulty in Reproducing Bugs:\n",
    "\n",
    "Bugs related to multithreading may be difficult to reproduce consistently. The timing and interleaving of thread execution can vary, making it challenging to pinpoint and fix issues.\n",
    "Potential for Deadlocks:\n",
    "\n",
    "Deadlocks can occur when two or more threads are blocked, each waiting for the other to release a resource. Detecting and resolving deadlocks requires careful design and understanding of thread interactions.\n",
    "Thread Safety Challenges:\n",
    "\n",
    "Ensuring thread safety (preventing data corruption in shared resources) can be complex. Synchronization mechanisms, such as locks, may be necessary, but improper use can lead to performance bottlenecks or deadlock situations.\n",
    "Global Interpreter Lock (GIL) in CPython:\n",
    "\n",
    "In CPython (the reference implementation of Python), the Global Interpreter Lock (GIL) limits the execution of multiple threads in parallel. This means that multithreading may not provide significant performance improvements in CPU-bound tasks in certain Python applications.\n",
    "In summary, while multithreading offers advantages in terms of performance and responsiveness, it also introduces challenges related to complexity, debugging, and ensuring thread safety. The decision to use multithreading should be carefully considered based on the specific requirements and characteristics of the application."
   ]
  },
  {
   "cell_type": "markdown",
   "id": "213965a0-739a-43dc-a6b9-a16b84d5b786",
   "metadata": {},
   "source": [
    "6. Explain deadlocks and race conditions."
   ]
  },
  {
   "cell_type": "raw",
   "id": "5ebe09ad-a05e-44ed-8496-cd6168d5cf5e",
   "metadata": {},
   "source": [
    "\n",
    "Deadlocks:\n",
    "\n",
    "A deadlock is a situation in computing where two or more processes are unable to proceed because each is waiting for the other to release a resource. In other words, a set of processes is blocked or waiting for resources held by other processes, and none of them can proceed.\n",
    "\n",
    "There are four necessary conditions for a deadlock to occur, known as the Coffman conditions:\n",
    "\n",
    "Mutual Exclusion: At least one resource must be held in a non-sharable mode, meaning only one process can use it at a time.\n",
    "Hold and Wait: A process must be holding at least one resource and waiting to acquire additional resources held by other processes.\n",
    "No Preemption: Resources cannot be forcibly taken away from a process. A process must release its resources voluntarily.\n",
    "Circular Wait: There must exist a circular chain of processes, where each process in the chain is waiting for a resource held by the next process in the chain.\n",
    "When these conditions are met, a deadlock can occur. Deadlocks can be challenging to detect and resolve. Strategies for avoiding deadlocks include careful resource allocation, enforcing a partial order on resource acquisition, and using mechanisms like timeouts or deadlock detection algorithms.\n",
    "\n",
    "Race Conditions:\n",
    "\n",
    "A race condition occurs in a concurrent system when the behavior of the system depends on the relative timing of events, such as the order of execution of threads or processes. It arises when two or more threads access shared data concurrently, and at least one of them modifies the data. The result of the computation depends on the timing, order, or interleaving of the threads."
   ]
  },
  {
   "cell_type": "code",
   "execution_count": 10,
   "id": "5659b95c-8ed6-4fdd-b45b-ea07414408e3",
   "metadata": {},
   "outputs": [
    {
     "name": "stdout",
     "output_type": "stream",
     "text": [
      "Final Counter Value: 2000000\n"
     ]
    }
   ],
   "source": [
    "# Shared variable\n",
    "counter = 0\n",
    "\n",
    "def increment_counter():\n",
    "    global counter\n",
    "    for _ in range(1000000):\n",
    "        counter += 1\n",
    "\n",
    "# Create two threads to increment the counter concurrently\n",
    "import threading\n",
    "\n",
    "thread1 = threading.Thread(target=increment_counter)\n",
    "thread2 = threading.Thread(target=increment_counter)\n",
    "\n",
    "thread1.start()\n",
    "thread2.start()\n",
    "\n",
    "thread1.join()\n",
    "thread2.join()\n",
    "\n",
    "print(\"Final Counter Value:\", counter)\n"
   ]
  },
  {
   "cell_type": "raw",
   "id": "a474b004-f22b-4e20-9ed8-7a625d8660bc",
   "metadata": {},
   "source": [
    "In this example, two threads increment the counter variable concurrently. Due to the lack of synchronization mechanisms, a race condition occurs, and the final value of counter may be unpredictable.\n",
    "\n",
    "Preventing race conditions often involves using synchronization mechanisms, such as locks or mutexes, to ensure that only one thread at a time can access or modify shared data. Proper synchronization helps maintain data integrity and prevents unpredictable behavior in concurrent systems."
   ]
  },
  {
   "cell_type": "code",
   "execution_count": null,
   "id": "f80c6686-2312-4613-a6b0-633e88d9f21c",
   "metadata": {},
   "outputs": [],
   "source": []
  }
 ],
 "metadata": {
  "kernelspec": {
   "display_name": "Python 3 (ipykernel)",
   "language": "python",
   "name": "python3"
  },
  "language_info": {
   "codemirror_mode": {
    "name": "ipython",
    "version": 3
   },
   "file_extension": ".py",
   "mimetype": "text/x-python",
   "name": "python",
   "nbconvert_exporter": "python",
   "pygments_lexer": "ipython3",
   "version": "3.10.8"
  }
 },
 "nbformat": 4,
 "nbformat_minor": 5
}
