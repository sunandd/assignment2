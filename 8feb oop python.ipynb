{
 "cells": [
  {
   "cell_type": "markdown",
   "id": "983f8f18-ba76-46d0-b3aa-39b77cb17e7e",
   "metadata": {},
   "source": [
    "Q1. What is Abstraction in OOps? Explain with an example."
   ]
  },
  {
   "cell_type": "markdown",
   "id": "deba7350-7e19-4ec5-b1e7-494fedc4cbfe",
   "metadata": {},
   "source": [
    "Abstraction is one of the fundamental principles of object-oriented programming (OOP). It involves the concept of simplifying complex systems by modeling classes based on the essential properties and behaviors relevant to the application, while ignoring or hiding the unnecessary details.\n",
    "\n",
    "In OOP, abstraction allows you to focus on what an object does rather than how it achieves its functionality. It involves creating abstract classes and interfaces that define the common properties and methods shared by a group of related objects, without specifying the implementation details. The implementation details are left to the concrete classes that inherit from these abstract classes or implement the interfaces."
   ]
  },
  {
   "cell_type": "code",
   "execution_count": 3,
   "id": "3234978b-44ac-415b-97cd-1d4cd636d117",
   "metadata": {},
   "outputs": [
    {
     "name": "stdout",
     "output_type": "stream",
     "text": [
      "Area of Circle: 78.53981633974483\n",
      "Area of Rectangle: 24\n"
     ]
    }
   ],
   "source": [
    "from abc import ABC, abstractmethod\n",
    "from math import pi\n",
    "\n",
    "# Abstract class representing a Shape\n",
    "class Shape(ABC):\n",
    "    # Abstract method to calculate area\n",
    "    @abstractmethod\n",
    "    def calculate_area(self):\n",
    "        pass\n",
    "\n",
    "# Concrete class representing a Circle\n",
    "class Circle(Shape):\n",
    "    def __init__(self, radius):\n",
    "        self.radius = radius\n",
    "\n",
    "    # Implementation of abstract method to calculate area for a Circle\n",
    "    def calculate_area(self):\n",
    "        return pi * self.radius**2\n",
    "\n",
    "# Concrete class representing a Rectangle\n",
    "class Rectangle(Shape):\n",
    "    def __init__(self, length, width):\n",
    "        self.length = length\n",
    "        self.width = width\n",
    "\n",
    "    # Implementation of abstract method to calculate area for a Rectangle\n",
    "    def calculate_area(self):\n",
    "        return self.length * self.width\n",
    "\n",
    "# Main part of the code to demonstrate abstraction\n",
    "if __name__ == \"__main__\":\n",
    "    # Creating objects of concrete classes\n",
    "    circle = Circle(5)\n",
    "    rectangle = Rectangle(4, 6)\n",
    "\n",
    "    # Calculating and displaying areas using abstraction\n",
    "    print(\"Area of Circle:\", circle.calculate_area())\n",
    "    print(\"Area of Rectangle:\", rectangle.calculate_area())\n"
   ]
  },
  {
   "cell_type": "markdown",
   "id": "4c689833-2384-422c-afbc-aa4e07cfb478",
   "metadata": {},
   "source": [
    "In this Python code, we use the ABC (Abstract Base Class) module to define the abstract class Shape. The @abstractmethod decorator is used to declare the abstract method calculate_area. The concrete classes Circle and Rectangle then inherit from the abstract class and provide their own implementations of the calculate_area method."
   ]
  },
  {
   "cell_type": "markdown",
   "id": "aeb6f4d6-aa99-4a84-8e3a-21191ab17b17",
   "metadata": {},
   "source": [
    "Q2. Differentiate between Abstraction and Encapsulation. Explain with an example."
   ]
  },
  {
   "cell_type": "markdown",
   "id": "3238e93d-2c7c-4e0f-8280-e39bd531fc88",
   "metadata": {},
   "source": [
    "Abstraction and encapsulation are two important concepts in object-oriented programming (OOP), but they serve different purposes.\n",
    "\n",
    "Abstraction:\n",
    "\n",
    "Definition: Abstraction involves simplifying complex systems by modeling classes based on their essential properties and behaviors, while hiding unnecessary details.\n",
    "Purpose: It helps in focusing on what an object does rather than how it achieves its functionality. Abstraction provides a way to create abstract classes and interfaces that define the common properties and methods shared by a group of related objects.\n",
    "Example: In the previous example, the Shape class is an abstraction that defines the common method calculate_area() without specifying how each specific shape should calculate its area. Concrete classes like Circle and Rectangle provide their own implementations.\n",
    "Encapsulation:\n",
    "\n",
    "Definition: Encapsulation involves bundling the data (attributes) and the methods (functions) that operate on the data into a single unit called a class. It also includes restricting access to some of an object's components, controlling the level of visibility.\n",
    "Purpose: It helps in achieving data hiding, protecting the internal state of an object from outside interference. Encapsulation allows the object to manage its own state, and changes to the internal representation can be made without affecting the external code that uses the class.\n",
    "Example: Consider a class Person that has private attributes like name and age. Encapsulation ensures that these attributes are not directly accessible from outside the class. Instead, methods like get_name() and set_age() are used to interact with or modify these attributes. This way, the internal representation of a Person object is encapsulated."
   ]
  },
  {
   "cell_type": "code",
   "execution_count": 4,
   "id": "842ed57f-4ebd-46a7-9d76-b8a49253deed",
   "metadata": {},
   "outputs": [
    {
     "name": "stdout",
     "output_type": "stream",
     "text": [
      "Name: John\n"
     ]
    }
   ],
   "source": [
    "class Person:\n",
    "    def __init__(self, name, age):\n",
    "        self.__name = name  # private attribute\n",
    "        self.__age = age    # private attribute\n",
    "\n",
    "    def get_name(self):\n",
    "        return self.__name\n",
    "\n",
    "    def set_age(self, age):\n",
    "        if age > 0:\n",
    "            self.__age = age\n",
    "\n",
    "# Usage\n",
    "person = Person(\"John\", 30)\n",
    "\n",
    "# Accessing attributes through methods\n",
    "print(\"Name:\", person.get_name())\n",
    "\n",
    "# Modifying age using a method\n",
    "person.set_age(31)\n"
   ]
  },
  {
   "cell_type": "markdown",
   "id": "311b2410-1032-4763-80d4-0e4867299ef7",
   "metadata": {},
   "source": [
    "In this example, the name and age attributes are encapsulated within the Person class. Access to these attributes is controlled through getter and setter methods (get_name() and set_age()), providing a level of encapsulation that protects the internal state of the object."
   ]
  },
  {
   "cell_type": "markdown",
   "id": "e15789a1-58d1-4df2-a641-7681b548c614",
   "metadata": {},
   "source": [
    "Q3. What is abc module in python? Why is it used?"
   ]
  },
  {
   "cell_type": "markdown",
   "id": "7b1a73ef-8d27-46c1-be0c-8489bbdf0970",
   "metadata": {},
   "source": [
    "The abc module in Python stands for \"Abstract Base Classes.\" It provides the infrastructure for defining abstract base classes in Python. An abstract base class (ABC) is a class that cannot be instantiated and is meant to be subclassed by other classes. The abc module allows you to define abstract methods and abstract properties in a class, ensuring that derived classes provide concrete implementations for these methods and properties.\n",
    "\n",
    "Key components of the abc module include:\n",
    "\n",
    "ABC Class:\n",
    "\n",
    "The ABC class is the base class for defining abstract base classes. You can subclass ABC to create your own abstract base classes.\n",
    "abstractmethod Decorator:\n",
    "\n",
    "The abstractmethod decorator is used to declare abstract methods within an abstract base class. These methods must be implemented by any concrete (non-abstract) subclass.\n",
    "abstractproperty Function:\n",
    "\n",
    "The abstractproperty function is used to declare abstract properties in an abstract base class. Similar to abstractmethod, it ensures that concrete subclasses provide a concrete implementation for the property.\n",
    "The abc module is used for several purposes:\n",
    "\n",
    "Enforcing Interface Contracts: By using abstract base classes, you can define a common interface that must be implemented by all concrete subclasses. This helps in enforcing a contract among the derived classes.\n",
    "\n",
    "Code Organization: Abstract base classes can be useful for organizing code and making it more modular. They provide a clear structure for defining common behaviors that must be implemented by different classes.\n",
    "\n",
    "Documentation and Readability: Abstract base classes make the code more readable by explicitly specifying the methods and properties that subclasses are expected to provide."
   ]
  },
  {
   "cell_type": "code",
   "execution_count": 5,
   "id": "e454a26c-0233-45de-99b5-2a490520f400",
   "metadata": {},
   "outputs": [
    {
     "name": "stdout",
     "output_type": "stream",
     "text": [
      "Area of Circle: 78.5\n",
      "Area of Rectangle: 24\n"
     ]
    }
   ],
   "source": [
    "from abc import ABC, abstractmethod, abstractproperty\n",
    "\n",
    "class Shape(ABC):\n",
    "    @abstractmethod\n",
    "    def area(self):\n",
    "        pass\n",
    "\n",
    "    @abstractproperty\n",
    "    def name(self):\n",
    "        pass\n",
    "\n",
    "class Circle(Shape):\n",
    "    def __init__(self, radius):\n",
    "        self.radius = radius\n",
    "\n",
    "    def area(self):\n",
    "        return 3.14 * self.radius**2\n",
    "\n",
    "    @property\n",
    "    def name(self):\n",
    "        return \"Circle\"\n",
    "\n",
    "class Rectangle(Shape):\n",
    "    def __init__(self, length, width):\n",
    "        self.length = length\n",
    "        self.width = width\n",
    "\n",
    "    def area(self):\n",
    "        return self.length * self.width\n",
    "\n",
    "    @property\n",
    "    def name(self):\n",
    "        return \"Rectangle\"\n",
    "\n",
    "# Usage\n",
    "circle = Circle(5)\n",
    "rectangle = Rectangle(4, 6)\n",
    "\n",
    "print(f\"Area of {circle.name}: {circle.area()}\")\n",
    "print(f\"Area of {rectangle.name}: {rectangle.area()}\")\n"
   ]
  },
  {
   "cell_type": "markdown",
   "id": "984f6fb2-475a-44e4-8876-cfcec9f91911",
   "metadata": {},
   "source": [
    "In this example, the Shape class is an abstract base class with abstract methods area and name. The concrete classes Circle and Rectangle then provide concrete implementations for these methods.\n",
    "\n",
    "\n",
    "\n",
    "\n",
    "\n"
   ]
  },
  {
   "cell_type": "markdown",
   "id": "01fdab09-3503-4fa7-a86e-964c96383b46",
   "metadata": {},
   "source": [
    "Q4. How can we achieve data abstraction?"
   ]
  },
  {
   "cell_type": "markdown",
   "id": "a246d283-eb5e-4d79-99ea-ce57d8a9b29b",
   "metadata": {},
   "source": [
    "Data abstraction in programming is achieved through a combination of techniques that focus on hiding the complex implementation details of data and exposing only the essential features. In object-oriented programming (OOP), data abstraction is often associated with the use of abstract classes and interfaces. Here are some key principles and techniques to achieve data abstraction:\n",
    "\n",
    "Abstract Classes and Interfaces:\n",
    "\n",
    "Define abstract classes or interfaces that declare the essential properties and methods without specifying their implementation details.\n",
    "Abstract classes can have both abstract (unimplemented) and concrete (implemented) methods, while interfaces only declare abstract methods.\n",
    "Encapsulation:\n",
    "\n",
    "Use encapsulation to bundle data (attributes) and methods (functions) that operate on the data into a single unit (class).\n",
    "Control access to the internal data by providing public methods (getters and setters) to interact with the data, while hiding the implementation details.\n",
    "Access Modifiers:\n",
    "\n",
    "Use access modifiers (such as private, protected, public) to control the visibility of data members and methods.\n",
    "Keep the implementation details private (accessible only within the class), exposing only what is necessary for external use.\n",
    "Constructor Overloading:\n",
    "\n",
    "Use constructor overloading to provide different ways of initializing an object, allowing the user to choose a suitable way to create an instance of a class.\n",
    "Polymorphism:\n",
    "\n",
    "Utilize polymorphism, which allows objects of different classes to be treated as objects of a common base class.\n",
    "This promotes code reuse and flexibility, enabling the use of a common interface for different data types.\n",
    "Abstraction Using Functions:\n",
    "\n",
    "In non-OOP languages or scenarios, abstraction can be achieved by defining functions that operate on data and hide the implementation details.\n",
    "Keep the function interfaces simple and focus on providing a clear, high-level view of the operations."
   ]
  },
  {
   "cell_type": "code",
   "execution_count": 6,
   "id": "9e7a560e-631e-4072-96f1-ee8c662ccfbc",
   "metadata": {},
   "outputs": [
    {
     "name": "stdout",
     "output_type": "stream",
     "text": [
      "Account Number: 123456\n",
      "Initial Balance: 1000\n",
      "Balance after deposit: 1500\n",
      "Balance after withdrawal: 1300\n"
     ]
    }
   ],
   "source": [
    "class BankAccount:\n",
    "    def __init__(self, account_number, balance):\n",
    "        self.__account_number = account_number  # Private attribute\n",
    "        self.__balance = balance                # Private attribute\n",
    "\n",
    "    def get_account_number(self):\n",
    "        return self.__account_number\n",
    "\n",
    "    def get_balance(self):\n",
    "        return self.__balance\n",
    "\n",
    "    def deposit(self, amount):\n",
    "        if amount > 0:\n",
    "            self.__balance += amount\n",
    "\n",
    "    def withdraw(self, amount):\n",
    "        if amount > 0 and amount <= self.__balance:\n",
    "            self.__balance -= amount\n",
    "\n",
    "# Usage\n",
    "account = BankAccount(\"123456\", 1000)\n",
    "\n",
    "print(\"Account Number:\", account.get_account_number())\n",
    "print(\"Initial Balance:\", account.get_balance())\n",
    "\n",
    "account.deposit(500)\n",
    "print(\"Balance after deposit:\", account.get_balance())\n",
    "\n",
    "account.withdraw(200)\n",
    "print(\"Balance after withdrawal:\", account.get_balance())\n"
   ]
  },
  {
   "cell_type": "markdown",
   "id": "9f703ed9-507e-4e40-9a80-4baad2cd76f5",
   "metadata": {},
   "source": [
    "In this example, the BankAccount class encapsulates the account number and balance as private attributes, and access to them is controlled through getter methods. The user interacts with the object using the public methods (deposit and withdraw), abstracting away the internal details of the implementation."
   ]
  },
  {
   "cell_type": "markdown",
   "id": "8555910f-ade7-4761-9777-6c6639b37def",
   "metadata": {},
   "source": [
    "Q5. Can we create an instance of an abstract class? Explain your answer."
   ]
  },
  {
   "cell_type": "markdown",
   "id": "4102752b-89be-422c-ad3d-6d7562dfa6d1",
   "metadata": {},
   "source": [
    "No, you cannot create an instance of an abstract class in most object-oriented programming languages, including Python. Abstract classes are meant to be incomplete and serve as a blueprint for other classes. They often contain abstract methods, which are methods without an implementation. Since abstract classes are incomplete, they cannot be instantiated on their own.\n",
    "\n",
    "In Python, if you try to create an instance of an abstract class that has abstract methods, you will encounter a TypeError. The abc module in Python provides the infrastructure for creating abstract base classes and enforcing the implementation of abstract methods in concrete subclasses."
   ]
  },
  {
   "cell_type": "code",
   "execution_count": 7,
   "id": "7d93713d-4b34-4019-a1d0-3d516ae4a0d5",
   "metadata": {},
   "outputs": [
    {
     "name": "stdout",
     "output_type": "stream",
     "text": [
      "TypeError: Can't instantiate abstract class MyAbstractClass with abstract method my_abstract_method\n"
     ]
    }
   ],
   "source": [
    "from abc import ABC, abstractmethod\n",
    "\n",
    "# Abstract class with an abstract method\n",
    "class MyAbstractClass(ABC):\n",
    "    @abstractmethod\n",
    "    def my_abstract_method(self):\n",
    "        pass\n",
    "\n",
    "# Attempting to create an instance of the abstract class\n",
    "try:\n",
    "    instance = MyAbstractClass()  # This will raise a TypeError\n",
    "except TypeError as e:\n",
    "    print(f\"TypeError: {e}\")\n"
   ]
  },
  {
   "cell_type": "markdown",
   "id": "1fc43f49-4d17-4b1c-967e-cb5833f55324",
   "metadata": {},
   "source": [
    "In this example, attempting to create an instance of MyAbstractClass will result in a TypeError with a message similar to \"Can't instantiate abstract class MyAbstractClass with abstract methods my_abstract_method.\"\n",
    "\n",
    "To use an abstract class, you need to create a concrete subclass that inherits from the abstract class and provides implementations for all the abstract methods. Instances of the concrete subclass can then be created."
   ]
  },
  {
   "cell_type": "code",
   "execution_count": null,
   "id": "22e52d37-96f2-4d8c-8235-e5b8e58defee",
   "metadata": {},
   "outputs": [],
   "source": []
  }
 ],
 "metadata": {
  "kernelspec": {
   "display_name": "Python 3 (ipykernel)",
   "language": "python",
   "name": "python3"
  },
  "language_info": {
   "codemirror_mode": {
    "name": "ipython",
    "version": 3
   },
   "file_extension": ".py",
   "mimetype": "text/x-python",
   "name": "python",
   "nbconvert_exporter": "python",
   "pygments_lexer": "ipython3",
   "version": "3.10.8"
  }
 },
 "nbformat": 4,
 "nbformat_minor": 5
}
